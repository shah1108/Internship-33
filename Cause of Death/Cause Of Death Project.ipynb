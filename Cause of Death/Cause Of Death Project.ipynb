{
 "cells": [
  {
   "cell_type": "markdown",
   "id": "2f14f1d3",
   "metadata": {},
   "source": [
    "# Cause Of Death Project"
   ]
  },
  {
   "cell_type": "markdown",
   "id": "1190fdfe",
   "metadata": {},
   "source": [
    "A straightforward way to assess the health status of a population is to focus on mortality – or concepts like child mortality or life expectancy, which are based on mortality estimates. A focus on mortality, however, does not take into account that the burden of diseases is not only that they kill people, but that they cause suffering to people who live with them. Assessing health outcomes by both mortality and morbidity (the prevalent diseases) provides a more encompassing view on health outcomes. This is the topic of this entry. The sum of mortality and morbidity is referred to as the ‘burden of disease’ and can be measured by a metric called ‘Disability Adjusted Life Years‘ (DALYs). DALYs are measuring lost health and are a standardized metric that allow for direct comparisons of disease burdens of different diseases across countries, between different populations, and over time. Conceptually, one DALY is the equivalent of losing one year in good health because of either premature death or disease or disability. One DALY represents one lost year of healthy life. The first ‘Global Burden of Disease’ (GBD) was GBD 1990 and the DALY metric was prominently featured in the World Bank’s 1993 World Development Report. Today it is published by both the researchers at the Institute of Health Metrics and Evaluation (IHME) and the ‘Disease Burden Unit’ at the World Health Organization (WHO), which was created in 1998. The IHME continues the work that was started in the early 1990s and publishes the Global Burden of Disease study.\n",
    "Content\n",
    "In this Dataset, we have Historical Data of different cause of deaths for all ages around the World. The key features of this Dataset are: Meningitis, Alzheimer's Disease and Other Dementias, Parkinson's Disease, Nutritional Deficiencies, Malaria, Drowning, Interpersonal Violence, Maternal Disorders, HIV/AIDS, Drug Use Disorders, Tuberculosis, Cardiovascular Diseases, Lower Respiratory Infections, Neonatal Disorders, Alcohol Use Disorders, Self-harm, Exposure to Forces of Nature, Diarrheal Diseases, Environmental Heat and Cold Exposure, Neoplasms, Conflict and Terrorism, Diabetes Mellitus, Chronic Kidney Disease, Poisonings, Protein-Energy Malnutrition, Road Injuries, Chronic Respiratory Diseases, Cirrhosis and Other Chronic Liver Diseases, Digestive Diseases, Fire, Heat, and Hot Substances, Acute Hepatitis.\n"
   ]
  },
  {
   "cell_type": "markdown",
   "id": "3f11ee67",
   "metadata": {},
   "source": [
    "Dataset Glossary (Column-wise)\n",
    "•\t01. Country/Territory - Name of the Country/Territory\n",
    "•\t02. Code - Country/Territory Code\n",
    "•\t03. Year - Year of the Incident\n",
    "•\t04. Meningitis - No. of People died from Meningitis\n",
    "•\t05. Alzheimer's Disease and Other Dementias - No. of People died from Alzheimer's Disease and Other Dementias\n",
    "•\t06. Parkinson's Disease - No. of People died from Parkinson's Disease\n",
    "•\t07. Nutritional Deficiencies - No. of People died from Nutritional Deficiencies\n",
    "•\t08. Malaria - No. of People died from Malaria\n",
    "•\t09. Drowning - No. of People died from Drowning\n",
    "•\t10. Interpersonal Violence - No. of People died from Interpersonal Violence\n",
    "•\t11. Maternal Disorders - No. of People died from Maternal Disorders\n",
    "•\t12. Drug Use Disorders - No. of People died from Drug Use Disorders\n",
    "•\t13. Tuberculosis - No. of People died from Tuberculosis\n",
    "•\t14. Cardiovascular Diseases - No. of People died from Cardiovascular Diseases\n",
    "•\t15. Lower Respiratory Infections - No. of People died from Lower Respiratory Infections\n",
    "•\t16. Neonatal Disorders - No. of People died from Neonatal Disorders\n",
    "•\t17. Alcohol Use Disorders - No. of People died from Alcohol Use Disorders\n",
    "•\t18. Self-harm - No. of People died from Self-harm\n",
    "•\t19. Exposure to Forces of Nature - No. of People died from Exposure to Forces of Nature\n",
    "•\t20. Diarrheal Diseases - No. of People died from Diarrheal Diseases\n",
    "•\t21. Environmental Heat and Cold Exposure - No. of People died from Environmental Heat and Cold Exposure\n",
    "•\t22. Neoplasms - No. of People died from Neoplasms\n",
    "•\t23. Conflict and Terrorism - No. of People died from Conflict and Terrorism\n",
    "•\t24. Diabetes Mellitus - No. of People died from Diabetes Mellitus\n",
    "•\t25. Chronic Kidney Disease - No. of People died from Chronic Kidney Disease\n",
    "•\t26. Poisonings - No. of People died from Poisoning\n",
    "•\t27. Protein-Energy Malnutrition - No. of People died from Protein-Energy Malnutrition\n",
    "•\t28. Chronic Respiratory Diseases - No. of People died from Chronic Respiratory Diseases\n",
    "•\t29. Cirrhosis and Other Chronic Liver Diseases - No. of People died from Cirrhosis and Other Chronic Liver Diseases\n",
    "•\t30. Digestive Diseases - No. of People died from Digestive Diseases\n",
    "•\t31. Fire, Heat, and Hot Substances - No. of People died from Fire or Heat or any Hot Substances\n",
    "•\t32. Acute Hepatitis - No. of People died from Acute Hepatitis\n",
    "\n",
    "Steps to Follow\n",
    "https://www.kaggle.com/code/spscientist/a-simple-tutorial-on-exploratory-data-analysis \n",
    "https://en.wikipedia.org/wiki/Exploratory_data_analysis#:~:text=In%20statistics%2C%20exploratory%20data%20analysis,and%20other%20data%20visualization%20methods. \n"
   ]
  },
  {
   "cell_type": "markdown",
   "id": "8e046ebe",
   "metadata": {},
   "source": [
    "# Importing Libraries"
   ]
  },
  {
   "cell_type": "code",
   "execution_count": null,
   "id": "0985c581",
   "metadata": {},
   "outputs": [],
   "source": [
    "import numpy as np\n",
    "import pandas as pd\n",
    "import matplotlib.pyplot as plt\n",
    "import seaborn as sns\n",
    "%matplotlib inline\n",
    "from statsmodels.stats.outliers_influence import variance_inflation_factor\n",
    "import warnings\n",
    "warnings.filterwarnings('ignore')\n",
    "\n"
   ]
  },
  {
   "cell_type": "code",
   "execution_count": null,
   "id": "d01583e1",
   "metadata": {},
   "outputs": [],
   "source": [
    "data = pd.read_csv('COD.csv')\n",
    "data"
   ]
  },
  {
   "cell_type": "code",
   "execution_count": null,
   "id": "dcf2d317",
   "metadata": {},
   "outputs": [],
   "source": [
    "data.head()"
   ]
  },
  {
   "cell_type": "code",
   "execution_count": null,
   "id": "c28be527",
   "metadata": {},
   "outputs": [],
   "source": [
    "data.tail()"
   ]
  },
  {
   "cell_type": "code",
   "execution_count": null,
   "id": "bcdf697f",
   "metadata": {},
   "outputs": [],
   "source": [
    "data.columns"
   ]
  },
  {
   "cell_type": "code",
   "execution_count": null,
   "id": "cf2bac8b",
   "metadata": {},
   "outputs": [],
   "source": [
    "data.dtypes"
   ]
  },
  {
   "cell_type": "code",
   "execution_count": null,
   "id": "b683d5d5",
   "metadata": {},
   "outputs": [],
   "source": [
    "data.shape"
   ]
  },
  {
   "cell_type": "code",
   "execution_count": null,
   "id": "0540e0d1",
   "metadata": {},
   "outputs": [],
   "source": [
    "data.isnull().sum()"
   ]
  },
  {
   "cell_type": "code",
   "execution_count": null,
   "id": "16847b18",
   "metadata": {},
   "outputs": [],
   "source": [
    "desc = data.describe().T\n",
    "desc['range']=desc['max']-desc['min']\n",
    "desc"
   ]
  },
  {
   "cell_type": "code",
   "execution_count": null,
   "id": "9bd83789",
   "metadata": {},
   "outputs": [],
   "source": [
    "data.describe(include='object').T"
   ]
  },
  {
   "cell_type": "code",
   "execution_count": null,
   "id": "6a674049",
   "metadata": {},
   "outputs": [],
   "source": [
    "data.describe(include='object').T"
   ]
  },
  {
   "cell_type": "code",
   "execution_count": null,
   "id": "36df6154",
   "metadata": {},
   "outputs": [],
   "source": [
    "cont_data = data.select_dtypes(include=['int64','float64'])\n",
    "\n",
    "cat_data= data.select_dtypes(include=['object'])\n",
    "\n",
    "cont_columns = cont_data.columns\n",
    "\n",
    "cat_columns = cat_data.columns"
   ]
  },
  {
   "cell_type": "code",
   "execution_count": null,
   "id": "76c823ab",
   "metadata": {},
   "outputs": [],
   "source": [
    "cont_columns"
   ]
  },
  {
   "cell_type": "code",
   "execution_count": null,
   "id": "208fe856",
   "metadata": {},
   "outputs": [],
   "source": [
    "cat_columns"
   ]
  },
  {
   "cell_type": "code",
   "execution_count": null,
   "id": "9bf653ca",
   "metadata": {},
   "outputs": [],
   "source": [
    "from scipy import stats\n",
    "\n",
    "for i in cat_columns:\n",
    "    print('For',i,', most frequent value is: ',stats.mode(data[i]),'\\n')"
   ]
  },
  {
   "cell_type": "code",
   "execution_count": null,
   "id": "29df768c",
   "metadata": {},
   "outputs": [],
   "source": [
    "for i in cat_columns:\n",
    "    print('For column',i,'unique values are: ',data[i].unique())\n",
    "    print('For column',i,'count of unique values are: ',data[i].nunique(),'\\n\\n')\n",
    "    "
   ]
  },
  {
   "cell_type": "code",
   "execution_count": null,
   "id": "e6119507",
   "metadata": {},
   "outputs": [],
   "source": [
    "for i in cat_columns:\n",
    "    print('For column --',i,'-- value counts are: \\n',data[i].value_counts(),'\\n\\n')\n"
   ]
  },
  {
   "cell_type": "code",
   "execution_count": null,
   "id": "ed803850",
   "metadata": {},
   "outputs": [],
   "source": [
    "data.columns"
   ]
  },
  {
   "cell_type": "code",
   "execution_count": null,
   "id": "a157aa87",
   "metadata": {},
   "outputs": [],
   "source": [
    "diseases = data.columns[3:]"
   ]
  },
  {
   "cell_type": "code",
   "execution_count": null,
   "id": "364e658b",
   "metadata": {},
   "outputs": [],
   "source": [
    "total_deaths=[]\n",
    "for i in diseases:\n",
    "    total_deaths.append(data[i].sum())\n",
    "total_deaths"
   ]
  },
  {
   "cell_type": "code",
   "execution_count": null,
   "id": "785954f9",
   "metadata": {},
   "outputs": [],
   "source": [
    "len(total_deaths)"
   ]
  },
  {
   "cell_type": "code",
   "execution_count": null,
   "id": "e0b6f019",
   "metadata": {},
   "outputs": [],
   "source": [
    "diseases = data.columns[3:]"
   ]
  },
  {
   "cell_type": "code",
   "execution_count": null,
   "id": "6c99fe7a",
   "metadata": {
    "scrolled": true
   },
   "outputs": [],
   "source": [
    "diseases"
   ]
  },
  {
   "cell_type": "code",
   "execution_count": null,
   "id": "e85261eb",
   "metadata": {},
   "outputs": [],
   "source": [
    "df_diseasesum = pd.DataFrame({'Diseases':diseases,'total_deaths':total_deaths})\n"
   ]
  },
  {
   "cell_type": "code",
   "execution_count": null,
   "id": "d1a0d932",
   "metadata": {},
   "outputs": [],
   "source": [
    "df_diseasesum['total_deaths'] = df_diseasesum['total_deaths'].astype('float64')\n"
   ]
  },
  {
   "cell_type": "code",
   "execution_count": null,
   "id": "89c39f1d",
   "metadata": {},
   "outputs": [],
   "source": [
    "df_diseasesum.sort_values(by='total_deaths',ascending=False)\n"
   ]
  },
  {
   "cell_type": "code",
   "execution_count": null,
   "id": "b60b6e43",
   "metadata": {},
   "outputs": [],
   "source": [
    "plt.figure(figsize=(20,15))\n",
    "plt.pie(df_diseasesum['total_deaths'], labels=df_diseasesum['Diseases'], autopct='%1.0f%%')\n",
    "plt.xticks(rotation=90)\n",
    "plt.show()"
   ]
  },
  {
   "cell_type": "markdown",
   "id": "129158fa",
   "metadata": {},
   "source": [
    "# Univariate Analysis"
   ]
  },
  {
   "cell_type": "code",
   "execution_count": null,
   "id": "b4a1497a",
   "metadata": {},
   "outputs": [],
   "source": [
    "for i in cat_columns:\n",
    "    f= plt.figure(figsize=(12,5))\n",
    "    ax = sns.countplot(x=data[i],data=data)\n",
    "    plt.xticks(rotation=90)"
   ]
  },
  {
   "cell_type": "code",
   "execution_count": null,
   "id": "ebb127c3",
   "metadata": {},
   "outputs": [],
   "source": [
    "plt.figure(figsize=(12,5))\n",
    "plt.plot('total_deaths',data=df_diseasesum)\n",
    "plt.xlabel('total_deaths')\n",
    "plt.xticks(ticks=np.arange(3225,32,1) , labels=diseases,rotation=90)\n",
    "plt.show()"
   ]
  },
  {
   "cell_type": "code",
   "execution_count": null,
   "id": "f3e1bdc8",
   "metadata": {},
   "outputs": [],
   "source": [
    "for i in cont_columns:\n",
    "    plt.figure(figsize=(30,15))\n",
    "    sns.scatterplot(x = 'Country/Territory', y = i, data = df)\n",
    "    plt.xticks(rotation=90)\n",
    "    plt.show()"
   ]
  },
  {
   "cell_type": "code",
   "execution_count": null,
   "id": "bf1a9432",
   "metadata": {},
   "outputs": [],
   "source": [
    "# Using Histogram \n",
    "\n",
    "for i in cont_columns:\n",
    "    plt.figure(figsize=(10,6),facecolor='yellow')\n",
    "    plt.hist(data[i])\n",
    "    plt.xlabel(i)\n",
    "    plt.show()"
   ]
  },
  {
   "cell_type": "code",
   "execution_count": null,
   "id": "57ddac0d",
   "metadata": {},
   "outputs": [],
   "source": [
    "plt.figure(figsize=(50,100))\n",
    "ax = sns.catplot(x=\"Country/Territory\",y='Meningitis', kind=\"box\", data=data)\n",
    "plt.xticks(rotation=90)\n",
    "plt.show()"
   ]
  },
  {
   "cell_type": "code",
   "execution_count": null,
   "id": "1c91eca1",
   "metadata": {},
   "outputs": [],
   "source": [
    "data.columns"
   ]
  },
  {
   "cell_type": "code",
   "execution_count": null,
   "id": "47ffc4f8",
   "metadata": {},
   "outputs": [],
   "source": [
    "# Distribution of continuous variables\n",
    "for i in cont_columns:\n",
    "    plt.figure(figsize=(12,7),facecolor='yellow')\n",
    "    sns.distplot(data[i])\n",
    "    plt.show()"
   ]
  },
  {
   "cell_type": "markdown",
   "id": "5dcb0e9a",
   "metadata": {},
   "source": [
    "# Checking Outliers"
   ]
  },
  {
   "cell_type": "code",
   "execution_count": null,
   "id": "2e0ba9ed",
   "metadata": {},
   "outputs": [],
   "source": [
    "# Using Box Plot\n",
    "for i in cont_columns:\n",
    "    plt.figure(figsize=(12,7),facecolor='yellow')\n",
    "    sns.boxplot(data[i])\n",
    "    plt.show()"
   ]
  },
  {
   "cell_type": "code",
   "execution_count": null,
   "id": "32868342",
   "metadata": {},
   "outputs": [],
   "source": [
    "data.columns"
   ]
  },
  {
   "cell_type": "code",
   "execution_count": null,
   "id": "d3c217bd",
   "metadata": {},
   "outputs": [],
   "source": [
    "for i in data['Country/Territory']:\n",
    "    print('For country:',i)\n",
    "    df_c = data[data['Country/Territory']==i]\n",
    "    print(df_c.describe().T)\n",
    "    print('\\n\\n\\n')"
   ]
  },
  {
   "cell_type": "code",
   "execution_count": null,
   "id": "16852f4b",
   "metadata": {},
   "outputs": [],
   "source": [
    "# Using Violin Plot \n",
    "for i in diseases:\n",
    "    plt.figure(figsize=(30,30),facecolor='yellow')\n",
    "    sns.violinplot(x=\"Country/Territory\",y=i,data=data)\n",
    "    plt.xticks(rotation=90)\n",
    "    plt.show()"
   ]
  },
  {
   "cell_type": "code",
   "execution_count": null,
   "id": "3a307ed6",
   "metadata": {},
   "outputs": [],
   "source": [
    "#  Using Strip Plot\n",
    "for i in diseases:\n",
    "    plt.figure(figsize=(30,30),facecolor='orange')\n",
    "    sns.stripplot(x = 'Country/Territory', y =i, data = data)\n",
    "    plt.xticks(rotation=90)\n",
    "    plt.show()"
   ]
  },
  {
   "cell_type": "markdown",
   "id": "c6965edd",
   "metadata": {},
   "source": [
    "# Numerical Data Analysis"
   ]
  },
  {
   "cell_type": "code",
   "execution_count": null,
   "id": "e2a6e4ea",
   "metadata": {},
   "outputs": [],
   "source": [
    "for i in diseases:\n",
    "    for j in ['Country/Territory', 'Year']:\n",
    "        plt.figure(figsize=(30,30),facecolor='yellow')\n",
    "        sns.scatterplot(x = data.index, y = i, data = data,hue=j)\n",
    "        plt.xticks(rotation=90)\n",
    "        plt.show()"
   ]
  },
  {
   "cell_type": "markdown",
   "id": "1c62c5c3",
   "metadata": {},
   "source": [
    "# Relationship Analysis"
   ]
  },
  {
   "cell_type": "code",
   "execution_count": null,
   "id": "cb52da3b",
   "metadata": {},
   "outputs": [],
   "source": [
    "for i in diseases:\n",
    "    for j in ['Year']:\n",
    "        plt.figure(figsize=(30,30),facecolor='red')\n",
    "        sns.lmplot(x=i,y = j, data = data)\n",
    "        plt.xticks(rotation=90)\n",
    "        plt.show()"
   ]
  },
  {
   "cell_type": "code",
   "execution_count": null,
   "id": "25a687b0",
   "metadata": {},
   "outputs": [],
   "source": [
    "for i in diseases:\n",
    "    for j in ['Year']:\n",
    "        plt.figure(figsize=(30,30),facecolor='red')\n",
    "        sns.lmplot(x=i,y = j, data = data,hue='Country/Territory')\n",
    "        plt.xticks(rotation=90)\n",
    "        plt.show()\n"
   ]
  },
  {
   "cell_type": "code",
   "execution_count": null,
   "id": "7ec44b8e",
   "metadata": {},
   "outputs": [],
   "source": [
    "sns.pairplot(data,hue='Country/Territory')"
   ]
  },
  {
   "cell_type": "code",
   "execution_count": null,
   "id": "6b1b86c6",
   "metadata": {},
   "outputs": [],
   "source": [
    "for i in diseases:\n",
    "    print(data.groupby(['Country/Territory'])[i].count())"
   ]
  },
  {
   "cell_type": "code",
   "execution_count": null,
   "id": "12bbd509",
   "metadata": {},
   "outputs": [],
   "source": [
    "for i in diseases:\n",
    "    grouped_mean = data.groupby(['Country/Territory'])[i].mean()"
   ]
  },
  {
   "cell_type": "code",
   "execution_count": null,
   "id": "118ad9c3",
   "metadata": {},
   "outputs": [],
   "source": [
    "grouped_mean.sort_values(ascending=False)"
   ]
  },
  {
   "cell_type": "code",
   "execution_count": null,
   "id": "17c6d44a",
   "metadata": {},
   "outputs": [],
   "source": [
    "pd.set_option('display.max_rows',None)\n",
    "grouped_sum = data.groupby(['Country/Territory'])[diseases].sum()"
   ]
  },
  {
   "cell_type": "code",
   "execution_count": null,
   "id": "0863c86f",
   "metadata": {},
   "outputs": [],
   "source": [
    "grouped_sum.max().sort_values(ascending=False)"
   ]
  },
  {
   "cell_type": "code",
   "execution_count": null,
   "id": "d154f596",
   "metadata": {},
   "outputs": [],
   "source": [
    "grouped_sum.min().sort_values(ascending=False)"
   ]
  },
  {
   "cell_type": "code",
   "execution_count": null,
   "id": "43a32cc9",
   "metadata": {},
   "outputs": [],
   "source": [
    "grouped_sum_data = pd.DataFrame(grouped_sum)\n"
   ]
  },
  {
   "cell_type": "code",
   "execution_count": null,
   "id": "7fdf673f",
   "metadata": {},
   "outputs": [],
   "source": [
    "grouped_sum_data"
   ]
  },
  {
   "cell_type": "code",
   "execution_count": null,
   "id": "e39a34cb",
   "metadata": {},
   "outputs": [],
   "source": [
    "grouped_sum_data['Meningitis'].sum()\n"
   ]
  },
  {
   "cell_type": "code",
   "execution_count": null,
   "id": "1d09c440",
   "metadata": {},
   "outputs": [],
   "source": [
    "grouped_f = data.groupby(['Country/Territory'])[diseases].agg([\"mean\"])\n"
   ]
  },
  {
   "cell_type": "code",
   "execution_count": null,
   "id": "6e0d9954",
   "metadata": {},
   "outputs": [],
   "source": [
    "pd.set_option('display.max_rows',None)\n",
    "grouped_f.T"
   ]
  },
  {
   "cell_type": "code",
   "execution_count": null,
   "id": "0993e3b5",
   "metadata": {},
   "outputs": [],
   "source": [
    "grouped_max = data.groupby(['Country/Territory'])[diseases].agg([\"max\",'min'])\n",
    "pd.set_option('display.max_rows',None)\n",
    "grouped_max.describe().T.sort_values(by='max',ascending=False)"
   ]
  },
  {
   "cell_type": "code",
   "execution_count": null,
   "id": "ee8fd553",
   "metadata": {},
   "outputs": [],
   "source": [
    "grouped_max.describe().T.sort_values(by='min',ascending=False)"
   ]
  },
  {
   "cell_type": "code",
   "execution_count": null,
   "id": "9aa10fd1",
   "metadata": {},
   "outputs": [],
   "source": [
    "grouped_years = data.groupby(['Year'])[diseases].agg([\"max\",'min'])\n",
    "pd.set_option('display.max_rows',None)\n",
    "grouped_years.describe().T.sort_values(by='max',ascending=False)"
   ]
  },
  {
   "cell_type": "code",
   "execution_count": null,
   "id": "c0148872",
   "metadata": {},
   "outputs": [],
   "source": [
    "grouped_years.describe().T.sort_values(by='min',ascending=False)"
   ]
  },
  {
   "cell_type": "code",
   "execution_count": null,
   "id": "36563dcf",
   "metadata": {},
   "outputs": [],
   "source": [
    "grouped_sum_data"
   ]
  },
  {
   "cell_type": "code",
   "execution_count": null,
   "id": "0840d36f",
   "metadata": {},
   "outputs": [],
   "source": [
    "data.columns"
   ]
  },
  {
   "cell_type": "code",
   "execution_count": null,
   "id": "38248309",
   "metadata": {},
   "outputs": [],
   "source": [
    "#Correlation"
   ]
  },
  {
   "cell_type": "code",
   "execution_count": null,
   "id": "47a66159",
   "metadata": {},
   "outputs": [],
   "source": [
    "# Correlation between features and target"
   ]
  },
  {
   "cell_type": "code",
   "execution_count": null,
   "id": "8b43be65",
   "metadata": {},
   "outputs": [],
   "source": [
    "# Replacing attrition column values:\n",
    "\n",
    "data.drop(columns = 'Year',axis = 1).corrwith(data.Year).plot(kind='bar',grid=True,figsize=(10,7),title='correlation between features and target')\n",
    "plt.show()"
   ]
  },
  {
   "cell_type": "code",
   "execution_count": null,
   "id": "570bd5d6",
   "metadata": {},
   "outputs": [],
   "source": [
    "# Relationship between dependent and independent variable\n",
    "\n",
    "df_corr = data.corr().abs()\n",
    "plt.figure(figsize=(20,15))\n",
    "sns.heatmap(df_corr,annot=True,annot_kws={'size':10})\n",
    "plt.show()"
   ]
  },
  {
   "cell_type": "code",
   "execution_count": null,
   "id": "19032041",
   "metadata": {},
   "outputs": [],
   "source": [
    "# Checking Skewness"
   ]
  },
  {
   "cell_type": "code",
   "execution_count": null,
   "id": "b9d7e279",
   "metadata": {},
   "outputs": [],
   "source": [
    "data.skew().sort_values(ascending=False)"
   ]
  },
  {
   "cell_type": "code",
   "execution_count": null,
   "id": "322e37a7",
   "metadata": {},
   "outputs": [],
   "source": [
    "data['Country/Territory'].nunique()"
   ]
  },
  {
   "cell_type": "code",
   "execution_count": null,
   "id": "5b2771f8",
   "metadata": {},
   "outputs": [],
   "source": [
    "data['Total number of deaths'] = data[diseases].sum(axis=1)\n"
   ]
  },
  {
   "cell_type": "code",
   "execution_count": null,
   "id": "6b9bec4b",
   "metadata": {},
   "outputs": [],
   "source": [
    "# Countries having maximum deaths\n",
    "\n",
    "deathsbycountry = data.sort_values(by='Total number of deaths',ascending=False)[['Total number of deaths','Country/Territory']]\n"
   ]
  },
  {
   "cell_type": "code",
   "execution_count": null,
   "id": "5c245c4b",
   "metadata": {},
   "outputs": [],
   "source": [
    "pd.set_option('display.max_rows',None)\n",
    "deathsbycountry"
   ]
  },
  {
   "cell_type": "code",
   "execution_count": null,
   "id": "f890611a",
   "metadata": {},
   "outputs": [],
   "source": [
    "deathsbycountry[0:10]"
   ]
  },
  {
   "cell_type": "code",
   "execution_count": null,
   "id": "1cfcf95f",
   "metadata": {},
   "outputs": [],
   "source": [
    "# Country dfs\n",
    "data_India = data[data['Country/Territory']=='India'].sort_values(by='Total number of deaths',ascending=False)\n"
   ]
  },
  {
   "cell_type": "code",
   "execution_count": null,
   "id": "1fb13a98",
   "metadata": {},
   "outputs": [],
   "source": [
    "#  Using Scatterplot\n",
    "\n",
    "for i in diseases:\n",
    "    plt.figure(figsize=(9,7),facecolor='yellow')\n",
    "    sns.scatterplot(x = 'Year', y = i, data = data_India)\n",
    "    plt.xticks(rotation=90)\n",
    "    plt.show()"
   ]
  },
  {
   "cell_type": "code",
   "execution_count": null,
   "id": "8daf2b09",
   "metadata": {},
   "outputs": [],
   "source": [
    "# Using Bar Plot\n",
    "for i in diseases:\n",
    "    plt.figure(figsize=(7,5),facecolor='red')\n",
    "    sns.barplot(y = i,x='Year', data = data_china)\n",
    "    plt.xticks(rotation=90)\n",
    "    plt.show()"
   ]
  },
  {
   "cell_type": "code",
   "execution_count": null,
   "id": "9ee60050",
   "metadata": {},
   "outputs": [],
   "source": [
    "# Russia\n",
    "\n",
    "data_russia = data[data['Country/Territory']=='Russia'].sort_values(by='Total number of deaths',ascending=False)\n",
    "\n",
    "# Scatterplot\n",
    "\n",
    "print('\\n\\n Scatterplot: ')\n",
    "\n",
    "for i in diseases:\n",
    "    plt.figure(figsize=(7,5),facecolor='red')\n",
    "    sns.scatterplot(x = 'Year', y = i, data = data_russia)\n",
    "    plt.xticks(rotation=90)\n",
    "    plt.show()\n",
    "     \n",
    "print('\\n\\nBarplot')\n",
    "    \n",
    "# Barplot\n",
    "\n",
    "for i in diseases:\n",
    "    plt.figure(figsize=(7,5),facecolor='red')\n",
    "    sns.barplot(y = i,x='Year', data = data_russia)\n",
    "    plt.xticks(rotation=90)\n",
    "    plt.show()"
   ]
  },
  {
   "cell_type": "code",
   "execution_count": null,
   "id": "b1812aec",
   "metadata": {},
   "outputs": [],
   "source": [
    "# USA\n",
    "\n",
    "data_USA = data[data['Country/Territory']=='United States'].sort_values(by='Total number of deaths',ascending=False)\n",
    "\n",
    "# Scatterplot\n",
    "\n",
    "for i in diseases:\n",
    "    plt.figure(figsize=(7,5),facecolor='red')\n",
    "    sns.scatterplot(x = 'Year', y = i, data = data_USA)\n",
    "    plt.xticks(rotation=90)\n",
    "    plt.show()\n",
    "    \n",
    "print('\\n\\nBarplot')\n",
    "    \n",
    "# Barplot\n",
    "\n",
    "for i in diseases:\n",
    "    plt.figure(figsize=(7,5),facecolor='red')\n",
    "    sns.barplot(y = i,x='Year', data = data_USA)\n",
    "    plt.xticks(rotation=90)\n",
    "    plt.show()"
   ]
  },
  {
   "cell_type": "code",
   "execution_count": null,
   "id": "203ae82b",
   "metadata": {},
   "outputs": [],
   "source": [
    "# China\n",
    "\n",
    "data_china = data[data['Country/Territory']=='China'].sort_values(by='Total number of deaths',ascending=False)\n"
   ]
  },
  {
   "cell_type": "code",
   "execution_count": null,
   "id": "f5117ae0",
   "metadata": {},
   "outputs": [],
   "source": [
    "data_china\n"
   ]
  },
  {
   "cell_type": "code",
   "execution_count": null,
   "id": "d06fcda6",
   "metadata": {},
   "outputs": [],
   "source": [
    "# Using Scatterplot\n",
    "\n",
    "for i in diseases:\n",
    "    plt.figure(figsize=(7,5),facecolor='red')\n",
    "    sns.scatterplot(x = 'Year', y = i, data = data_china)\n",
    "    plt.xticks(rotation=90)\n",
    "    plt.show()"
   ]
  },
  {
   "cell_type": "code",
   "execution_count": null,
   "id": "14437eff",
   "metadata": {},
   "outputs": [],
   "source": [
    "#  Using Densityplot\n",
    "\n",
    "for i in diseases:\n",
    "    plt.figure(figsize=(7,5),facecolor='red')\n",
    "    sns.barplot(y = i,x='Year', data = data_china)\n",
    "    plt.xticks(rotation=90)\n",
    "    plt.show()"
   ]
  },
  {
   "cell_type": "code",
   "execution_count": null,
   "id": "d0aebc72",
   "metadata": {},
   "outputs": [],
   "source": [
    "# Indonesia\n",
    "\n",
    "data_indonesia = data[data['Country/Territory']=='Indonesia'].sort_values(by='Total number of deaths',ascending=False)\n",
    "\n",
    "# Using Scatterplot\n",
    "\n",
    "print('\\n\\n Scatterplot: ')\n",
    "\n",
    "for i in diseases:\n",
    "    plt.figure(figsize=(7,5),facecolor='red')\n",
    "    sns.scatterplot(x = 'Year', y = i, data = data_indonesia)\n",
    "    plt.xticks(rotation=90)\n",
    "    plt.show()\n",
    "     \n",
    "print('\\n\\nBarplot')\n",
    "    \n",
    "#  Using Barplot\n",
    "\n",
    "for i in diseases:\n",
    "    plt.figure(figsize=(7,5),facecolor='red')\n",
    "    sns.barplot(y = i,x='Year', data = data_indonesia)\n",
    "    plt.xticks(rotation=90)\n",
    "    plt.show()"
   ]
  },
  {
   "cell_type": "code",
   "execution_count": null,
   "id": "7420afc2",
   "metadata": {},
   "outputs": [],
   "source": [
    "cause_of_deaths = ['Meningitis',\n",
    "       'Alzheimer\\'s Disease and Other Dementias', 'Parkinson\\'s Disease',\n",
    "       'Nutritional Deficiencies', 'Malaria', 'Drowning',\n",
    "       'Interpersonal Violence', 'Maternal Disorders', 'HIV/AIDS',\n",
    "       'Drug Use Disorders', 'Tuberculosis', 'Cardiovascular Diseases',\n",
    "       'Lower Respiratory Infections', 'Neonatal Disorders',\n",
    "       'Alcohol Use Disorders', 'Self-harm', 'Exposure to Forces of Nature',\n",
    "       'Diarrheal Diseases', 'Environmental Heat and Cold Exposure',\n",
    "       'Neoplasms', 'Conflict and Terrorism', 'Diabetes Mellitus',\n",
    "       'Chronic Kidney Disease', 'Poisonings', 'Protein-Energy Malnutrition',\n",
    "       'Road Injuries', 'Chronic Respiratory Diseases',\n",
    "       'Cirrhosis and Other Chronic Liver Diseases', 'Digestive Diseases',\n",
    "       'Fire, Heat, and Hot Substances', 'Acute Hepatitis']"
   ]
  },
  {
   "cell_type": "code",
   "execution_count": null,
   "id": "9a4171b4",
   "metadata": {},
   "outputs": [],
   "source": [
    "data['Total deaths'] = data[cause_of_deaths].sum(axis=1)"
   ]
  },
  {
   "cell_type": "code",
   "execution_count": null,
   "id": "858bbf0d",
   "metadata": {},
   "outputs": [],
   "source": [
    "data['Total deaths']"
   ]
  },
  {
   "cell_type": "code",
   "execution_count": null,
   "id": "cfadadec",
   "metadata": {},
   "outputs": [],
   "source": [
    "# Top 10 Total_no_of_Deaths\n",
    "\n",
    "top10_Total_no_of_Deaths = data.sort_values(by='Total deaths',ascending=False)[:10][['Total deaths','Country/Territory']]\n",
    "\n",
    "top10_Total_no_of_Deaths"
   ]
  },
  {
   "cell_type": "code",
   "execution_count": null,
   "id": "2530f08f",
   "metadata": {},
   "outputs": [],
   "source": [
    "cuz_of_death = data.groupby('Country/Territory').sum()"
   ]
  },
  {
   "cell_type": "code",
   "execution_count": null,
   "id": "916a313b",
   "metadata": {},
   "outputs": [],
   "source": [
    "cuz_of_death.drop('Year',axis=1,inplace=True)"
   ]
  },
  {
   "cell_type": "code",
   "execution_count": null,
   "id": "3806086d",
   "metadata": {},
   "outputs": [],
   "source": [
    "cuz_of_death.sort_values(by='Total deaths',ascending=False)"
   ]
  },
  {
   "cell_type": "code",
   "execution_count": null,
   "id": "7c7dcffc",
   "metadata": {},
   "outputs": [],
   "source": [
    "#Top reasons of death countrywise:"
   ]
  },
  {
   "cell_type": "code",
   "execution_count": null,
   "id": "da3d3a8a",
   "metadata": {},
   "outputs": [],
   "source": [
    "china_10 = cuz_of_death.sort_values(by='Total deaths',ascending =False)[:1]\n"
   ]
  },
  {
   "cell_type": "code",
   "execution_count": null,
   "id": "33ef40d1",
   "metadata": {},
   "outputs": [],
   "source": [
    "china_10.iloc[0].sort_values(ascending=False)[1:11]\n"
   ]
  },
  {
   "cell_type": "code",
   "execution_count": null,
   "id": "49f2efbd",
   "metadata": {},
   "outputs": [],
   "source": [
    "plt.figure(figsize=(8,4),dpi=200)\n",
    "china_10.iloc[0].sort_values(ascending=False)[1:11].plot(kind='barh')\n",
    "plt.xlabel(\"Total no.of Deaths\")\n",
    "plt.ylabel(\"Causes of Deaths\")\n",
    "plt.title(\"Top 10 Causes of Deaths in China\")\n",
    "plt.show();"
   ]
  },
  {
   "cell_type": "code",
   "execution_count": null,
   "id": "bbee6480",
   "metadata": {},
   "outputs": [],
   "source": [
    "India_10 = cuz_of_death.sort_values(by='Total deaths',ascending =False)[1:2]\n",
    "India_10.iloc[0].sort_values(ascending=False)[1:11]"
   ]
  },
  {
   "cell_type": "code",
   "execution_count": null,
   "id": "3a5c4115",
   "metadata": {},
   "outputs": [],
   "source": [
    "plt.figure(figsize=(8,4),dpi=200)\n",
    "India_10.iloc[0].sort_values(ascending=False)[1:11].plot(kind='barh')\n",
    "plt.xlabel(\"Total no.of Deaths\")\n",
    "plt.ylabel(\"Causes of Deaths\")\n",
    "plt.title(\"Top 10 Causes of Deaths in India\")\n",
    "plt.show();"
   ]
  },
  {
   "cell_type": "code",
   "execution_count": null,
   "id": "3f5ec1d9",
   "metadata": {},
   "outputs": [],
   "source": [
    "usa_10 = cuz_of_death.sort_values(by='Total deaths',ascending =False)[2:3]\n",
    "usa_10.iloc[0].sort_values(ascending=False)[1:11]"
   ]
  },
  {
   "cell_type": "code",
   "execution_count": null,
   "id": "d292055e",
   "metadata": {},
   "outputs": [],
   "source": [
    "plt.figure(figsize=(8,4),dpi=200)\n",
    "usa_10.iloc[0].sort_values(ascending=False)[1:11].plot(kind='barh')\n",
    "plt.xlabel(\"Total no.of Deaths\")\n",
    "plt.ylabel(\"Causes of Deaths\")\n",
    "plt.title(\"Top 10 Causes of Deaths in United States\")\n",
    "plt.show();"
   ]
  },
  {
   "cell_type": "code",
   "execution_count": null,
   "id": "98479bfd",
   "metadata": {},
   "outputs": [],
   "source": [
    "# PCA analysis:\n",
    "\n",
    "from sklearn.decomposition import PCA\n",
    "# Using PCA i.e. Principal Component Analysis that is a diamensionallity reduction technique:\n",
    "\n",
    "pca = PCA()\n",
    "pca.fit_transform(grouped_sum_data)"
   ]
  },
  {
   "cell_type": "code",
   "execution_count": null,
   "id": "589d10a1",
   "metadata": {},
   "outputs": [],
   "source": [
    "# Using Scree Plot to identify best components:\n",
    "\n",
    "plt.figure()\n",
    "plt.plot(np.cumsum(pca.explained_variance_ratio_))\n",
    "plt.xlabel('Principal Components')\n",
    "plt.ylabel('Variance Covered')\n",
    "plt.title('PCA')\n",
    "plt.show()"
   ]
  },
  {
   "cell_type": "code",
   "execution_count": null,
   "id": "dc964d36",
   "metadata": {},
   "outputs": [],
   "source": []
  }
 ],
 "metadata": {
  "kernelspec": {
   "display_name": "Python 3 (ipykernel)",
   "language": "python",
   "name": "python3"
  },
  "language_info": {
   "codemirror_mode": {
    "name": "ipython",
    "version": 3
   },
   "file_extension": ".py",
   "mimetype": "text/x-python",
   "name": "python",
   "nbconvert_exporter": "python",
   "pygments_lexer": "ipython3",
   "version": "3.9.12"
  }
 },
 "nbformat": 4,
 "nbformat_minor": 5
}
