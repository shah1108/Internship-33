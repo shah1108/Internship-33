{
 "cells": [
  {
   "cell_type": "code",
   "execution_count": 105,
   "id": "b4e1ce8d",
   "metadata": {},
   "outputs": [
    {
     "name": "stdout",
     "output_type": "stream",
     "text": [
      "Requirement already satisfied: selenium in c:\\users\\ashu\\anaconda3\\lib\\site-packages (4.3.0)\n",
      "Requirement already satisfied: urllib3[secure,socks]~=1.26 in c:\\users\\ashu\\anaconda3\\lib\\site-packages (from selenium) (1.26.9)\n",
      "Requirement already satisfied: trio-websocket~=0.9 in c:\\users\\ashu\\anaconda3\\lib\\site-packages (from selenium) (0.9.2)\n",
      "Requirement already satisfied: trio~=0.17 in c:\\users\\ashu\\anaconda3\\lib\\site-packages (from selenium) (0.21.0)\n",
      "Requirement already satisfied: sortedcontainers in c:\\users\\ashu\\anaconda3\\lib\\site-packages (from trio~=0.17->selenium) (2.4.0)\n",
      "Requirement already satisfied: attrs>=19.2.0 in c:\\users\\ashu\\anaconda3\\lib\\site-packages (from trio~=0.17->selenium) (21.4.0)\n",
      "Requirement already satisfied: async-generator>=1.9 in c:\\users\\ashu\\anaconda3\\lib\\site-packages (from trio~=0.17->selenium) (1.10)\n",
      "Requirement already satisfied: sniffio in c:\\users\\ashu\\anaconda3\\lib\\site-packages (from trio~=0.17->selenium) (1.2.0)\n",
      "Requirement already satisfied: cffi>=1.14 in c:\\users\\ashu\\anaconda3\\lib\\site-packages (from trio~=0.17->selenium) (1.15.0)\n",
      "Requirement already satisfied: outcome in c:\\users\\ashu\\anaconda3\\lib\\site-packages (from trio~=0.17->selenium) (1.2.0)\n",
      "Requirement already satisfied: idna in c:\\users\\ashu\\anaconda3\\lib\\site-packages (from trio~=0.17->selenium) (3.3)\n",
      "Requirement already satisfied: pycparser in c:\\users\\ashu\\anaconda3\\lib\\site-packages (from cffi>=1.14->trio~=0.17->selenium) (2.21)\n",
      "Requirement already satisfied: wsproto>=0.14 in c:\\users\\ashu\\anaconda3\\lib\\site-packages (from trio-websocket~=0.9->selenium) (1.1.0)\n",
      "Requirement already satisfied: certifi in c:\\users\\ashu\\anaconda3\\lib\\site-packages (from urllib3[secure,socks]~=1.26->selenium) (2021.10.8)\n",
      "Requirement already satisfied: cryptography>=1.3.4 in c:\\users\\ashu\\anaconda3\\lib\\site-packages (from urllib3[secure,socks]~=1.26->selenium) (3.4.8)\n",
      "Requirement already satisfied: pyOpenSSL>=0.14 in c:\\users\\ashu\\anaconda3\\lib\\site-packages (from urllib3[secure,socks]~=1.26->selenium) (21.0.0)\n",
      "Requirement already satisfied: PySocks!=1.5.7,<2.0,>=1.5.6 in c:\\users\\ashu\\anaconda3\\lib\\site-packages (from urllib3[secure,socks]~=1.26->selenium) (1.7.1)\n",
      "Requirement already satisfied: six>=1.5.2 in c:\\users\\ashu\\anaconda3\\lib\\site-packages (from pyOpenSSL>=0.14->urllib3[secure,socks]~=1.26->selenium) (1.16.0)\n",
      "Requirement already satisfied: h11<1,>=0.9.0 in c:\\users\\ashu\\anaconda3\\lib\\site-packages (from wsproto>=0.14->trio-websocket~=0.9->selenium) (0.13.0)\n"
     ]
    }
   ],
   "source": [
    "!pip install selenium"
   ]
  },
  {
   "cell_type": "code",
   "execution_count": null,
   "id": "0327b15e",
   "metadata": {},
   "outputs": [],
   "source": []
  },
  {
   "cell_type": "code",
   "execution_count": 106,
   "id": "07f15216",
   "metadata": {},
   "outputs": [],
   "source": [
    "import selenium\n",
    "import pandas as pd\n",
    "from selenium import webdriver\n",
    "import warnings\n",
    "warnings.filterwarnings('ignore')\n",
    "from selenium.common.exceptions import StaleElementReferenceException,NoSuchElementException\n",
    "from selenium.webdriver.common.by import By\n",
    "import time"
   ]
  },
  {
   "cell_type": "code",
   "execution_count": 9,
   "id": "ea1d91a0",
   "metadata": {},
   "outputs": [],
   "source": [
    "driver=webdriver.Chrome(r\"C:\\Users\\Ashu\\Desktop\\chromedriver_win32\\Chromedriver.exe\")"
   ]
  },
  {
   "cell_type": "code",
   "execution_count": 10,
   "id": "dc60dbc3",
   "metadata": {},
   "outputs": [],
   "source": [
    "driver.get(\"https://www.naukri.com/\")"
   ]
  },
  {
   "cell_type": "code",
   "execution_count": 11,
   "id": "9253a1bf",
   "metadata": {},
   "outputs": [],
   "source": [
    "designation=driver.find_element(By.CLASS_NAME,\"suggestor-input \")\n",
    "designation.send_keys('Data Analyst')"
   ]
  },
  {
   "cell_type": "code",
   "execution_count": 12,
   "id": "8c61a9d2",
   "metadata": {},
   "outputs": [
    {
     "ename": "NoSuchElementException",
     "evalue": "Message: no such element: Unable to locate element: {\"method\":\"xpath\",\"selector\":\"/html/body/div[1]/div[2]/div[3]/div/div/div[5]/div/div/div/input\"}\n  (Session info: chrome=107.0.5304.88)\nStacktrace:\nBacktrace:\n\tOrdinal0 [0x00A1ACD3+2075859]\n\tOrdinal0 [0x009AEE61+1633889]\n\tOrdinal0 [0x008AB7BD+571325]\n\tOrdinal0 [0x008DAC2F+764975]\n\tOrdinal0 [0x008DAE1B+765467]\n\tOrdinal0 [0x0090D0F2+970994]\n\tOrdinal0 [0x008F7364+881508]\n\tOrdinal0 [0x0090B56A+963946]\n\tOrdinal0 [0x008F7136+880950]\n\tOrdinal0 [0x008CFEFD+720637]\n\tOrdinal0 [0x008D0F3F+724799]\n\tGetHandleVerifier [0x00CCEED2+2769538]\n\tGetHandleVerifier [0x00CC0D95+2711877]\n\tGetHandleVerifier [0x00AAA03A+521194]\n\tGetHandleVerifier [0x00AA8DA0+516432]\n\tOrdinal0 [0x009B682C+1665068]\n\tOrdinal0 [0x009BB128+1683752]\n\tOrdinal0 [0x009BB215+1683989]\n\tOrdinal0 [0x009C6484+1729668]\n\tBaseThreadInitThunk [0x75C56739+25]\n\tRtlGetFullPathName_UEx [0x77768FD2+1218]\n\tRtlGetFullPathName_UEx [0x77768F9D+1165]\n",
     "output_type": "error",
     "traceback": [
      "\u001b[1;31m---------------------------------------------------------------------------\u001b[0m",
      "\u001b[1;31mNoSuchElementException\u001b[0m                    Traceback (most recent call last)",
      "Input \u001b[1;32mIn [12]\u001b[0m, in \u001b[0;36m<cell line: 1>\u001b[1;34m()\u001b[0m\n\u001b[1;32m----> 1\u001b[0m location\u001b[38;5;241m=\u001b[39m\u001b[43mdriver\u001b[49m\u001b[38;5;241;43m.\u001b[39;49m\u001b[43mfind_element\u001b[49m\u001b[43m(\u001b[49m\u001b[43mBy\u001b[49m\u001b[38;5;241;43m.\u001b[39;49m\u001b[43mXPATH\u001b[49m\u001b[43m,\u001b[49m\u001b[38;5;124;43m\"\u001b[39;49m\u001b[38;5;124;43m/html/body/div[1]/div[2]/div[3]/div/div/div[5]/div/div/div/input\u001b[39;49m\u001b[38;5;124;43m\"\u001b[39;49m\u001b[43m)\u001b[49m\n\u001b[0;32m      2\u001b[0m location\u001b[38;5;241m.\u001b[39msend_keys(\u001b[38;5;124m'\u001b[39m\u001b[38;5;124mBanglore\u001b[39m\u001b[38;5;124m'\u001b[39m)\n",
      "File \u001b[1;32m~\\anaconda3\\lib\\site-packages\\selenium\\webdriver\\remote\\webdriver.py:857\u001b[0m, in \u001b[0;36mWebDriver.find_element\u001b[1;34m(self, by, value)\u001b[0m\n\u001b[0;32m    854\u001b[0m     by \u001b[38;5;241m=\u001b[39m By\u001b[38;5;241m.\u001b[39mCSS_SELECTOR\n\u001b[0;32m    855\u001b[0m     value \u001b[38;5;241m=\u001b[39m \u001b[38;5;124m'\u001b[39m\u001b[38;5;124m[name=\u001b[39m\u001b[38;5;124m\"\u001b[39m\u001b[38;5;132;01m%s\u001b[39;00m\u001b[38;5;124m\"\u001b[39m\u001b[38;5;124m]\u001b[39m\u001b[38;5;124m'\u001b[39m \u001b[38;5;241m%\u001b[39m value\n\u001b[1;32m--> 857\u001b[0m \u001b[38;5;28;01mreturn\u001b[39;00m \u001b[38;5;28;43mself\u001b[39;49m\u001b[38;5;241;43m.\u001b[39;49m\u001b[43mexecute\u001b[49m\u001b[43m(\u001b[49m\u001b[43mCommand\u001b[49m\u001b[38;5;241;43m.\u001b[39;49m\u001b[43mFIND_ELEMENT\u001b[49m\u001b[43m,\u001b[49m\u001b[43m \u001b[49m\u001b[43m{\u001b[49m\n\u001b[0;32m    858\u001b[0m \u001b[43m    \u001b[49m\u001b[38;5;124;43m'\u001b[39;49m\u001b[38;5;124;43musing\u001b[39;49m\u001b[38;5;124;43m'\u001b[39;49m\u001b[43m:\u001b[49m\u001b[43m \u001b[49m\u001b[43mby\u001b[49m\u001b[43m,\u001b[49m\n\u001b[0;32m    859\u001b[0m \u001b[43m    \u001b[49m\u001b[38;5;124;43m'\u001b[39;49m\u001b[38;5;124;43mvalue\u001b[39;49m\u001b[38;5;124;43m'\u001b[39;49m\u001b[43m:\u001b[49m\u001b[43m \u001b[49m\u001b[43mvalue\u001b[49m\u001b[43m}\u001b[49m\u001b[43m)\u001b[49m[\u001b[38;5;124m'\u001b[39m\u001b[38;5;124mvalue\u001b[39m\u001b[38;5;124m'\u001b[39m]\n",
      "File \u001b[1;32m~\\anaconda3\\lib\\site-packages\\selenium\\webdriver\\remote\\webdriver.py:435\u001b[0m, in \u001b[0;36mWebDriver.execute\u001b[1;34m(self, driver_command, params)\u001b[0m\n\u001b[0;32m    433\u001b[0m response \u001b[38;5;241m=\u001b[39m \u001b[38;5;28mself\u001b[39m\u001b[38;5;241m.\u001b[39mcommand_executor\u001b[38;5;241m.\u001b[39mexecute(driver_command, params)\n\u001b[0;32m    434\u001b[0m \u001b[38;5;28;01mif\u001b[39;00m response:\n\u001b[1;32m--> 435\u001b[0m     \u001b[38;5;28;43mself\u001b[39;49m\u001b[38;5;241;43m.\u001b[39;49m\u001b[43merror_handler\u001b[49m\u001b[38;5;241;43m.\u001b[39;49m\u001b[43mcheck_response\u001b[49m\u001b[43m(\u001b[49m\u001b[43mresponse\u001b[49m\u001b[43m)\u001b[49m\n\u001b[0;32m    436\u001b[0m     response[\u001b[38;5;124m'\u001b[39m\u001b[38;5;124mvalue\u001b[39m\u001b[38;5;124m'\u001b[39m] \u001b[38;5;241m=\u001b[39m \u001b[38;5;28mself\u001b[39m\u001b[38;5;241m.\u001b[39m_unwrap_value(\n\u001b[0;32m    437\u001b[0m         response\u001b[38;5;241m.\u001b[39mget(\u001b[38;5;124m'\u001b[39m\u001b[38;5;124mvalue\u001b[39m\u001b[38;5;124m'\u001b[39m, \u001b[38;5;28;01mNone\u001b[39;00m))\n\u001b[0;32m    438\u001b[0m     \u001b[38;5;28;01mreturn\u001b[39;00m response\n",
      "File \u001b[1;32m~\\anaconda3\\lib\\site-packages\\selenium\\webdriver\\remote\\errorhandler.py:247\u001b[0m, in \u001b[0;36mErrorHandler.check_response\u001b[1;34m(self, response)\u001b[0m\n\u001b[0;32m    245\u001b[0m         alert_text \u001b[38;5;241m=\u001b[39m value[\u001b[38;5;124m'\u001b[39m\u001b[38;5;124malert\u001b[39m\u001b[38;5;124m'\u001b[39m]\u001b[38;5;241m.\u001b[39mget(\u001b[38;5;124m'\u001b[39m\u001b[38;5;124mtext\u001b[39m\u001b[38;5;124m'\u001b[39m)\n\u001b[0;32m    246\u001b[0m     \u001b[38;5;28;01mraise\u001b[39;00m exception_class(message, screen, stacktrace, alert_text)  \u001b[38;5;66;03m# type: ignore[call-arg]  # mypy is not smart enough here\u001b[39;00m\n\u001b[1;32m--> 247\u001b[0m \u001b[38;5;28;01mraise\u001b[39;00m exception_class(message, screen, stacktrace)\n",
      "\u001b[1;31mNoSuchElementException\u001b[0m: Message: no such element: Unable to locate element: {\"method\":\"xpath\",\"selector\":\"/html/body/div[1]/div[2]/div[3]/div/div/div[5]/div/div/div/input\"}\n  (Session info: chrome=107.0.5304.88)\nStacktrace:\nBacktrace:\n\tOrdinal0 [0x00A1ACD3+2075859]\n\tOrdinal0 [0x009AEE61+1633889]\n\tOrdinal0 [0x008AB7BD+571325]\n\tOrdinal0 [0x008DAC2F+764975]\n\tOrdinal0 [0x008DAE1B+765467]\n\tOrdinal0 [0x0090D0F2+970994]\n\tOrdinal0 [0x008F7364+881508]\n\tOrdinal0 [0x0090B56A+963946]\n\tOrdinal0 [0x008F7136+880950]\n\tOrdinal0 [0x008CFEFD+720637]\n\tOrdinal0 [0x008D0F3F+724799]\n\tGetHandleVerifier [0x00CCEED2+2769538]\n\tGetHandleVerifier [0x00CC0D95+2711877]\n\tGetHandleVerifier [0x00AAA03A+521194]\n\tGetHandleVerifier [0x00AA8DA0+516432]\n\tOrdinal0 [0x009B682C+1665068]\n\tOrdinal0 [0x009BB128+1683752]\n\tOrdinal0 [0x009BB215+1683989]\n\tOrdinal0 [0x009C6484+1729668]\n\tBaseThreadInitThunk [0x75C56739+25]\n\tRtlGetFullPathName_UEx [0x77768FD2+1218]\n\tRtlGetFullPathName_UEx [0x77768F9D+1165]\n"
     ]
    }
   ],
   "source": [
    "location=driver.find_element(By.XPATH,\"/html/body/div[1]/div[2]/div[3]/div/div/div[5]/div/div/div/input\")\n",
    "location.send_keys('Banglore')"
   ]
  },
  {
   "cell_type": "code",
   "execution_count": 13,
   "id": "f9c2d46d",
   "metadata": {},
   "outputs": [],
   "source": [
    "search= driver.find_element(By.CLASS_NAME,\"qsbSubmit\")\n",
    "search.click()"
   ]
  },
  {
   "cell_type": "code",
   "execution_count": 14,
   "id": "d587471b",
   "metadata": {},
   "outputs": [],
   "source": [
    "job_title=[]\n",
    "job_location=[]\n",
    "company_name=[]\n",
    "experience_required=[]"
   ]
  },
  {
   "cell_type": "code",
   "execution_count": 15,
   "id": "cbb00a7c",
   "metadata": {},
   "outputs": [],
   "source": [
    "title_tags=driver.find_elements(By.XPATH,'//a[@class=\"title fw500 ellipsis\"]')\n",
    "for i in title_tags[0:10]:\n",
    "    title=i.text\n",
    "    job_title.append(title)\n",
    "    \n",
    "location_tags=driver.find_elements(By.XPATH,'//li[@class=\"fleft grey-text br2 placeHolderLi location\"]') \n",
    "for i in location_tags[0:10]:\n",
    "    location=i.text\n",
    "    job_location.append(location)\n",
    "    \n",
    "    \n",
    "    \n",
    "company_tags=driver.find_elements(By.XPATH,'//a[@class=\"subTitle ellipsis fleft\"]')   \n",
    "for i in company_tags[0:10]:\n",
    "    company=i.text\n",
    "    company_name.append(company)\n",
    "    \n",
    "    \n",
    "experience_tags=driver.find_elements(By.XPATH,'//li[@class=\"fleft grey-text br2 placeHolderLi experience\"]')  \n",
    "for i in experience_tags[0:10]:\n",
    "    exp=i.text\n",
    "    experience_required.append(exp)"
   ]
  },
  {
   "cell_type": "code",
   "execution_count": 16,
   "id": "aef5118d",
   "metadata": {},
   "outputs": [
    {
     "name": "stdout",
     "output_type": "stream",
     "text": [
      "10 10 10 10\n"
     ]
    }
   ],
   "source": [
    "print(len(job_title),len(job_location),len(company_name),len(experience_required))"
   ]
  },
  {
   "cell_type": "code",
   "execution_count": 17,
   "id": "b2fcbd2b",
   "metadata": {},
   "outputs": [
    {
     "data": {
      "text/html": [
       "<div>\n",
       "<style scoped>\n",
       "    .dataframe tbody tr th:only-of-type {\n",
       "        vertical-align: middle;\n",
       "    }\n",
       "\n",
       "    .dataframe tbody tr th {\n",
       "        vertical-align: top;\n",
       "    }\n",
       "\n",
       "    .dataframe thead th {\n",
       "        text-align: right;\n",
       "    }\n",
       "</style>\n",
       "<table border=\"1\" class=\"dataframe\">\n",
       "  <thead>\n",
       "    <tr style=\"text-align: right;\">\n",
       "      <th></th>\n",
       "      <th>job_title</th>\n",
       "      <th>job_location</th>\n",
       "      <th>company_name</th>\n",
       "      <th>experience_required</th>\n",
       "    </tr>\n",
       "  </thead>\n",
       "  <tbody>\n",
       "    <tr>\n",
       "      <th>0</th>\n",
       "      <td>Data analyst</td>\n",
       "      <td>Pune</td>\n",
       "      <td>Machintel</td>\n",
       "      <td>0-2 Yrs</td>\n",
       "    </tr>\n",
       "    <tr>\n",
       "      <th>1</th>\n",
       "      <td>Financial Data Analyst</td>\n",
       "      <td>Remote</td>\n",
       "      <td>Clearwater</td>\n",
       "      <td>0-2 Yrs</td>\n",
       "    </tr>\n",
       "    <tr>\n",
       "      <th>2</th>\n",
       "      <td>Data Analyst</td>\n",
       "      <td>Pune, Ahmedabad, Mumbai (All Areas)</td>\n",
       "      <td>Vedang Innovative It Transformation</td>\n",
       "      <td>0-1 Yrs</td>\n",
       "    </tr>\n",
       "    <tr>\n",
       "      <th>3</th>\n",
       "      <td>Senior Data Research Analyst</td>\n",
       "      <td>Hybrid - Mumbai (All Areas)</td>\n",
       "      <td>Morningstar</td>\n",
       "      <td>0-3 Yrs</td>\n",
       "    </tr>\n",
       "    <tr>\n",
       "      <th>4</th>\n",
       "      <td>Data Analyst</td>\n",
       "      <td>Bangalore/Bengaluru</td>\n",
       "      <td>Cargill</td>\n",
       "      <td>3-5 Yrs</td>\n",
       "    </tr>\n",
       "    <tr>\n",
       "      <th>5</th>\n",
       "      <td>Senior Business Data Analyst with AML ( Notice...</td>\n",
       "      <td>Hybrid - Pune</td>\n",
       "      <td>Atyeti</td>\n",
       "      <td>5-10 Yrs</td>\n",
       "    </tr>\n",
       "    <tr>\n",
       "      <th>6</th>\n",
       "      <td>Data Analyst</td>\n",
       "      <td>Pune</td>\n",
       "      <td>Improx Data And Cloud Consulting</td>\n",
       "      <td>0-2 Yrs</td>\n",
       "    </tr>\n",
       "    <tr>\n",
       "      <th>7</th>\n",
       "      <td>Senior Data Analyst, Trust and Safety</td>\n",
       "      <td>Hyderabad/Secunderabad</td>\n",
       "      <td>Google</td>\n",
       "      <td>4-5 Yrs</td>\n",
       "    </tr>\n",
       "    <tr>\n",
       "      <th>8</th>\n",
       "      <td>Sr . Data Analyst</td>\n",
       "      <td>Hyderabad/Secunderabad</td>\n",
       "      <td>Tech Mahindra</td>\n",
       "      <td>2-12 Yrs</td>\n",
       "    </tr>\n",
       "    <tr>\n",
       "      <th>9</th>\n",
       "      <td>APRP Manager / Senior Data Analyst - MeritTrac...</td>\n",
       "      <td>Bangalore/Bengaluru</td>\n",
       "      <td>MeritTrac</td>\n",
       "      <td>9-14 Yrs</td>\n",
       "    </tr>\n",
       "  </tbody>\n",
       "</table>\n",
       "</div>"
      ],
      "text/plain": [
       "                                           job_title  \\\n",
       "0                                       Data analyst   \n",
       "1                             Financial Data Analyst   \n",
       "2                                       Data Analyst   \n",
       "3                       Senior Data Research Analyst   \n",
       "4                                       Data Analyst   \n",
       "5  Senior Business Data Analyst with AML ( Notice...   \n",
       "6                                       Data Analyst   \n",
       "7              Senior Data Analyst, Trust and Safety   \n",
       "8                                  Sr . Data Analyst   \n",
       "9  APRP Manager / Senior Data Analyst - MeritTrac...   \n",
       "\n",
       "                          job_location                         company_name  \\\n",
       "0                                 Pune                            Machintel   \n",
       "1                               Remote                           Clearwater   \n",
       "2  Pune, Ahmedabad, Mumbai (All Areas)  Vedang Innovative It Transformation   \n",
       "3          Hybrid - Mumbai (All Areas)                          Morningstar   \n",
       "4                  Bangalore/Bengaluru                              Cargill   \n",
       "5                        Hybrid - Pune                               Atyeti   \n",
       "6                                 Pune     Improx Data And Cloud Consulting   \n",
       "7               Hyderabad/Secunderabad                               Google   \n",
       "8               Hyderabad/Secunderabad                        Tech Mahindra   \n",
       "9                  Bangalore/Bengaluru                            MeritTrac   \n",
       "\n",
       "  experience_required  \n",
       "0             0-2 Yrs  \n",
       "1             0-2 Yrs  \n",
       "2             0-1 Yrs  \n",
       "3             0-3 Yrs  \n",
       "4             3-5 Yrs  \n",
       "5            5-10 Yrs  \n",
       "6             0-2 Yrs  \n",
       "7             4-5 Yrs  \n",
       "8            2-12 Yrs  \n",
       "9            9-14 Yrs  "
      ]
     },
     "execution_count": 17,
     "metadata": {},
     "output_type": "execute_result"
    }
   ],
   "source": [
    "df=pd.DataFrame({'job_title':job_title,'job_location':job_location,'company_name':company_name,'experience_required':experience_required})\n",
    "df"
   ]
  },
  {
   "cell_type": "markdown",
   "id": "a0ae8016",
   "metadata": {},
   "source": [
    "# python program to scrape data for “Data Scientist” Job position in “Bangalore” location. You \n",
    "have to scrape the job-title, job-location, company_name. You have to scrape first 10 jobs data"
   ]
  },
  {
   "cell_type": "code",
   "execution_count": 18,
   "id": "c6410d03",
   "metadata": {},
   "outputs": [],
   "source": [
    "driver.get(\"https://www.naukri.com/\")"
   ]
  },
  {
   "cell_type": "code",
   "execution_count": 19,
   "id": "24bbd8c9",
   "metadata": {},
   "outputs": [],
   "source": [
    "designation=driver.find_element(By.CLASS_NAME,\"suggestor-input \")\n",
    "designation.send_keys('Data Scientist')"
   ]
  },
  {
   "cell_type": "code",
   "execution_count": 21,
   "id": "f0f9800e",
   "metadata": {},
   "outputs": [
    {
     "ename": "NoSuchElementException",
     "evalue": "Message: no such element: Unable to locate element: {\"method\":\"xpath\",\"selector\":\"/html/body/div[1]/div[2]/div[3]/div/div/div[5]/div/div/div/input\"}\n  (Session info: chrome=107.0.5304.88)\nStacktrace:\nBacktrace:\n\tOrdinal0 [0x00A1ACD3+2075859]\n\tOrdinal0 [0x009AEE61+1633889]\n\tOrdinal0 [0x008AB7BD+571325]\n\tOrdinal0 [0x008DAC2F+764975]\n\tOrdinal0 [0x008DAE1B+765467]\n\tOrdinal0 [0x0090D0F2+970994]\n\tOrdinal0 [0x008F7364+881508]\n\tOrdinal0 [0x0090B56A+963946]\n\tOrdinal0 [0x008F7136+880950]\n\tOrdinal0 [0x008CFEFD+720637]\n\tOrdinal0 [0x008D0F3F+724799]\n\tGetHandleVerifier [0x00CCEED2+2769538]\n\tGetHandleVerifier [0x00CC0D95+2711877]\n\tGetHandleVerifier [0x00AAA03A+521194]\n\tGetHandleVerifier [0x00AA8DA0+516432]\n\tOrdinal0 [0x009B682C+1665068]\n\tOrdinal0 [0x009BB128+1683752]\n\tOrdinal0 [0x009BB215+1683989]\n\tOrdinal0 [0x009C6484+1729668]\n\tBaseThreadInitThunk [0x75C56739+25]\n\tRtlGetFullPathName_UEx [0x77768FD2+1218]\n\tRtlGetFullPathName_UEx [0x77768F9D+1165]\n",
     "output_type": "error",
     "traceback": [
      "\u001b[1;31m---------------------------------------------------------------------------\u001b[0m",
      "\u001b[1;31mNoSuchElementException\u001b[0m                    Traceback (most recent call last)",
      "Input \u001b[1;32mIn [21]\u001b[0m, in \u001b[0;36m<cell line: 1>\u001b[1;34m()\u001b[0m\n\u001b[1;32m----> 1\u001b[0m location\u001b[38;5;241m=\u001b[39m\u001b[43mdriver\u001b[49m\u001b[38;5;241;43m.\u001b[39;49m\u001b[43mfind_element\u001b[49m\u001b[43m(\u001b[49m\u001b[43mBy\u001b[49m\u001b[38;5;241;43m.\u001b[39;49m\u001b[43mXPATH\u001b[49m\u001b[43m,\u001b[49m\u001b[38;5;124;43m\"\u001b[39;49m\u001b[38;5;124;43m/html/body/div[1]/div[2]/div[3]/div/div/div[5]/div/div/div/input\u001b[39;49m\u001b[38;5;124;43m\"\u001b[39;49m\u001b[43m)\u001b[49m\n\u001b[0;32m      2\u001b[0m location\u001b[38;5;241m.\u001b[39msend_keys(\u001b[38;5;124m'\u001b[39m\u001b[38;5;124mBanglore\u001b[39m\u001b[38;5;124m'\u001b[39m)\n",
      "File \u001b[1;32m~\\anaconda3\\lib\\site-packages\\selenium\\webdriver\\remote\\webdriver.py:857\u001b[0m, in \u001b[0;36mWebDriver.find_element\u001b[1;34m(self, by, value)\u001b[0m\n\u001b[0;32m    854\u001b[0m     by \u001b[38;5;241m=\u001b[39m By\u001b[38;5;241m.\u001b[39mCSS_SELECTOR\n\u001b[0;32m    855\u001b[0m     value \u001b[38;5;241m=\u001b[39m \u001b[38;5;124m'\u001b[39m\u001b[38;5;124m[name=\u001b[39m\u001b[38;5;124m\"\u001b[39m\u001b[38;5;132;01m%s\u001b[39;00m\u001b[38;5;124m\"\u001b[39m\u001b[38;5;124m]\u001b[39m\u001b[38;5;124m'\u001b[39m \u001b[38;5;241m%\u001b[39m value\n\u001b[1;32m--> 857\u001b[0m \u001b[38;5;28;01mreturn\u001b[39;00m \u001b[38;5;28;43mself\u001b[39;49m\u001b[38;5;241;43m.\u001b[39;49m\u001b[43mexecute\u001b[49m\u001b[43m(\u001b[49m\u001b[43mCommand\u001b[49m\u001b[38;5;241;43m.\u001b[39;49m\u001b[43mFIND_ELEMENT\u001b[49m\u001b[43m,\u001b[49m\u001b[43m \u001b[49m\u001b[43m{\u001b[49m\n\u001b[0;32m    858\u001b[0m \u001b[43m    \u001b[49m\u001b[38;5;124;43m'\u001b[39;49m\u001b[38;5;124;43musing\u001b[39;49m\u001b[38;5;124;43m'\u001b[39;49m\u001b[43m:\u001b[49m\u001b[43m \u001b[49m\u001b[43mby\u001b[49m\u001b[43m,\u001b[49m\n\u001b[0;32m    859\u001b[0m \u001b[43m    \u001b[49m\u001b[38;5;124;43m'\u001b[39;49m\u001b[38;5;124;43mvalue\u001b[39;49m\u001b[38;5;124;43m'\u001b[39;49m\u001b[43m:\u001b[49m\u001b[43m \u001b[49m\u001b[43mvalue\u001b[49m\u001b[43m}\u001b[49m\u001b[43m)\u001b[49m[\u001b[38;5;124m'\u001b[39m\u001b[38;5;124mvalue\u001b[39m\u001b[38;5;124m'\u001b[39m]\n",
      "File \u001b[1;32m~\\anaconda3\\lib\\site-packages\\selenium\\webdriver\\remote\\webdriver.py:435\u001b[0m, in \u001b[0;36mWebDriver.execute\u001b[1;34m(self, driver_command, params)\u001b[0m\n\u001b[0;32m    433\u001b[0m response \u001b[38;5;241m=\u001b[39m \u001b[38;5;28mself\u001b[39m\u001b[38;5;241m.\u001b[39mcommand_executor\u001b[38;5;241m.\u001b[39mexecute(driver_command, params)\n\u001b[0;32m    434\u001b[0m \u001b[38;5;28;01mif\u001b[39;00m response:\n\u001b[1;32m--> 435\u001b[0m     \u001b[38;5;28;43mself\u001b[39;49m\u001b[38;5;241;43m.\u001b[39;49m\u001b[43merror_handler\u001b[49m\u001b[38;5;241;43m.\u001b[39;49m\u001b[43mcheck_response\u001b[49m\u001b[43m(\u001b[49m\u001b[43mresponse\u001b[49m\u001b[43m)\u001b[49m\n\u001b[0;32m    436\u001b[0m     response[\u001b[38;5;124m'\u001b[39m\u001b[38;5;124mvalue\u001b[39m\u001b[38;5;124m'\u001b[39m] \u001b[38;5;241m=\u001b[39m \u001b[38;5;28mself\u001b[39m\u001b[38;5;241m.\u001b[39m_unwrap_value(\n\u001b[0;32m    437\u001b[0m         response\u001b[38;5;241m.\u001b[39mget(\u001b[38;5;124m'\u001b[39m\u001b[38;5;124mvalue\u001b[39m\u001b[38;5;124m'\u001b[39m, \u001b[38;5;28;01mNone\u001b[39;00m))\n\u001b[0;32m    438\u001b[0m     \u001b[38;5;28;01mreturn\u001b[39;00m response\n",
      "File \u001b[1;32m~\\anaconda3\\lib\\site-packages\\selenium\\webdriver\\remote\\errorhandler.py:247\u001b[0m, in \u001b[0;36mErrorHandler.check_response\u001b[1;34m(self, response)\u001b[0m\n\u001b[0;32m    245\u001b[0m         alert_text \u001b[38;5;241m=\u001b[39m value[\u001b[38;5;124m'\u001b[39m\u001b[38;5;124malert\u001b[39m\u001b[38;5;124m'\u001b[39m]\u001b[38;5;241m.\u001b[39mget(\u001b[38;5;124m'\u001b[39m\u001b[38;5;124mtext\u001b[39m\u001b[38;5;124m'\u001b[39m)\n\u001b[0;32m    246\u001b[0m     \u001b[38;5;28;01mraise\u001b[39;00m exception_class(message, screen, stacktrace, alert_text)  \u001b[38;5;66;03m# type: ignore[call-arg]  # mypy is not smart enough here\u001b[39;00m\n\u001b[1;32m--> 247\u001b[0m \u001b[38;5;28;01mraise\u001b[39;00m exception_class(message, screen, stacktrace)\n",
      "\u001b[1;31mNoSuchElementException\u001b[0m: Message: no such element: Unable to locate element: {\"method\":\"xpath\",\"selector\":\"/html/body/div[1]/div[2]/div[3]/div/div/div[5]/div/div/div/input\"}\n  (Session info: chrome=107.0.5304.88)\nStacktrace:\nBacktrace:\n\tOrdinal0 [0x00A1ACD3+2075859]\n\tOrdinal0 [0x009AEE61+1633889]\n\tOrdinal0 [0x008AB7BD+571325]\n\tOrdinal0 [0x008DAC2F+764975]\n\tOrdinal0 [0x008DAE1B+765467]\n\tOrdinal0 [0x0090D0F2+970994]\n\tOrdinal0 [0x008F7364+881508]\n\tOrdinal0 [0x0090B56A+963946]\n\tOrdinal0 [0x008F7136+880950]\n\tOrdinal0 [0x008CFEFD+720637]\n\tOrdinal0 [0x008D0F3F+724799]\n\tGetHandleVerifier [0x00CCEED2+2769538]\n\tGetHandleVerifier [0x00CC0D95+2711877]\n\tGetHandleVerifier [0x00AAA03A+521194]\n\tGetHandleVerifier [0x00AA8DA0+516432]\n\tOrdinal0 [0x009B682C+1665068]\n\tOrdinal0 [0x009BB128+1683752]\n\tOrdinal0 [0x009BB215+1683989]\n\tOrdinal0 [0x009C6484+1729668]\n\tBaseThreadInitThunk [0x75C56739+25]\n\tRtlGetFullPathName_UEx [0x77768FD2+1218]\n\tRtlGetFullPathName_UEx [0x77768F9D+1165]\n"
     ]
    }
   ],
   "source": [
    "location=driver.find_element(By.XPATH,\"/html/body/div[1]/div[2]/div[3]/div/div/div[5]/div/div/div/input\")\n",
    "location.send_keys('Banglore')"
   ]
  },
  {
   "cell_type": "code",
   "execution_count": 22,
   "id": "389ee1a8",
   "metadata": {},
   "outputs": [],
   "source": [
    "search= driver.find_element(By.CLASS_NAME,\"qsbSubmit\")\n",
    "search.click()"
   ]
  },
  {
   "cell_type": "code",
   "execution_count": 23,
   "id": "3242135d",
   "metadata": {},
   "outputs": [],
   "source": [
    "j_title=[]\n",
    "j_location=[]\n",
    "c_name=[]"
   ]
  },
  {
   "cell_type": "code",
   "execution_count": 24,
   "id": "46f6e254",
   "metadata": {},
   "outputs": [],
   "source": [
    "titles=driver.find_elements(By.XPATH,'//a[@class=\"title fw500 ellipsis\"]')\n",
    "for i in titles[0:10]:\n",
    "    tit=i.text\n",
    "    j_title.append(tit)\n",
    "    \n",
    "location=driver.find_elements(By.XPATH,'//li[@class=\"fleft grey-text br2 placeHolderLi location\"]') \n",
    "for i in location[0:10]:\n",
    "    loc=i.text\n",
    "    j_location.append(loc)\n",
    "    \n",
    "    \n",
    "    \n",
    "company=driver.find_elements(By.XPATH,'//a[@class=\"subTitle ellipsis fleft\"]')   \n",
    "for i in company[0:10]:\n",
    "    comp=i.text\n",
    "    c_name.append(comp)\n",
    "    "
   ]
  },
  {
   "cell_type": "code",
   "execution_count": 25,
   "id": "4211729a",
   "metadata": {},
   "outputs": [
    {
     "name": "stdout",
     "output_type": "stream",
     "text": [
      "10 10 10\n"
     ]
    }
   ],
   "source": [
    "print(len(j_title),len(j_location),len(c_name))"
   ]
  },
  {
   "cell_type": "code",
   "execution_count": 26,
   "id": "994684a3",
   "metadata": {},
   "outputs": [],
   "source": [
    "df=pd.DataFrame({'job_title':j_title,'job_location':j_location,'company_name':c_name})"
   ]
  },
  {
   "cell_type": "code",
   "execution_count": 27,
   "id": "b7dfa8e8",
   "metadata": {},
   "outputs": [
    {
     "data": {
      "text/html": [
       "<div>\n",
       "<style scoped>\n",
       "    .dataframe tbody tr th:only-of-type {\n",
       "        vertical-align: middle;\n",
       "    }\n",
       "\n",
       "    .dataframe tbody tr th {\n",
       "        vertical-align: top;\n",
       "    }\n",
       "\n",
       "    .dataframe thead th {\n",
       "        text-align: right;\n",
       "    }\n",
       "</style>\n",
       "<table border=\"1\" class=\"dataframe\">\n",
       "  <thead>\n",
       "    <tr style=\"text-align: right;\">\n",
       "      <th></th>\n",
       "      <th>job_title</th>\n",
       "      <th>job_location</th>\n",
       "      <th>company_name</th>\n",
       "    </tr>\n",
       "  </thead>\n",
       "  <tbody>\n",
       "    <tr>\n",
       "      <th>0</th>\n",
       "      <td>Analystics &amp; Modeling Specialist</td>\n",
       "      <td>Kolkata, Mumbai, Hyderabad/Secunderabad, Pune,...</td>\n",
       "      <td>Accenture</td>\n",
       "    </tr>\n",
       "    <tr>\n",
       "      <th>1</th>\n",
       "      <td>Assistant Manager - Data Science</td>\n",
       "      <td>Hybrid - Mumbai, Pune, Bangalore/Bengaluru</td>\n",
       "      <td>Citiustech</td>\n",
       "    </tr>\n",
       "    <tr>\n",
       "      <th>2</th>\n",
       "      <td>Senior Data Scientist</td>\n",
       "      <td>Hybrid - Pune, Chennai, Bangalore/Bengaluru</td>\n",
       "      <td>Wipro</td>\n",
       "    </tr>\n",
       "    <tr>\n",
       "      <th>3</th>\n",
       "      <td>Program Manager, Analytics</td>\n",
       "      <td>Bangalore/Bengaluru</td>\n",
       "      <td>Uber</td>\n",
       "    </tr>\n",
       "    <tr>\n",
       "      <th>4</th>\n",
       "      <td>Data Scientist</td>\n",
       "      <td>Bangalore/Bengaluru</td>\n",
       "      <td>Quest Global</td>\n",
       "    </tr>\n",
       "    <tr>\n",
       "      <th>5</th>\n",
       "      <td>ACN - Applied Intelligence - Data Scientist - 09</td>\n",
       "      <td>Bangalore/Bengaluru</td>\n",
       "      <td>Accenture</td>\n",
       "    </tr>\n",
       "    <tr>\n",
       "      <th>6</th>\n",
       "      <td>Data Scientist - Looking For Immediate Joiners</td>\n",
       "      <td>Hybrid - Hyderabad/Secunderabad, Bangalore/Ben...</td>\n",
       "      <td>Wipro</td>\n",
       "    </tr>\n",
       "    <tr>\n",
       "      <th>7</th>\n",
       "      <td>Senior Data Scientist</td>\n",
       "      <td>Mumbai, New Delhi, Chennai, Bangalore/Bengaluru</td>\n",
       "      <td>Boston Consulting Group</td>\n",
       "    </tr>\n",
       "    <tr>\n",
       "      <th>8</th>\n",
       "      <td>Data Scientist - II</td>\n",
       "      <td>India, Bangalore/Bengaluru, Mumbai (All Areas)</td>\n",
       "      <td>Bizongo</td>\n",
       "    </tr>\n",
       "    <tr>\n",
       "      <th>9</th>\n",
       "      <td>Lead ML Scientist</td>\n",
       "      <td>Mumbai, Bangalore/Bengaluru</td>\n",
       "      <td>Fractal Analytics</td>\n",
       "    </tr>\n",
       "  </tbody>\n",
       "</table>\n",
       "</div>"
      ],
      "text/plain": [
       "                                          job_title  \\\n",
       "0                  Analystics & Modeling Specialist   \n",
       "1                  Assistant Manager - Data Science   \n",
       "2                             Senior Data Scientist   \n",
       "3                        Program Manager, Analytics   \n",
       "4                                    Data Scientist   \n",
       "5  ACN - Applied Intelligence - Data Scientist - 09   \n",
       "6    Data Scientist - Looking For Immediate Joiners   \n",
       "7                             Senior Data Scientist   \n",
       "8                               Data Scientist - II   \n",
       "9                                 Lead ML Scientist   \n",
       "\n",
       "                                        job_location             company_name  \n",
       "0  Kolkata, Mumbai, Hyderabad/Secunderabad, Pune,...                Accenture  \n",
       "1         Hybrid - Mumbai, Pune, Bangalore/Bengaluru               Citiustech  \n",
       "2        Hybrid - Pune, Chennai, Bangalore/Bengaluru                    Wipro  \n",
       "3                                Bangalore/Bengaluru                     Uber  \n",
       "4                                Bangalore/Bengaluru             Quest Global  \n",
       "5                                Bangalore/Bengaluru                Accenture  \n",
       "6  Hybrid - Hyderabad/Secunderabad, Bangalore/Ben...                    Wipro  \n",
       "7    Mumbai, New Delhi, Chennai, Bangalore/Bengaluru  Boston Consulting Group  \n",
       "8     India, Bangalore/Bengaluru, Mumbai (All Areas)                  Bizongo  \n",
       "9                        Mumbai, Bangalore/Bengaluru        Fractal Analytics  "
      ]
     },
     "execution_count": 27,
     "metadata": {},
     "output_type": "execute_result"
    }
   ],
   "source": [
    "df"
   ]
  },
  {
   "cell_type": "code",
   "execution_count": null,
   "id": "c3eeb7f3",
   "metadata": {},
   "outputs": [],
   "source": []
  },
  {
   "cell_type": "markdown",
   "id": "d4204129",
   "metadata": {},
   "source": [
    "# You have to scrape the job-title, job-location, company name, experience required. \n",
    "The location filter to be used is “Delhi/NCR”. The salary filter to be used is “3-6” lakhs"
   ]
  },
  {
   "cell_type": "code",
   "execution_count": 28,
   "id": "827a270a",
   "metadata": {},
   "outputs": [],
   "source": [
    "driver.get(\"https://www.naukri.com/\")"
   ]
  },
  {
   "cell_type": "code",
   "execution_count": 29,
   "id": "97c80778",
   "metadata": {},
   "outputs": [],
   "source": [
    "designation=driver.find_element(By.CLASS_NAME,\"suggestor-input \")\n",
    "designation.send_keys('Data Scientist')"
   ]
  },
  {
   "cell_type": "code",
   "execution_count": 30,
   "id": "4fe6f430",
   "metadata": {},
   "outputs": [],
   "source": [
    "search= driver.find_element(By.CLASS_NAME,\"qsbSubmit\")\n",
    "search.click()"
   ]
  },
  {
   "cell_type": "code",
   "execution_count": 31,
   "id": "743e253b",
   "metadata": {},
   "outputs": [],
   "source": [
    "loc_filter=driver.find_elements(By.XPATH,'//div[@class=\"mt-8 chckBoxCont\"]//span')\n",
    "\n",
    "for i in loc_filter :\n",
    "    if (i.text=='Delhi / NCR'):\n",
    "        i.click()\n",
    "        break"
   ]
  },
  {
   "cell_type": "code",
   "execution_count": 32,
   "id": "a9d191c0",
   "metadata": {},
   "outputs": [],
   "source": [
    "sal_filter=driver.find_elements(By.XPATH,'//div[@class=\"mt-8 chckBoxCont\"]//span')\n",
    "for i in sal_filter:\n",
    "    if(i.text=='3-6 Lakhs'):\n",
    "        i.click()\n",
    "        break"
   ]
  },
  {
   "cell_type": "code",
   "execution_count": 33,
   "id": "1edbc3c7",
   "metadata": {},
   "outputs": [],
   "source": [
    "jt=[]\n",
    "jl=[]\n",
    "cn=[]\n",
    "er=[]"
   ]
  },
  {
   "cell_type": "code",
   "execution_count": 34,
   "id": "a51e8c7e",
   "metadata": {},
   "outputs": [],
   "source": [
    "j_tit=driver.find_elements(By.XPATH,'//a[@class=\"title fw500 ellipsis\"]')\n",
    "for i in j_tit[0:10]:\n",
    "    t=i.text\n",
    "    jt.append(t)\n",
    "    \n",
    "j_locn=driver.find_elements(By.XPATH,'//li[@class=\"fleft grey-text br2 placeHolderLi location\"]') \n",
    "for i in j_locn[0:10]:\n",
    "    l=i.text\n",
    "    jl.append(l)\n",
    "    \n",
    "    \n",
    "    \n",
    "j_com=driver.find_elements(By.XPATH,'//a[@class=\"subTitle ellipsis fleft\"]')   \n",
    "for i in j_com[0:10]:\n",
    "    c=i.text\n",
    "    cn.append(c)\n",
    "    \n",
    "e_req=driver.find_elements(By.XPATH,'//li[@class=\"fleft grey-text br2 placeHolderLi experience\"]') \n",
    "for i in e_req[0:10]:\n",
    "    e=i.text\n",
    "    er.append(e)    "
   ]
  },
  {
   "cell_type": "code",
   "execution_count": 35,
   "id": "183f7dfa",
   "metadata": {},
   "outputs": [
    {
     "name": "stdout",
     "output_type": "stream",
     "text": [
      "10 10 10 10\n"
     ]
    }
   ],
   "source": [
    "print(len(jt),len(jl),len(cn),len(er))"
   ]
  },
  {
   "cell_type": "code",
   "execution_count": 36,
   "id": "02446d5d",
   "metadata": {},
   "outputs": [],
   "source": [
    "df=pd.DataFrame({'job_title':jt,'job_location':jl,'company_name':cn,'experience_required':er})"
   ]
  },
  {
   "cell_type": "code",
   "execution_count": 37,
   "id": "3fad048a",
   "metadata": {},
   "outputs": [
    {
     "data": {
      "text/html": [
       "<div>\n",
       "<style scoped>\n",
       "    .dataframe tbody tr th:only-of-type {\n",
       "        vertical-align: middle;\n",
       "    }\n",
       "\n",
       "    .dataframe tbody tr th {\n",
       "        vertical-align: top;\n",
       "    }\n",
       "\n",
       "    .dataframe thead th {\n",
       "        text-align: right;\n",
       "    }\n",
       "</style>\n",
       "<table border=\"1\" class=\"dataframe\">\n",
       "  <thead>\n",
       "    <tr style=\"text-align: right;\">\n",
       "      <th></th>\n",
       "      <th>job_title</th>\n",
       "      <th>job_location</th>\n",
       "      <th>company_name</th>\n",
       "      <th>experience_required</th>\n",
       "    </tr>\n",
       "  </thead>\n",
       "  <tbody>\n",
       "    <tr>\n",
       "      <th>0</th>\n",
       "      <td>Senior Data Scientist</td>\n",
       "      <td>Mumbai, New Delhi, Chennai, Bangalore/Bengaluru</td>\n",
       "      <td>Boston Consulting Group</td>\n",
       "      <td>5-10 Yrs</td>\n",
       "    </tr>\n",
       "    <tr>\n",
       "      <th>1</th>\n",
       "      <td>Data Scientist</td>\n",
       "      <td>Noida, Hyderabad/Secunderabad, Chennai, Bangal...</td>\n",
       "      <td>HCLTech</td>\n",
       "      <td>4-9 Yrs</td>\n",
       "    </tr>\n",
       "    <tr>\n",
       "      <th>2</th>\n",
       "      <td>Opportunity For Data Scientist - Female Candid...</td>\n",
       "      <td>Hybrid - Gurgaon/Gurugram, Bangalore/Bengaluru...</td>\n",
       "      <td>PayU Finance</td>\n",
       "      <td>3-7 Yrs</td>\n",
       "    </tr>\n",
       "    <tr>\n",
       "      <th>3</th>\n",
       "      <td>AVAP Agile Information Systems - Data Scientis...</td>\n",
       "      <td>Delhi / NCR, Kolkata, Mumbai, Hyderabad/Secund...</td>\n",
       "      <td>AVAP Agile</td>\n",
       "      <td>3-8 Yrs</td>\n",
       "    </tr>\n",
       "    <tr>\n",
       "      <th>4</th>\n",
       "      <td>DigitalBCG GAMMA Data Scientist</td>\n",
       "      <td>New Delhi, Bangalore/Bengaluru</td>\n",
       "      <td>Boston Consulting Group</td>\n",
       "      <td>2-5 Yrs</td>\n",
       "    </tr>\n",
       "    <tr>\n",
       "      <th>5</th>\n",
       "      <td>Data Scientist</td>\n",
       "      <td>Noida, Hyderabad/Secunderabad, Pune, Chennai, ...</td>\n",
       "      <td>ACS Solutions</td>\n",
       "      <td>4-8 Yrs</td>\n",
       "    </tr>\n",
       "    <tr>\n",
       "      <th>6</th>\n",
       "      <td>Data Scientist</td>\n",
       "      <td>Noida, Hyderabad/Secunderabad, Pune, Chennai, ...</td>\n",
       "      <td>ACS Solutions</td>\n",
       "      <td>4-8 Yrs</td>\n",
       "    </tr>\n",
       "    <tr>\n",
       "      <th>7</th>\n",
       "      <td>Senior Analyst-Data Science</td>\n",
       "      <td>Gurgaon/Gurugram</td>\n",
       "      <td>Accenture</td>\n",
       "      <td>5-8 Yrs</td>\n",
       "    </tr>\n",
       "    <tr>\n",
       "      <th>8</th>\n",
       "      <td>ACN - Applied Intelligence - Data &amp; Insights -...</td>\n",
       "      <td>Gurgaon/Gurugram</td>\n",
       "      <td>Accenture</td>\n",
       "      <td>4-6 Yrs</td>\n",
       "    </tr>\n",
       "    <tr>\n",
       "      <th>9</th>\n",
       "      <td>Data Scientist: Advanced Analytics</td>\n",
       "      <td>Gurgaon/Gurugram</td>\n",
       "      <td>IBM</td>\n",
       "      <td>3-7 Yrs</td>\n",
       "    </tr>\n",
       "  </tbody>\n",
       "</table>\n",
       "</div>"
      ],
      "text/plain": [
       "                                           job_title  \\\n",
       "0                              Senior Data Scientist   \n",
       "1                                     Data Scientist   \n",
       "2  Opportunity For Data Scientist - Female Candid...   \n",
       "3  AVAP Agile Information Systems - Data Scientis...   \n",
       "4                    DigitalBCG GAMMA Data Scientist   \n",
       "5                                     Data Scientist   \n",
       "6                                     Data Scientist   \n",
       "7                        Senior Analyst-Data Science   \n",
       "8  ACN - Applied Intelligence - Data & Insights -...   \n",
       "9                 Data Scientist: Advanced Analytics   \n",
       "\n",
       "                                        job_location             company_name  \\\n",
       "0    Mumbai, New Delhi, Chennai, Bangalore/Bengaluru  Boston Consulting Group   \n",
       "1  Noida, Hyderabad/Secunderabad, Chennai, Bangal...                  HCLTech   \n",
       "2  Hybrid - Gurgaon/Gurugram, Bangalore/Bengaluru...             PayU Finance   \n",
       "3  Delhi / NCR, Kolkata, Mumbai, Hyderabad/Secund...               AVAP Agile   \n",
       "4                     New Delhi, Bangalore/Bengaluru  Boston Consulting Group   \n",
       "5  Noida, Hyderabad/Secunderabad, Pune, Chennai, ...            ACS Solutions   \n",
       "6  Noida, Hyderabad/Secunderabad, Pune, Chennai, ...            ACS Solutions   \n",
       "7                                   Gurgaon/Gurugram                Accenture   \n",
       "8                                   Gurgaon/Gurugram                Accenture   \n",
       "9                                   Gurgaon/Gurugram                      IBM   \n",
       "\n",
       "  experience_required  \n",
       "0            5-10 Yrs  \n",
       "1             4-9 Yrs  \n",
       "2             3-7 Yrs  \n",
       "3             3-8 Yrs  \n",
       "4             2-5 Yrs  \n",
       "5             4-8 Yrs  \n",
       "6             4-8 Yrs  \n",
       "7             5-8 Yrs  \n",
       "8             4-6 Yrs  \n",
       "9             3-7 Yrs  "
      ]
     },
     "execution_count": 37,
     "metadata": {},
     "output_type": "execute_result"
    }
   ],
   "source": [
    "df"
   ]
  },
  {
   "cell_type": "markdown",
   "id": "29ed1e3c",
   "metadata": {},
   "source": [
    "# : Scrape data of first 100 sunglasses listings on flipkart.com. You have to scrape four attributes:\n",
    " Brand, Product Description, Price,discount"
   ]
  },
  {
   "cell_type": "code",
   "execution_count": 38,
   "id": "ee2df9f9",
   "metadata": {},
   "outputs": [],
   "source": [
    "import time"
   ]
  },
  {
   "cell_type": "code",
   "execution_count": 39,
   "id": "86ccbb5f",
   "metadata": {},
   "outputs": [],
   "source": [
    "cd=webdriver.Chrome(r\"C:\\Users\\Ashu\\Desktop\\chromedriver_win32\\Chromedriver.exe\")"
   ]
  },
  {
   "cell_type": "code",
   "execution_count": 40,
   "id": "382054c2",
   "metadata": {},
   "outputs": [],
   "source": [
    "cd.get(\"https://www.flipkart.com/\")"
   ]
  },
  {
   "cell_type": "code",
   "execution_count": 41,
   "id": "223af87c",
   "metadata": {},
   "outputs": [],
   "source": [
    "stop= cd.find_element(By.XPATH,'/html/body/div[2]/div/div/button')\n",
    "stop.click()"
   ]
  },
  {
   "cell_type": "code",
   "execution_count": 42,
   "id": "cadebf9d",
   "metadata": {},
   "outputs": [],
   "source": [
    "search_items=cd.find_element(By.XPATH,\"/html/body/div[1]/div/div[1]/div[1]/div[2]/div[2]/form/div/div/input\")\n",
    "search_items.send_keys(\"sunglasses\")"
   ]
  },
  {
   "cell_type": "code",
   "execution_count": 43,
   "id": "2f08fbcb",
   "metadata": {},
   "outputs": [],
   "source": [
    "search= cd.find_element(By.CLASS_NAME,\"L0Z3Pu\")\n",
    "search.click()"
   ]
  },
  {
   "cell_type": "code",
   "execution_count": 44,
   "id": "b150fa88",
   "metadata": {},
   "outputs": [],
   "source": [
    "Brand=[] \n",
    "Product_Description=[] \n",
    "Price=[]\n",
    "discount=[]"
   ]
  },
  {
   "cell_type": "code",
   "execution_count": 46,
   "id": "44410ab5",
   "metadata": {},
   "outputs": [],
   "source": [
    "for i in range(3): \n",
    "\n",
    "    brand=cd.find_elements(By.XPATH,'//div[@class=\"_2WkVRV\"]')\n",
    "    for i in brand:\n",
    "        b=i.text\n",
    "        Brand.append(b)    \n",
    "        \n",
    "        p_d=cd.find_elements(By.XPATH,'//a[@class=\"IRpwTa\"]')\n",
    "    for i in p_d:                         \n",
    "        pd=i.text\n",
    "        Product_Description.append(pd)\n",
    "    \n",
    "        pri=cd.find_elements(By.XPATH,'//div[@class=\"_30jeq3\"]')   \n",
    "    for i in pri:\n",
    "        p=i.text\n",
    "        Price.append(p)\n",
    "    \n",
    "        dis=cd.find_elements(By.XPATH,'//div[@class=\"_3Ay6Sb\"]')\n",
    "    for i in dis:\n",
    "        di=i.text\n",
    "        discount.append(di)    \n",
    "    time.sleep(3)\n",
    "    \n",
    "next_button= cd.find_element(By.XPATH,'//a[@class=\"_1LKTO3\"]')\n",
    "next_button.click()\n"
   ]
  },
  {
   "cell_type": "code",
   "execution_count": 47,
   "id": "838b6f30",
   "metadata": {},
   "outputs": [
    {
     "data": {
      "text/plain": [
       "[<selenium.webdriver.remote.webelement.WebElement (session=\"53b13f862ca3724b67754312b58b4d6a\", element=\"c18c35c6-6645-4f5a-80f2-e9cb1cd38f3f\")>,\n",
       " <selenium.webdriver.remote.webelement.WebElement (session=\"53b13f862ca3724b67754312b58b4d6a\", element=\"f26e306b-5c4b-4229-9e4d-786e5a6de11b\")>,\n",
       " <selenium.webdriver.remote.webelement.WebElement (session=\"53b13f862ca3724b67754312b58b4d6a\", element=\"67b1d251-7f4c-4a8f-bf71-5bed86d888b5\")>,\n",
       " <selenium.webdriver.remote.webelement.WebElement (session=\"53b13f862ca3724b67754312b58b4d6a\", element=\"b321758b-6caa-4c1f-8842-3c409018de67\")>,\n",
       " <selenium.webdriver.remote.webelement.WebElement (session=\"53b13f862ca3724b67754312b58b4d6a\", element=\"9d838489-9c54-42a8-8bc7-16d4149c0804\")>,\n",
       " <selenium.webdriver.remote.webelement.WebElement (session=\"53b13f862ca3724b67754312b58b4d6a\", element=\"5c528026-c8d8-41ab-b459-0f9e674ef25f\")>,\n",
       " <selenium.webdriver.remote.webelement.WebElement (session=\"53b13f862ca3724b67754312b58b4d6a\", element=\"395e30d3-e0c4-4d85-8ff1-b30dcbcf0369\")>,\n",
       " <selenium.webdriver.remote.webelement.WebElement (session=\"53b13f862ca3724b67754312b58b4d6a\", element=\"94623670-9d55-48f1-bf95-fc566b5b74d9\")>,\n",
       " <selenium.webdriver.remote.webelement.WebElement (session=\"53b13f862ca3724b67754312b58b4d6a\", element=\"530e0afd-afac-40d3-8205-f2aa98b8a0ec\")>]"
      ]
     },
     "execution_count": 47,
     "metadata": {},
     "output_type": "execute_result"
    }
   ],
   "source": [
    "# to fetch urls\n",
    "url=cd.find_elements(By.XPATH,'//a[@class=\"ge-49M\"]')\n",
    "url[0:10]"
   ]
  },
  {
   "cell_type": "code",
   "execution_count": 48,
   "id": "de2f20de",
   "metadata": {},
   "outputs": [
    {
     "name": "stdout",
     "output_type": "stream",
     "text": [
      "https://www.flipkart.com/search?q=sunglasses&otracker=search&otracker1=search&marketplace=FLIPKART&as-show=off&as=off&page=2\n",
      "https://www.flipkart.com/search?q=sunglasses&otracker=search&otracker1=search&marketplace=FLIPKART&as-show=off&as=off&page=3\n",
      "https://www.flipkart.com/search?q=sunglasses&otracker=search&otracker1=search&marketplace=FLIPKART&as-show=off&as=off&page=4\n",
      "https://www.flipkart.com/search?q=sunglasses&otracker=search&otracker1=search&marketplace=FLIPKART&as-show=off&as=off&page=5\n",
      "https://www.flipkart.com/search?q=sunglasses&otracker=search&otracker1=search&marketplace=FLIPKART&as-show=off&as=off&page=6\n",
      "https://www.flipkart.com/search?q=sunglasses&otracker=search&otracker1=search&marketplace=FLIPKART&as-show=off&as=off&page=7\n",
      "https://www.flipkart.com/search?q=sunglasses&otracker=search&otracker1=search&marketplace=FLIPKART&as-show=off&as=off&page=8\n",
      "https://www.flipkart.com/search?q=sunglasses&otracker=search&otracker1=search&marketplace=FLIPKART&as-show=off&as=off&page=9\n",
      "https://www.flipkart.com/search?q=sunglasses&otracker=search&otracker1=search&marketplace=FLIPKART&as-show=off&as=off&page=10\n"
     ]
    }
   ],
   "source": [
    "for i in url[0:10]:\n",
    "    print(i.get_attribute('href'))"
   ]
  },
  {
   "cell_type": "code",
   "execution_count": 49,
   "id": "7f13eef8",
   "metadata": {},
   "outputs": [
    {
     "name": "stdout",
     "output_type": "stream",
     "text": [
      "120 120 120 120\n"
     ]
    }
   ],
   "source": [
    "print(len(Brand),len(Product_Description),len(Price),len(discount))\n"
   ]
  },
  {
   "cell_type": "code",
   "execution_count": 50,
   "id": "40b831e0",
   "metadata": {},
   "outputs": [],
   "source": [
    "import pandas as pd"
   ]
  },
  {
   "cell_type": "code",
   "execution_count": 51,
   "id": "d78dd790",
   "metadata": {},
   "outputs": [],
   "source": [
    "\n",
    "df = pd.DataFrame({'Brand': Brand,'Product_Description':Product_Description,'Price':Price,'Discount':discount})[0:100]\n"
   ]
  },
  {
   "cell_type": "code",
   "execution_count": 52,
   "id": "830ca38a",
   "metadata": {},
   "outputs": [
    {
     "data": {
      "text/html": [
       "<div>\n",
       "<style scoped>\n",
       "    .dataframe tbody tr th:only-of-type {\n",
       "        vertical-align: middle;\n",
       "    }\n",
       "\n",
       "    .dataframe tbody tr th {\n",
       "        vertical-align: top;\n",
       "    }\n",
       "\n",
       "    .dataframe thead th {\n",
       "        text-align: right;\n",
       "    }\n",
       "</style>\n",
       "<table border=\"1\" class=\"dataframe\">\n",
       "  <thead>\n",
       "    <tr style=\"text-align: right;\">\n",
       "      <th></th>\n",
       "      <th>Brand</th>\n",
       "      <th>Product_Description</th>\n",
       "      <th>Price</th>\n",
       "      <th>Discount</th>\n",
       "    </tr>\n",
       "  </thead>\n",
       "  <tbody>\n",
       "    <tr>\n",
       "      <th>0</th>\n",
       "      <td>Resist</td>\n",
       "      <td>Polarized Wayfarer Sunglasses (Free Size)</td>\n",
       "      <td>₹1,399</td>\n",
       "      <td>65% off</td>\n",
       "    </tr>\n",
       "    <tr>\n",
       "      <th>1</th>\n",
       "      <td>DEXENT COLLECTION</td>\n",
       "      <td>UV Protection Oval Sunglasses (Free Size)</td>\n",
       "      <td>₹227</td>\n",
       "      <td>49% off</td>\n",
       "    </tr>\n",
       "    <tr>\n",
       "      <th>2</th>\n",
       "      <td>Fastrack</td>\n",
       "      <td>UV Protection Wayfarer Sunglasses (Free Size)</td>\n",
       "      <td>₹649</td>\n",
       "      <td>35% off</td>\n",
       "    </tr>\n",
       "    <tr>\n",
       "      <th>3</th>\n",
       "      <td>Fastrack</td>\n",
       "      <td>UV Protection Rectangular Sunglasses (Free Size)</td>\n",
       "      <td>₹519</td>\n",
       "      <td>35% off</td>\n",
       "    </tr>\n",
       "    <tr>\n",
       "      <th>4</th>\n",
       "      <td>PIRASO</td>\n",
       "      <td>UV Protection Rectangular Sunglasses (52)</td>\n",
       "      <td>₹199</td>\n",
       "      <td>87% off</td>\n",
       "    </tr>\n",
       "    <tr>\n",
       "      <th>...</th>\n",
       "      <td>...</td>\n",
       "      <td>...</td>\n",
       "      <td>...</td>\n",
       "      <td>...</td>\n",
       "    </tr>\n",
       "    <tr>\n",
       "      <th>95</th>\n",
       "      <td>SUNBEE</td>\n",
       "      <td>UV Protection, Polarized Wayfarer Sunglasses (...</td>\n",
       "      <td>₹283</td>\n",
       "      <td>78% off</td>\n",
       "    </tr>\n",
       "    <tr>\n",
       "      <th>96</th>\n",
       "      <td>ROYAL SON</td>\n",
       "      <td>UV Protection Retro Square Sunglasses (60)</td>\n",
       "      <td>₹569</td>\n",
       "      <td>71% off</td>\n",
       "    </tr>\n",
       "    <tr>\n",
       "      <th>97</th>\n",
       "      <td>RESIST EYEWEAR</td>\n",
       "      <td>Toughened Glass Lens Aviator Sunglasses (Free ...</td>\n",
       "      <td>₹1,399</td>\n",
       "      <td>72% off</td>\n",
       "    </tr>\n",
       "    <tr>\n",
       "      <th>98</th>\n",
       "      <td>Fastrack</td>\n",
       "      <td>UV Protection Wayfarer Sunglasses (Free Size)</td>\n",
       "      <td>₹649</td>\n",
       "      <td>35% off</td>\n",
       "    </tr>\n",
       "    <tr>\n",
       "      <th>99</th>\n",
       "      <td>Elligator</td>\n",
       "      <td>UV Protection Cat-eye, Retro Square, Oval, Rou...</td>\n",
       "      <td>₹176</td>\n",
       "      <td>82% off</td>\n",
       "    </tr>\n",
       "  </tbody>\n",
       "</table>\n",
       "<p>100 rows × 4 columns</p>\n",
       "</div>"
      ],
      "text/plain": [
       "                Brand                                Product_Description  \\\n",
       "0              Resist          Polarized Wayfarer Sunglasses (Free Size)   \n",
       "1   DEXENT COLLECTION          UV Protection Oval Sunglasses (Free Size)   \n",
       "2            Fastrack      UV Protection Wayfarer Sunglasses (Free Size)   \n",
       "3            Fastrack   UV Protection Rectangular Sunglasses (Free Size)   \n",
       "4              PIRASO          UV Protection Rectangular Sunglasses (52)   \n",
       "..                ...                                                ...   \n",
       "95             SUNBEE  UV Protection, Polarized Wayfarer Sunglasses (...   \n",
       "96          ROYAL SON         UV Protection Retro Square Sunglasses (60)   \n",
       "97     RESIST EYEWEAR  Toughened Glass Lens Aviator Sunglasses (Free ...   \n",
       "98           Fastrack      UV Protection Wayfarer Sunglasses (Free Size)   \n",
       "99          Elligator  UV Protection Cat-eye, Retro Square, Oval, Rou...   \n",
       "\n",
       "     Price Discount  \n",
       "0   ₹1,399  65% off  \n",
       "1     ₹227  49% off  \n",
       "2     ₹649  35% off  \n",
       "3     ₹519  35% off  \n",
       "4     ₹199  87% off  \n",
       "..     ...      ...  \n",
       "95    ₹283  78% off  \n",
       "96    ₹569  71% off  \n",
       "97  ₹1,399  72% off  \n",
       "98    ₹649  35% off  \n",
       "99    ₹176  82% off  \n",
       "\n",
       "[100 rows x 4 columns]"
      ]
     },
     "execution_count": 52,
     "metadata": {},
     "output_type": "execute_result"
    }
   ],
   "source": [
    "df"
   ]
  },
  {
   "cell_type": "code",
   "execution_count": null,
   "id": "92149517",
   "metadata": {},
   "outputs": [],
   "source": []
  },
  {
   "cell_type": "markdown",
   "id": "3b5dda25",
   "metadata": {},
   "source": [
    "# Scrape 100 reviews data from flipkart.com for iphone11 phone.\n"
   ]
  },
  {
   "cell_type": "code",
   "execution_count": 53,
   "id": "63ac3794",
   "metadata": {},
   "outputs": [],
   "source": [
    "ip=webdriver.Chrome(r\"C:\\Users\\Ashu\\Desktop\\chromedriver_win32\\Chromedriver.exe\")"
   ]
  },
  {
   "cell_type": "code",
   "execution_count": 54,
   "id": "97b81d9a",
   "metadata": {},
   "outputs": [],
   "source": [
    "ip.get(\"https://www.flipkart.com/\")"
   ]
  },
  {
   "cell_type": "code",
   "execution_count": 55,
   "id": "4c8dae0c",
   "metadata": {},
   "outputs": [
    {
     "ename": "NoSuchWindowException",
     "evalue": "Message: no such window: target window already closed\nfrom unknown error: web view not found\n  (Session info: chrome=107.0.5304.88)\nStacktrace:\nBacktrace:\n\tOrdinal0 [0x00A1ACD3+2075859]\n\tOrdinal0 [0x009AEE61+1633889]\n\tOrdinal0 [0x008AB7BD+571325]\n\tOrdinal0 [0x00892E1A+470554]\n\tOrdinal0 [0x008FAA0B+895499]\n\tOrdinal0 [0x0090AC96+961686]\n\tOrdinal0 [0x008F7136+880950]\n\tOrdinal0 [0x008CFEFD+720637]\n\tOrdinal0 [0x008D0F3F+724799]\n\tGetHandleVerifier [0x00CCEED2+2769538]\n\tGetHandleVerifier [0x00CC0D95+2711877]\n\tGetHandleVerifier [0x00AAA03A+521194]\n\tGetHandleVerifier [0x00AA8DA0+516432]\n\tOrdinal0 [0x009B682C+1665068]\n\tOrdinal0 [0x009BB128+1683752]\n\tOrdinal0 [0x009BB215+1683989]\n\tOrdinal0 [0x009C6484+1729668]\n\tBaseThreadInitThunk [0x75C56739+25]\n\tRtlGetFullPathName_UEx [0x77768FD2+1218]\n\tRtlGetFullPathName_UEx [0x77768F9D+1165]\n",
     "output_type": "error",
     "traceback": [
      "\u001b[1;31m---------------------------------------------------------------------------\u001b[0m",
      "\u001b[1;31mNoSuchWindowException\u001b[0m                     Traceback (most recent call last)",
      "Input \u001b[1;32mIn [55]\u001b[0m, in \u001b[0;36m<cell line: 1>\u001b[1;34m()\u001b[0m\n\u001b[1;32m----> 1\u001b[0m stop\u001b[38;5;241m=\u001b[39m\u001b[43mip\u001b[49m\u001b[38;5;241;43m.\u001b[39;49m\u001b[43mfind_element\u001b[49m\u001b[43m(\u001b[49m\u001b[43mBy\u001b[49m\u001b[38;5;241;43m.\u001b[39;49m\u001b[43mXPATH\u001b[49m\u001b[43m,\u001b[49m\u001b[38;5;124;43m'\u001b[39;49m\u001b[38;5;124;43m/html/body/div[2]/div/div/button\u001b[39;49m\u001b[38;5;124;43m'\u001b[39;49m\u001b[43m)\u001b[49m\n\u001b[0;32m      2\u001b[0m stop\u001b[38;5;241m.\u001b[39mclick()\n",
      "File \u001b[1;32m~\\anaconda3\\lib\\site-packages\\selenium\\webdriver\\remote\\webdriver.py:857\u001b[0m, in \u001b[0;36mWebDriver.find_element\u001b[1;34m(self, by, value)\u001b[0m\n\u001b[0;32m    854\u001b[0m     by \u001b[38;5;241m=\u001b[39m By\u001b[38;5;241m.\u001b[39mCSS_SELECTOR\n\u001b[0;32m    855\u001b[0m     value \u001b[38;5;241m=\u001b[39m \u001b[38;5;124m'\u001b[39m\u001b[38;5;124m[name=\u001b[39m\u001b[38;5;124m\"\u001b[39m\u001b[38;5;132;01m%s\u001b[39;00m\u001b[38;5;124m\"\u001b[39m\u001b[38;5;124m]\u001b[39m\u001b[38;5;124m'\u001b[39m \u001b[38;5;241m%\u001b[39m value\n\u001b[1;32m--> 857\u001b[0m \u001b[38;5;28;01mreturn\u001b[39;00m \u001b[38;5;28;43mself\u001b[39;49m\u001b[38;5;241;43m.\u001b[39;49m\u001b[43mexecute\u001b[49m\u001b[43m(\u001b[49m\u001b[43mCommand\u001b[49m\u001b[38;5;241;43m.\u001b[39;49m\u001b[43mFIND_ELEMENT\u001b[49m\u001b[43m,\u001b[49m\u001b[43m \u001b[49m\u001b[43m{\u001b[49m\n\u001b[0;32m    858\u001b[0m \u001b[43m    \u001b[49m\u001b[38;5;124;43m'\u001b[39;49m\u001b[38;5;124;43musing\u001b[39;49m\u001b[38;5;124;43m'\u001b[39;49m\u001b[43m:\u001b[49m\u001b[43m \u001b[49m\u001b[43mby\u001b[49m\u001b[43m,\u001b[49m\n\u001b[0;32m    859\u001b[0m \u001b[43m    \u001b[49m\u001b[38;5;124;43m'\u001b[39;49m\u001b[38;5;124;43mvalue\u001b[39;49m\u001b[38;5;124;43m'\u001b[39;49m\u001b[43m:\u001b[49m\u001b[43m \u001b[49m\u001b[43mvalue\u001b[49m\u001b[43m}\u001b[49m\u001b[43m)\u001b[49m[\u001b[38;5;124m'\u001b[39m\u001b[38;5;124mvalue\u001b[39m\u001b[38;5;124m'\u001b[39m]\n",
      "File \u001b[1;32m~\\anaconda3\\lib\\site-packages\\selenium\\webdriver\\remote\\webdriver.py:435\u001b[0m, in \u001b[0;36mWebDriver.execute\u001b[1;34m(self, driver_command, params)\u001b[0m\n\u001b[0;32m    433\u001b[0m response \u001b[38;5;241m=\u001b[39m \u001b[38;5;28mself\u001b[39m\u001b[38;5;241m.\u001b[39mcommand_executor\u001b[38;5;241m.\u001b[39mexecute(driver_command, params)\n\u001b[0;32m    434\u001b[0m \u001b[38;5;28;01mif\u001b[39;00m response:\n\u001b[1;32m--> 435\u001b[0m     \u001b[38;5;28;43mself\u001b[39;49m\u001b[38;5;241;43m.\u001b[39;49m\u001b[43merror_handler\u001b[49m\u001b[38;5;241;43m.\u001b[39;49m\u001b[43mcheck_response\u001b[49m\u001b[43m(\u001b[49m\u001b[43mresponse\u001b[49m\u001b[43m)\u001b[49m\n\u001b[0;32m    436\u001b[0m     response[\u001b[38;5;124m'\u001b[39m\u001b[38;5;124mvalue\u001b[39m\u001b[38;5;124m'\u001b[39m] \u001b[38;5;241m=\u001b[39m \u001b[38;5;28mself\u001b[39m\u001b[38;5;241m.\u001b[39m_unwrap_value(\n\u001b[0;32m    437\u001b[0m         response\u001b[38;5;241m.\u001b[39mget(\u001b[38;5;124m'\u001b[39m\u001b[38;5;124mvalue\u001b[39m\u001b[38;5;124m'\u001b[39m, \u001b[38;5;28;01mNone\u001b[39;00m))\n\u001b[0;32m    438\u001b[0m     \u001b[38;5;28;01mreturn\u001b[39;00m response\n",
      "File \u001b[1;32m~\\anaconda3\\lib\\site-packages\\selenium\\webdriver\\remote\\errorhandler.py:247\u001b[0m, in \u001b[0;36mErrorHandler.check_response\u001b[1;34m(self, response)\u001b[0m\n\u001b[0;32m    245\u001b[0m         alert_text \u001b[38;5;241m=\u001b[39m value[\u001b[38;5;124m'\u001b[39m\u001b[38;5;124malert\u001b[39m\u001b[38;5;124m'\u001b[39m]\u001b[38;5;241m.\u001b[39mget(\u001b[38;5;124m'\u001b[39m\u001b[38;5;124mtext\u001b[39m\u001b[38;5;124m'\u001b[39m)\n\u001b[0;32m    246\u001b[0m     \u001b[38;5;28;01mraise\u001b[39;00m exception_class(message, screen, stacktrace, alert_text)  \u001b[38;5;66;03m# type: ignore[call-arg]  # mypy is not smart enough here\u001b[39;00m\n\u001b[1;32m--> 247\u001b[0m \u001b[38;5;28;01mraise\u001b[39;00m exception_class(message, screen, stacktrace)\n",
      "\u001b[1;31mNoSuchWindowException\u001b[0m: Message: no such window: target window already closed\nfrom unknown error: web view not found\n  (Session info: chrome=107.0.5304.88)\nStacktrace:\nBacktrace:\n\tOrdinal0 [0x00A1ACD3+2075859]\n\tOrdinal0 [0x009AEE61+1633889]\n\tOrdinal0 [0x008AB7BD+571325]\n\tOrdinal0 [0x00892E1A+470554]\n\tOrdinal0 [0x008FAA0B+895499]\n\tOrdinal0 [0x0090AC96+961686]\n\tOrdinal0 [0x008F7136+880950]\n\tOrdinal0 [0x008CFEFD+720637]\n\tOrdinal0 [0x008D0F3F+724799]\n\tGetHandleVerifier [0x00CCEED2+2769538]\n\tGetHandleVerifier [0x00CC0D95+2711877]\n\tGetHandleVerifier [0x00AAA03A+521194]\n\tGetHandleVerifier [0x00AA8DA0+516432]\n\tOrdinal0 [0x009B682C+1665068]\n\tOrdinal0 [0x009BB128+1683752]\n\tOrdinal0 [0x009BB215+1683989]\n\tOrdinal0 [0x009C6484+1729668]\n\tBaseThreadInitThunk [0x75C56739+25]\n\tRtlGetFullPathName_UEx [0x77768FD2+1218]\n\tRtlGetFullPathName_UEx [0x77768F9D+1165]\n"
     ]
    }
   ],
   "source": [
    "stop=ip.find_element(By.XPATH,'/html/body/div[2]/div/div/button')\n",
    "stop.click()"
   ]
  },
  {
   "cell_type": "code",
   "execution_count": null,
   "id": "909219a2",
   "metadata": {},
   "outputs": [],
   "source": [
    "search_items=ip.find_element(By.XPATH,\"/html/body/div[1]/div/div[1]/div[1]/div[2]/div[2]/form/div/div/input\")\n",
    "search_items.send_keys(\"iphone11\")"
   ]
  },
  {
   "cell_type": "code",
   "execution_count": null,
   "id": "9bb71863",
   "metadata": {},
   "outputs": [],
   "source": [
    "search= ip.find_element(By.CLASS_NAME,\"L0Z3Pu\")\n",
    "search.click()"
   ]
  },
  {
   "cell_type": "code",
   "execution_count": null,
   "id": "c1a167eb",
   "metadata": {},
   "outputs": [],
   "source": [
    "iphone11= ip.find_element(By.XPATH,\"/html/body/div[1]/div/div[3]/div[1]/div[2]/div[2]/div/div/div/a/div[2]/div[1]/div[1]\")\n",
    "iphone11.click()"
   ]
  },
  {
   "cell_type": "code",
   "execution_count": null,
   "id": "d9358562",
   "metadata": {},
   "outputs": [],
   "source": [
    "review_page= ip.find_elements(By.CLASS_NAME,\"ACFV\").click()"
   ]
  },
  {
   "cell_type": "code",
   "execution_count": null,
   "id": "ec29e638",
   "metadata": {},
   "outputs": [],
   "source": [
    "Rating=[]\n",
    "Review=[]\n",
    "Full_Review=[]"
   ]
  },
  {
   "cell_type": "code",
   "execution_count": 56,
   "id": "c01b5e3e",
   "metadata": {},
   "outputs": [
    {
     "ename": "NoSuchWindowException",
     "evalue": "Message: no such window: target window already closed\nfrom unknown error: web view not found\n  (Session info: chrome=107.0.5304.88)\nStacktrace:\nBacktrace:\n\tOrdinal0 [0x00A1ACD3+2075859]\n\tOrdinal0 [0x009AEE61+1633889]\n\tOrdinal0 [0x008AB7BD+571325]\n\tOrdinal0 [0x00892E1A+470554]\n\tOrdinal0 [0x008FAA0B+895499]\n\tOrdinal0 [0x0090AC96+961686]\n\tOrdinal0 [0x008F7136+880950]\n\tOrdinal0 [0x008CFEFD+720637]\n\tOrdinal0 [0x008D0F3F+724799]\n\tGetHandleVerifier [0x00CCEED2+2769538]\n\tGetHandleVerifier [0x00CC0D95+2711877]\n\tGetHandleVerifier [0x00AAA03A+521194]\n\tGetHandleVerifier [0x00AA8DA0+516432]\n\tOrdinal0 [0x009B682C+1665068]\n\tOrdinal0 [0x009BB128+1683752]\n\tOrdinal0 [0x009BB215+1683989]\n\tOrdinal0 [0x009C6484+1729668]\n\tBaseThreadInitThunk [0x75C56739+25]\n\tRtlGetFullPathName_UEx [0x77768FD2+1218]\n\tRtlGetFullPathName_UEx [0x77768F9D+1165]\n",
     "output_type": "error",
     "traceback": [
      "\u001b[1;31m---------------------------------------------------------------------------\u001b[0m",
      "\u001b[1;31mNoSuchWindowException\u001b[0m                     Traceback (most recent call last)",
      "Input \u001b[1;32mIn [56]\u001b[0m, in \u001b[0;36m<cell line: 1>\u001b[1;34m()\u001b[0m\n\u001b[0;32m      1\u001b[0m \u001b[38;5;28;01mfor\u001b[39;00m i \u001b[38;5;129;01min\u001b[39;00m \u001b[38;5;28mrange\u001b[39m(\u001b[38;5;241m10\u001b[39m): \n\u001b[1;32m----> 3\u001b[0m         Ratings\u001b[38;5;241m=\u001b[39m\u001b[43mip\u001b[49m\u001b[38;5;241;43m.\u001b[39;49m\u001b[43mfind_elements\u001b[49m\u001b[43m(\u001b[49m\u001b[43mBy\u001b[49m\u001b[38;5;241;43m.\u001b[39;49m\u001b[43mXPATH\u001b[49m\u001b[43m,\u001b[49m\u001b[38;5;124;43m'\u001b[39;49m\u001b[38;5;124;43m//div[@class=\u001b[39;49m\u001b[38;5;124;43m\"\u001b[39;49m\u001b[38;5;124;43m_3LWZlK _1BLPMq\u001b[39;49m\u001b[38;5;124;43m\"\u001b[39;49m\u001b[38;5;124;43m]\u001b[39;49m\u001b[38;5;124;43m'\u001b[39;49m\u001b[43m)\u001b[49m\n\u001b[0;32m      4\u001b[0m         \u001b[38;5;28;01mfor\u001b[39;00m i \u001b[38;5;129;01min\u001b[39;00m Ratings:\n\u001b[0;32m      5\u001b[0m             R\u001b[38;5;241m=\u001b[39mi\u001b[38;5;241m.\u001b[39mtext\n",
      "File \u001b[1;32m~\\anaconda3\\lib\\site-packages\\selenium\\webdriver\\remote\\webdriver.py:890\u001b[0m, in \u001b[0;36mWebDriver.find_elements\u001b[1;34m(self, by, value)\u001b[0m\n\u001b[0;32m    886\u001b[0m     value \u001b[38;5;241m=\u001b[39m \u001b[38;5;124m'\u001b[39m\u001b[38;5;124m[name=\u001b[39m\u001b[38;5;124m\"\u001b[39m\u001b[38;5;132;01m%s\u001b[39;00m\u001b[38;5;124m\"\u001b[39m\u001b[38;5;124m]\u001b[39m\u001b[38;5;124m'\u001b[39m \u001b[38;5;241m%\u001b[39m value\n\u001b[0;32m    888\u001b[0m \u001b[38;5;66;03m# Return empty list if driver returns null\u001b[39;00m\n\u001b[0;32m    889\u001b[0m \u001b[38;5;66;03m# See https://github.com/SeleniumHQ/selenium/issues/4555\u001b[39;00m\n\u001b[1;32m--> 890\u001b[0m \u001b[38;5;28;01mreturn\u001b[39;00m \u001b[38;5;28;43mself\u001b[39;49m\u001b[38;5;241;43m.\u001b[39;49m\u001b[43mexecute\u001b[49m\u001b[43m(\u001b[49m\u001b[43mCommand\u001b[49m\u001b[38;5;241;43m.\u001b[39;49m\u001b[43mFIND_ELEMENTS\u001b[49m\u001b[43m,\u001b[49m\u001b[43m \u001b[49m\u001b[43m{\u001b[49m\n\u001b[0;32m    891\u001b[0m \u001b[43m    \u001b[49m\u001b[38;5;124;43m'\u001b[39;49m\u001b[38;5;124;43musing\u001b[39;49m\u001b[38;5;124;43m'\u001b[39;49m\u001b[43m:\u001b[49m\u001b[43m \u001b[49m\u001b[43mby\u001b[49m\u001b[43m,\u001b[49m\n\u001b[0;32m    892\u001b[0m \u001b[43m    \u001b[49m\u001b[38;5;124;43m'\u001b[39;49m\u001b[38;5;124;43mvalue\u001b[39;49m\u001b[38;5;124;43m'\u001b[39;49m\u001b[43m:\u001b[49m\u001b[43m \u001b[49m\u001b[43mvalue\u001b[49m\u001b[43m}\u001b[49m\u001b[43m)\u001b[49m[\u001b[38;5;124m'\u001b[39m\u001b[38;5;124mvalue\u001b[39m\u001b[38;5;124m'\u001b[39m] \u001b[38;5;129;01mor\u001b[39;00m []\n",
      "File \u001b[1;32m~\\anaconda3\\lib\\site-packages\\selenium\\webdriver\\remote\\webdriver.py:435\u001b[0m, in \u001b[0;36mWebDriver.execute\u001b[1;34m(self, driver_command, params)\u001b[0m\n\u001b[0;32m    433\u001b[0m response \u001b[38;5;241m=\u001b[39m \u001b[38;5;28mself\u001b[39m\u001b[38;5;241m.\u001b[39mcommand_executor\u001b[38;5;241m.\u001b[39mexecute(driver_command, params)\n\u001b[0;32m    434\u001b[0m \u001b[38;5;28;01mif\u001b[39;00m response:\n\u001b[1;32m--> 435\u001b[0m     \u001b[38;5;28;43mself\u001b[39;49m\u001b[38;5;241;43m.\u001b[39;49m\u001b[43merror_handler\u001b[49m\u001b[38;5;241;43m.\u001b[39;49m\u001b[43mcheck_response\u001b[49m\u001b[43m(\u001b[49m\u001b[43mresponse\u001b[49m\u001b[43m)\u001b[49m\n\u001b[0;32m    436\u001b[0m     response[\u001b[38;5;124m'\u001b[39m\u001b[38;5;124mvalue\u001b[39m\u001b[38;5;124m'\u001b[39m] \u001b[38;5;241m=\u001b[39m \u001b[38;5;28mself\u001b[39m\u001b[38;5;241m.\u001b[39m_unwrap_value(\n\u001b[0;32m    437\u001b[0m         response\u001b[38;5;241m.\u001b[39mget(\u001b[38;5;124m'\u001b[39m\u001b[38;5;124mvalue\u001b[39m\u001b[38;5;124m'\u001b[39m, \u001b[38;5;28;01mNone\u001b[39;00m))\n\u001b[0;32m    438\u001b[0m     \u001b[38;5;28;01mreturn\u001b[39;00m response\n",
      "File \u001b[1;32m~\\anaconda3\\lib\\site-packages\\selenium\\webdriver\\remote\\errorhandler.py:247\u001b[0m, in \u001b[0;36mErrorHandler.check_response\u001b[1;34m(self, response)\u001b[0m\n\u001b[0;32m    245\u001b[0m         alert_text \u001b[38;5;241m=\u001b[39m value[\u001b[38;5;124m'\u001b[39m\u001b[38;5;124malert\u001b[39m\u001b[38;5;124m'\u001b[39m]\u001b[38;5;241m.\u001b[39mget(\u001b[38;5;124m'\u001b[39m\u001b[38;5;124mtext\u001b[39m\u001b[38;5;124m'\u001b[39m)\n\u001b[0;32m    246\u001b[0m     \u001b[38;5;28;01mraise\u001b[39;00m exception_class(message, screen, stacktrace, alert_text)  \u001b[38;5;66;03m# type: ignore[call-arg]  # mypy is not smart enough here\u001b[39;00m\n\u001b[1;32m--> 247\u001b[0m \u001b[38;5;28;01mraise\u001b[39;00m exception_class(message, screen, stacktrace)\n",
      "\u001b[1;31mNoSuchWindowException\u001b[0m: Message: no such window: target window already closed\nfrom unknown error: web view not found\n  (Session info: chrome=107.0.5304.88)\nStacktrace:\nBacktrace:\n\tOrdinal0 [0x00A1ACD3+2075859]\n\tOrdinal0 [0x009AEE61+1633889]\n\tOrdinal0 [0x008AB7BD+571325]\n\tOrdinal0 [0x00892E1A+470554]\n\tOrdinal0 [0x008FAA0B+895499]\n\tOrdinal0 [0x0090AC96+961686]\n\tOrdinal0 [0x008F7136+880950]\n\tOrdinal0 [0x008CFEFD+720637]\n\tOrdinal0 [0x008D0F3F+724799]\n\tGetHandleVerifier [0x00CCEED2+2769538]\n\tGetHandleVerifier [0x00CC0D95+2711877]\n\tGetHandleVerifier [0x00AAA03A+521194]\n\tGetHandleVerifier [0x00AA8DA0+516432]\n\tOrdinal0 [0x009B682C+1665068]\n\tOrdinal0 [0x009BB128+1683752]\n\tOrdinal0 [0x009BB215+1683989]\n\tOrdinal0 [0x009C6484+1729668]\n\tBaseThreadInitThunk [0x75C56739+25]\n\tRtlGetFullPathName_UEx [0x77768FD2+1218]\n\tRtlGetFullPathName_UEx [0x77768F9D+1165]\n"
     ]
    }
   ],
   "source": [
    "for i in range(10): \n",
    "    \n",
    "        Ratings=ip.find_elements(By.XPATH,'//div[@class=\"_3LWZlK _1BLPMq\"]')\n",
    "        for i in Ratings:\n",
    "            R=i.text\n",
    "            Rating.append(R)    \n",
    "        \n",
    "        Reviews=ip.find_elements(By.XPATH,'//p[@class=\"_2-N8zT\"]')\n",
    "        for i in Reviews:                         \n",
    "            re=i.text\n",
    "            Review.append(re)\n",
    "    \n",
    "        f_review=ip.find_elements(By.XPATH,'//div[@class=\"t-ZTKy\"]')   \n",
    "        for i in f_review:\n",
    "            fr=i.text\n",
    "            Full_Review.append(fr)\n",
    "        \n",
    "        time.sleep(3)\n",
    "next_button= ip.find_element(By.XPATH,'//a[@class=\"ge-49M\"]')\n",
    "next_button.click()        "
   ]
  },
  {
   "cell_type": "code",
   "execution_count": 57,
   "id": "3baf9bc0",
   "metadata": {},
   "outputs": [
    {
     "ename": "NameError",
     "evalue": "name 'Rating' is not defined",
     "output_type": "error",
     "traceback": [
      "\u001b[1;31m---------------------------------------------------------------------------\u001b[0m",
      "\u001b[1;31mNameError\u001b[0m                                 Traceback (most recent call last)",
      "Input \u001b[1;32mIn [57]\u001b[0m, in \u001b[0;36m<cell line: 1>\u001b[1;34m()\u001b[0m\n\u001b[1;32m----> 1\u001b[0m \u001b[38;5;28mprint\u001b[39m(\u001b[38;5;28mlen\u001b[39m(\u001b[43mRating\u001b[49m),\u001b[38;5;28mlen\u001b[39m(Review),\u001b[38;5;28mlen\u001b[39m(Full_Review ))\n",
      "\u001b[1;31mNameError\u001b[0m: name 'Rating' is not defined"
     ]
    }
   ],
   "source": [
    "print(len(Rating),len(Review),len(Full_Review ))\n"
   ]
  },
  {
   "cell_type": "code",
   "execution_count": 58,
   "id": "4c43eee5",
   "metadata": {},
   "outputs": [
    {
     "ename": "NameError",
     "evalue": "name 'Rating' is not defined",
     "output_type": "error",
     "traceback": [
      "\u001b[1;31m---------------------------------------------------------------------------\u001b[0m",
      "\u001b[1;31mNameError\u001b[0m                                 Traceback (most recent call last)",
      "Input \u001b[1;32mIn [58]\u001b[0m, in \u001b[0;36m<cell line: 1>\u001b[1;34m()\u001b[0m\n\u001b[1;32m----> 1\u001b[0m df \u001b[38;5;241m=\u001b[39m pd\u001b[38;5;241m.\u001b[39mDataFrame({\u001b[38;5;124m'\u001b[39m\u001b[38;5;124mRating\u001b[39m\u001b[38;5;124m'\u001b[39m: \u001b[43mRating\u001b[49m,\u001b[38;5;124m'\u001b[39m\u001b[38;5;124mReviews\u001b[39m\u001b[38;5;124m'\u001b[39m:Review,\u001b[38;5;124m'\u001b[39m\u001b[38;5;124mFull_Reviews\u001b[39m\u001b[38;5;124m'\u001b[39m:Full_Review})[\u001b[38;5;241m0\u001b[39m:\u001b[38;5;241m100\u001b[39m]\n",
      "\u001b[1;31mNameError\u001b[0m: name 'Rating' is not defined"
     ]
    }
   ],
   "source": [
    "\n",
    "df = pd.DataFrame({'Rating': Rating,'Reviews':Review,'Full_Reviews':Full_Review})[0:100]\n"
   ]
  },
  {
   "cell_type": "code",
   "execution_count": 59,
   "id": "65639658",
   "metadata": {},
   "outputs": [
    {
     "data": {
      "text/html": [
       "<div>\n",
       "<style scoped>\n",
       "    .dataframe tbody tr th:only-of-type {\n",
       "        vertical-align: middle;\n",
       "    }\n",
       "\n",
       "    .dataframe tbody tr th {\n",
       "        vertical-align: top;\n",
       "    }\n",
       "\n",
       "    .dataframe thead th {\n",
       "        text-align: right;\n",
       "    }\n",
       "</style>\n",
       "<table border=\"1\" class=\"dataframe\">\n",
       "  <thead>\n",
       "    <tr style=\"text-align: right;\">\n",
       "      <th></th>\n",
       "      <th>Brand</th>\n",
       "      <th>Product_Description</th>\n",
       "      <th>Price</th>\n",
       "      <th>Discount</th>\n",
       "    </tr>\n",
       "  </thead>\n",
       "  <tbody>\n",
       "    <tr>\n",
       "      <th>0</th>\n",
       "      <td>Resist</td>\n",
       "      <td>Polarized Wayfarer Sunglasses (Free Size)</td>\n",
       "      <td>₹1,399</td>\n",
       "      <td>65% off</td>\n",
       "    </tr>\n",
       "    <tr>\n",
       "      <th>1</th>\n",
       "      <td>DEXENT COLLECTION</td>\n",
       "      <td>UV Protection Oval Sunglasses (Free Size)</td>\n",
       "      <td>₹227</td>\n",
       "      <td>49% off</td>\n",
       "    </tr>\n",
       "    <tr>\n",
       "      <th>2</th>\n",
       "      <td>Fastrack</td>\n",
       "      <td>UV Protection Wayfarer Sunglasses (Free Size)</td>\n",
       "      <td>₹649</td>\n",
       "      <td>35% off</td>\n",
       "    </tr>\n",
       "    <tr>\n",
       "      <th>3</th>\n",
       "      <td>Fastrack</td>\n",
       "      <td>UV Protection Rectangular Sunglasses (Free Size)</td>\n",
       "      <td>₹519</td>\n",
       "      <td>35% off</td>\n",
       "    </tr>\n",
       "    <tr>\n",
       "      <th>4</th>\n",
       "      <td>PIRASO</td>\n",
       "      <td>UV Protection Rectangular Sunglasses (52)</td>\n",
       "      <td>₹199</td>\n",
       "      <td>87% off</td>\n",
       "    </tr>\n",
       "    <tr>\n",
       "      <th>...</th>\n",
       "      <td>...</td>\n",
       "      <td>...</td>\n",
       "      <td>...</td>\n",
       "      <td>...</td>\n",
       "    </tr>\n",
       "    <tr>\n",
       "      <th>95</th>\n",
       "      <td>SUNBEE</td>\n",
       "      <td>UV Protection, Polarized Wayfarer Sunglasses (...</td>\n",
       "      <td>₹283</td>\n",
       "      <td>78% off</td>\n",
       "    </tr>\n",
       "    <tr>\n",
       "      <th>96</th>\n",
       "      <td>ROYAL SON</td>\n",
       "      <td>UV Protection Retro Square Sunglasses (60)</td>\n",
       "      <td>₹569</td>\n",
       "      <td>71% off</td>\n",
       "    </tr>\n",
       "    <tr>\n",
       "      <th>97</th>\n",
       "      <td>RESIST EYEWEAR</td>\n",
       "      <td>Toughened Glass Lens Aviator Sunglasses (Free ...</td>\n",
       "      <td>₹1,399</td>\n",
       "      <td>72% off</td>\n",
       "    </tr>\n",
       "    <tr>\n",
       "      <th>98</th>\n",
       "      <td>Fastrack</td>\n",
       "      <td>UV Protection Wayfarer Sunglasses (Free Size)</td>\n",
       "      <td>₹649</td>\n",
       "      <td>35% off</td>\n",
       "    </tr>\n",
       "    <tr>\n",
       "      <th>99</th>\n",
       "      <td>Elligator</td>\n",
       "      <td>UV Protection Cat-eye, Retro Square, Oval, Rou...</td>\n",
       "      <td>₹176</td>\n",
       "      <td>82% off</td>\n",
       "    </tr>\n",
       "  </tbody>\n",
       "</table>\n",
       "<p>100 rows × 4 columns</p>\n",
       "</div>"
      ],
      "text/plain": [
       "                Brand                                Product_Description  \\\n",
       "0              Resist          Polarized Wayfarer Sunglasses (Free Size)   \n",
       "1   DEXENT COLLECTION          UV Protection Oval Sunglasses (Free Size)   \n",
       "2            Fastrack      UV Protection Wayfarer Sunglasses (Free Size)   \n",
       "3            Fastrack   UV Protection Rectangular Sunglasses (Free Size)   \n",
       "4              PIRASO          UV Protection Rectangular Sunglasses (52)   \n",
       "..                ...                                                ...   \n",
       "95             SUNBEE  UV Protection, Polarized Wayfarer Sunglasses (...   \n",
       "96          ROYAL SON         UV Protection Retro Square Sunglasses (60)   \n",
       "97     RESIST EYEWEAR  Toughened Glass Lens Aviator Sunglasses (Free ...   \n",
       "98           Fastrack      UV Protection Wayfarer Sunglasses (Free Size)   \n",
       "99          Elligator  UV Protection Cat-eye, Retro Square, Oval, Rou...   \n",
       "\n",
       "     Price Discount  \n",
       "0   ₹1,399  65% off  \n",
       "1     ₹227  49% off  \n",
       "2     ₹649  35% off  \n",
       "3     ₹519  35% off  \n",
       "4     ₹199  87% off  \n",
       "..     ...      ...  \n",
       "95    ₹283  78% off  \n",
       "96    ₹569  71% off  \n",
       "97  ₹1,399  72% off  \n",
       "98    ₹649  35% off  \n",
       "99    ₹176  82% off  \n",
       "\n",
       "[100 rows x 4 columns]"
      ]
     },
     "execution_count": 59,
     "metadata": {},
     "output_type": "execute_result"
    }
   ],
   "source": [
    "df"
   ]
  },
  {
   "cell_type": "markdown",
   "id": "b65ccd39",
   "metadata": {},
   "source": [
    "# Scrape data for first 100 sneakers you find when you visit flipkart.com and search for “sneakers”"
   ]
  },
  {
   "cell_type": "code",
   "execution_count": 60,
   "id": "ed45903f",
   "metadata": {},
   "outputs": [],
   "source": [
    "sneak=webdriver.Chrome(r\"C:\\Users\\Ashu\\Desktop\\chromedriver_win32\\Chromedriver.exe\")"
   ]
  },
  {
   "cell_type": "code",
   "execution_count": 61,
   "id": "17cedfdb",
   "metadata": {},
   "outputs": [],
   "source": [
    "sneak.get(\"https://www.flipkart.com/\")"
   ]
  },
  {
   "cell_type": "code",
   "execution_count": 62,
   "id": "55318b35",
   "metadata": {},
   "outputs": [],
   "source": [
    "stop= sneak.find_element(By.XPATH,'/html/body/div[2]/div/div/button')\n",
    "stop.click()"
   ]
  },
  {
   "cell_type": "code",
   "execution_count": 63,
   "id": "8f01f258",
   "metadata": {},
   "outputs": [],
   "source": [
    "search_items=sneak.find_element(By.XPATH,\"/html/body/div[1]/div/div[1]/div[1]/div[2]/div[2]/form/div/div/input\")\n",
    "search_items.send_keys(\"sneaker\")"
   ]
  },
  {
   "cell_type": "code",
   "execution_count": 64,
   "id": "1eb68c7d",
   "metadata": {},
   "outputs": [],
   "source": [
    "search= sneak.find_element(By.CLASS_NAME,\"L0Z3Pu\")\n",
    "search.click()"
   ]
  },
  {
   "cell_type": "code",
   "execution_count": 65,
   "id": "39f4de91",
   "metadata": {},
   "outputs": [],
   "source": [
    "Brand = []\n",
    "Product_Description = []\n",
    "Price = []\n",
    "\n",
    "for i in range(3):\n",
    "    \n",
    "    \n",
    "    brand = sneak.find_elements(By.XPATH,\"//div[@class='_2WkVRV']\")\n",
    "    product_des = sneak.find_elements(By.XPATH,\"//div[@class='_2B099V']/a[1]\")\n",
    "    price = sneak.find_elements(By.XPATH,\"//div[@class='_30jeq3']\")\n",
    "\n",
    "\n",
    "    for i in brand:\n",
    "        Brand.append(i.text)\n",
    "    for i in product_des:\n",
    "        Product_Description.append(i.text)\n",
    "    for i in price :\n",
    "        Price.append(i.text)\n",
    "    \n",
    "time.sleep(3)\n",
    "\n",
    "nxt_button = sneak.find_element(By.XPATH,\"//a[@class='_1LKTO3']\")\n",
    "nxt_button.click()"
   ]
  },
  {
   "cell_type": "code",
   "execution_count": 66,
   "id": "03f0ce17",
   "metadata": {},
   "outputs": [
    {
     "name": "stdout",
     "output_type": "stream",
     "text": [
      "0 0 0\n"
     ]
    }
   ],
   "source": [
    "print(len(Brand),len(Product_Description),len(Price))"
   ]
  },
  {
   "cell_type": "code",
   "execution_count": 67,
   "id": "27e254b6",
   "metadata": {},
   "outputs": [
    {
     "data": {
      "text/html": [
       "<div>\n",
       "<style scoped>\n",
       "    .dataframe tbody tr th:only-of-type {\n",
       "        vertical-align: middle;\n",
       "    }\n",
       "\n",
       "    .dataframe tbody tr th {\n",
       "        vertical-align: top;\n",
       "    }\n",
       "\n",
       "    .dataframe thead th {\n",
       "        text-align: right;\n",
       "    }\n",
       "</style>\n",
       "<table border=\"1\" class=\"dataframe\">\n",
       "  <thead>\n",
       "    <tr style=\"text-align: right;\">\n",
       "      <th></th>\n",
       "      <th>Brand</th>\n",
       "      <th>Product_Description</th>\n",
       "      <th>Price</th>\n",
       "    </tr>\n",
       "  </thead>\n",
       "  <tbody>\n",
       "  </tbody>\n",
       "</table>\n",
       "</div>"
      ],
      "text/plain": [
       "Empty DataFrame\n",
       "Columns: [Brand, Product_Description, Price]\n",
       "Index: []"
      ]
     },
     "execution_count": 67,
     "metadata": {},
     "output_type": "execute_result"
    }
   ],
   "source": [
    "df = pd.DataFrame({'Brand':Brand,'Product_Description':Product_Description,'Price':Price})[0:100]\n",
    "df"
   ]
  },
  {
   "cell_type": "markdown",
   "id": "405e8502",
   "metadata": {},
   "source": [
    "# scrape First 100 shoes data you get. The data should include “Brand” of the shoes , Short Shoe \n",
    "description, price of the shoe "
   ]
  },
  {
   "cell_type": "code",
   "execution_count": 77,
   "id": "323f588b",
   "metadata": {},
   "outputs": [],
   "source": [
    "shoe=webdriver.Chrome(r\"C:\\Users\\Ashu\\Desktop\\chromedriver_win32\\Chromedriver.exe\")"
   ]
  },
  {
   "cell_type": "code",
   "execution_count": 78,
   "id": "32c2b231",
   "metadata": {},
   "outputs": [],
   "source": [
    "shoe.get(\"https://www.myntra.com/shoes\")"
   ]
  },
  {
   "cell_type": "code",
   "execution_count": 79,
   "id": "9e016b03",
   "metadata": {},
   "outputs": [],
   "source": [
    "shoe.maximize_window()"
   ]
  },
  {
   "cell_type": "code",
   "execution_count": 80,
   "id": "e00f7e84",
   "metadata": {},
   "outputs": [
    {
     "ename": "NoSuchElementException",
     "evalue": "Message: no such element: Unable to locate element: {\"method\":\"xpath\",\"selector\":\"/html/body/div[2]/div/div[1]/main/div[3]/div[1]/section/div/div[5]/ul/li[2]/label/div\"}\n  (Session info: chrome=107.0.5304.88)\nStacktrace:\nBacktrace:\n\tOrdinal0 [0x00A1ACD3+2075859]\n\tOrdinal0 [0x009AEE61+1633889]\n\tOrdinal0 [0x008AB7BD+571325]\n\tOrdinal0 [0x008DAC2F+764975]\n\tOrdinal0 [0x008DAE1B+765467]\n\tOrdinal0 [0x0090D0F2+970994]\n\tOrdinal0 [0x008F7364+881508]\n\tOrdinal0 [0x0090B56A+963946]\n\tOrdinal0 [0x008F7136+880950]\n\tOrdinal0 [0x008CFEFD+720637]\n\tOrdinal0 [0x008D0F3F+724799]\n\tGetHandleVerifier [0x00CCEED2+2769538]\n\tGetHandleVerifier [0x00CC0D95+2711877]\n\tGetHandleVerifier [0x00AAA03A+521194]\n\tGetHandleVerifier [0x00AA8DA0+516432]\n\tOrdinal0 [0x009B682C+1665068]\n\tOrdinal0 [0x009BB128+1683752]\n\tOrdinal0 [0x009BB215+1683989]\n\tOrdinal0 [0x009C6484+1729668]\n\tBaseThreadInitThunk [0x75C56739+25]\n\tRtlGetFullPathName_UEx [0x77768FD2+1218]\n\tRtlGetFullPathName_UEx [0x77768F9D+1165]\n",
     "output_type": "error",
     "traceback": [
      "\u001b[1;31m---------------------------------------------------------------------------\u001b[0m",
      "\u001b[1;31mNoSuchElementException\u001b[0m                    Traceback (most recent call last)",
      "Input \u001b[1;32mIn [80]\u001b[0m, in \u001b[0;36m<cell line: 1>\u001b[1;34m()\u001b[0m\n\u001b[1;32m----> 1\u001b[0m price_filter\u001b[38;5;241m=\u001b[39m\u001b[43mshoe\u001b[49m\u001b[38;5;241;43m.\u001b[39;49m\u001b[43mfind_element\u001b[49m\u001b[43m(\u001b[49m\u001b[43mBy\u001b[49m\u001b[38;5;241;43m.\u001b[39;49m\u001b[43mXPATH\u001b[49m\u001b[43m,\u001b[49m\u001b[38;5;124;43m\"\u001b[39;49m\u001b[38;5;124;43m/html/body/div[2]/div/div[1]/main/div[3]/div[1]/section/div/div[5]/ul/li[2]/label/div\u001b[39;49m\u001b[38;5;124;43m\"\u001b[39;49m\u001b[43m)\u001b[49m\n\u001b[0;32m      2\u001b[0m price_filter\u001b[38;5;241m.\u001b[39mclick()\n",
      "File \u001b[1;32m~\\anaconda3\\lib\\site-packages\\selenium\\webdriver\\remote\\webdriver.py:857\u001b[0m, in \u001b[0;36mWebDriver.find_element\u001b[1;34m(self, by, value)\u001b[0m\n\u001b[0;32m    854\u001b[0m     by \u001b[38;5;241m=\u001b[39m By\u001b[38;5;241m.\u001b[39mCSS_SELECTOR\n\u001b[0;32m    855\u001b[0m     value \u001b[38;5;241m=\u001b[39m \u001b[38;5;124m'\u001b[39m\u001b[38;5;124m[name=\u001b[39m\u001b[38;5;124m\"\u001b[39m\u001b[38;5;132;01m%s\u001b[39;00m\u001b[38;5;124m\"\u001b[39m\u001b[38;5;124m]\u001b[39m\u001b[38;5;124m'\u001b[39m \u001b[38;5;241m%\u001b[39m value\n\u001b[1;32m--> 857\u001b[0m \u001b[38;5;28;01mreturn\u001b[39;00m \u001b[38;5;28;43mself\u001b[39;49m\u001b[38;5;241;43m.\u001b[39;49m\u001b[43mexecute\u001b[49m\u001b[43m(\u001b[49m\u001b[43mCommand\u001b[49m\u001b[38;5;241;43m.\u001b[39;49m\u001b[43mFIND_ELEMENT\u001b[49m\u001b[43m,\u001b[49m\u001b[43m \u001b[49m\u001b[43m{\u001b[49m\n\u001b[0;32m    858\u001b[0m \u001b[43m    \u001b[49m\u001b[38;5;124;43m'\u001b[39;49m\u001b[38;5;124;43musing\u001b[39;49m\u001b[38;5;124;43m'\u001b[39;49m\u001b[43m:\u001b[49m\u001b[43m \u001b[49m\u001b[43mby\u001b[49m\u001b[43m,\u001b[49m\n\u001b[0;32m    859\u001b[0m \u001b[43m    \u001b[49m\u001b[38;5;124;43m'\u001b[39;49m\u001b[38;5;124;43mvalue\u001b[39;49m\u001b[38;5;124;43m'\u001b[39;49m\u001b[43m:\u001b[49m\u001b[43m \u001b[49m\u001b[43mvalue\u001b[49m\u001b[43m}\u001b[49m\u001b[43m)\u001b[49m[\u001b[38;5;124m'\u001b[39m\u001b[38;5;124mvalue\u001b[39m\u001b[38;5;124m'\u001b[39m]\n",
      "File \u001b[1;32m~\\anaconda3\\lib\\site-packages\\selenium\\webdriver\\remote\\webdriver.py:435\u001b[0m, in \u001b[0;36mWebDriver.execute\u001b[1;34m(self, driver_command, params)\u001b[0m\n\u001b[0;32m    433\u001b[0m response \u001b[38;5;241m=\u001b[39m \u001b[38;5;28mself\u001b[39m\u001b[38;5;241m.\u001b[39mcommand_executor\u001b[38;5;241m.\u001b[39mexecute(driver_command, params)\n\u001b[0;32m    434\u001b[0m \u001b[38;5;28;01mif\u001b[39;00m response:\n\u001b[1;32m--> 435\u001b[0m     \u001b[38;5;28;43mself\u001b[39;49m\u001b[38;5;241;43m.\u001b[39;49m\u001b[43merror_handler\u001b[49m\u001b[38;5;241;43m.\u001b[39;49m\u001b[43mcheck_response\u001b[49m\u001b[43m(\u001b[49m\u001b[43mresponse\u001b[49m\u001b[43m)\u001b[49m\n\u001b[0;32m    436\u001b[0m     response[\u001b[38;5;124m'\u001b[39m\u001b[38;5;124mvalue\u001b[39m\u001b[38;5;124m'\u001b[39m] \u001b[38;5;241m=\u001b[39m \u001b[38;5;28mself\u001b[39m\u001b[38;5;241m.\u001b[39m_unwrap_value(\n\u001b[0;32m    437\u001b[0m         response\u001b[38;5;241m.\u001b[39mget(\u001b[38;5;124m'\u001b[39m\u001b[38;5;124mvalue\u001b[39m\u001b[38;5;124m'\u001b[39m, \u001b[38;5;28;01mNone\u001b[39;00m))\n\u001b[0;32m    438\u001b[0m     \u001b[38;5;28;01mreturn\u001b[39;00m response\n",
      "File \u001b[1;32m~\\anaconda3\\lib\\site-packages\\selenium\\webdriver\\remote\\errorhandler.py:247\u001b[0m, in \u001b[0;36mErrorHandler.check_response\u001b[1;34m(self, response)\u001b[0m\n\u001b[0;32m    245\u001b[0m         alert_text \u001b[38;5;241m=\u001b[39m value[\u001b[38;5;124m'\u001b[39m\u001b[38;5;124malert\u001b[39m\u001b[38;5;124m'\u001b[39m]\u001b[38;5;241m.\u001b[39mget(\u001b[38;5;124m'\u001b[39m\u001b[38;5;124mtext\u001b[39m\u001b[38;5;124m'\u001b[39m)\n\u001b[0;32m    246\u001b[0m     \u001b[38;5;28;01mraise\u001b[39;00m exception_class(message, screen, stacktrace, alert_text)  \u001b[38;5;66;03m# type: ignore[call-arg]  # mypy is not smart enough here\u001b[39;00m\n\u001b[1;32m--> 247\u001b[0m \u001b[38;5;28;01mraise\u001b[39;00m exception_class(message, screen, stacktrace)\n",
      "\u001b[1;31mNoSuchElementException\u001b[0m: Message: no such element: Unable to locate element: {\"method\":\"xpath\",\"selector\":\"/html/body/div[2]/div/div[1]/main/div[3]/div[1]/section/div/div[5]/ul/li[2]/label/div\"}\n  (Session info: chrome=107.0.5304.88)\nStacktrace:\nBacktrace:\n\tOrdinal0 [0x00A1ACD3+2075859]\n\tOrdinal0 [0x009AEE61+1633889]\n\tOrdinal0 [0x008AB7BD+571325]\n\tOrdinal0 [0x008DAC2F+764975]\n\tOrdinal0 [0x008DAE1B+765467]\n\tOrdinal0 [0x0090D0F2+970994]\n\tOrdinal0 [0x008F7364+881508]\n\tOrdinal0 [0x0090B56A+963946]\n\tOrdinal0 [0x008F7136+880950]\n\tOrdinal0 [0x008CFEFD+720637]\n\tOrdinal0 [0x008D0F3F+724799]\n\tGetHandleVerifier [0x00CCEED2+2769538]\n\tGetHandleVerifier [0x00CC0D95+2711877]\n\tGetHandleVerifier [0x00AAA03A+521194]\n\tGetHandleVerifier [0x00AA8DA0+516432]\n\tOrdinal0 [0x009B682C+1665068]\n\tOrdinal0 [0x009BB128+1683752]\n\tOrdinal0 [0x009BB215+1683989]\n\tOrdinal0 [0x009C6484+1729668]\n\tBaseThreadInitThunk [0x75C56739+25]\n\tRtlGetFullPathName_UEx [0x77768FD2+1218]\n\tRtlGetFullPathName_UEx [0x77768F9D+1165]\n"
     ]
    }
   ],
   "source": [
    "price_filter=shoe.find_element(By.XPATH,\"/html/body/div[2]/div/div[1]/main/div[3]/div[1]/section/div/div[5]/ul/li[2]/label/div\")\n",
    "price_filter.click()\n",
    "      "
   ]
  },
  {
   "cell_type": "code",
   "execution_count": null,
   "id": "3061cb40",
   "metadata": {},
   "outputs": [],
   "source": [
    "color_filter=shoe.find_element(By.XPATH,\"/html/body/div[2]/div/div[1]/main/div[3]/div[1]/section/div/div[6]/ul/li[1]/label/div\")\n",
    "\n",
    "color_filter.click() \n",
    "\n",
    "        "
   ]
  },
  {
   "cell_type": "code",
   "execution_count": null,
   "id": "3db73872",
   "metadata": {},
   "outputs": [],
   "source": [
    "Brand = []\n",
    "Shoe_description = []\n",
    "Price = []"
   ]
  },
  {
   "cell_type": "code",
   "execution_count": null,
   "id": "f18a121e",
   "metadata": {},
   "outputs": [],
   "source": [
    "for i in range(2): \n",
    "    \n",
    "        Brands=shoe.find_elements(By.XPATH,\"//h3[@class='product-brand']\")\n",
    "        for i in Brands:\n",
    "            BR=i.text\n",
    "            Brand.append(BR)    \n",
    "        \n",
    "        shoe_des=shoe.find_elements(By.XPATH,\"//h4[@class='product-product']\")\n",
    "        for i in shoe_des:                         \n",
    "            sd=i.text\n",
    "            Shoe_description.append(sd)\n",
    "    \n",
    "        cost=shoe.find_elements(By.XPATH,\"//div[@class='product-price']/span[1]\")   \n",
    "        for i in cost:\n",
    "            ct=i.text\n",
    "            Price.append(ct)\n",
    "        \n",
    "time.sleep(3)\n",
    "\n",
    "next_button= shoe.find_element(By.XPATH,\"/html/body/div[2]/div/div[1]/main/div[3]/div[2]/div/div[2]/section/div[2]/ul/li[12]/a\")\n",
    "next_button.click()        "
   ]
  },
  {
   "cell_type": "code",
   "execution_count": null,
   "id": "820d6e14",
   "metadata": {},
   "outputs": [],
   "source": [
    "print(len(Brand),len(Shoe_description),len(Price))"
   ]
  },
  {
   "cell_type": "code",
   "execution_count": 81,
   "id": "b4b10839",
   "metadata": {},
   "outputs": [],
   "source": [
    "df_shoe=pd.DataFrame()"
   ]
  },
  {
   "cell_type": "code",
   "execution_count": 82,
   "id": "3ab25061",
   "metadata": {},
   "outputs": [
    {
     "ename": "NameError",
     "evalue": "name 'Shoe_description' is not defined",
     "output_type": "error",
     "traceback": [
      "\u001b[1;31m---------------------------------------------------------------------------\u001b[0m",
      "\u001b[1;31mNameError\u001b[0m                                 Traceback (most recent call last)",
      "Input \u001b[1;32mIn [82]\u001b[0m, in \u001b[0;36m<cell line: 2>\u001b[1;34m()\u001b[0m\n\u001b[0;32m      1\u001b[0m df_shoe[\u001b[38;5;124m'\u001b[39m\u001b[38;5;124mBrand\u001b[39m\u001b[38;5;124m'\u001b[39m]\u001b[38;5;241m=\u001b[39mBrand\n\u001b[1;32m----> 2\u001b[0m df_shoe[\u001b[38;5;124m'\u001b[39m\u001b[38;5;124mShoe_Description\u001b[39m\u001b[38;5;124m'\u001b[39m]\u001b[38;5;241m=\u001b[39m\u001b[43mShoe_description\u001b[49m\n\u001b[0;32m      3\u001b[0m df_shoe[\u001b[38;5;124m'\u001b[39m\u001b[38;5;124mPrice\u001b[39m\u001b[38;5;124m'\u001b[39m]\u001b[38;5;241m=\u001b[39mPrice\n",
      "\u001b[1;31mNameError\u001b[0m: name 'Shoe_description' is not defined"
     ]
    }
   ],
   "source": [
    "df_shoe['Brand']=Brand\n",
    "df_shoe['Shoe_Description']=Shoe_description\n",
    "df_shoe['Price']=Price"
   ]
  },
  {
   "cell_type": "code",
   "execution_count": 83,
   "id": "fb16e5e8",
   "metadata": {},
   "outputs": [
    {
     "data": {
      "text/html": [
       "<div>\n",
       "<style scoped>\n",
       "    .dataframe tbody tr th:only-of-type {\n",
       "        vertical-align: middle;\n",
       "    }\n",
       "\n",
       "    .dataframe tbody tr th {\n",
       "        vertical-align: top;\n",
       "    }\n",
       "\n",
       "    .dataframe thead th {\n",
       "        text-align: right;\n",
       "    }\n",
       "</style>\n",
       "<table border=\"1\" class=\"dataframe\">\n",
       "  <thead>\n",
       "    <tr style=\"text-align: right;\">\n",
       "      <th></th>\n",
       "      <th>Brand</th>\n",
       "    </tr>\n",
       "  </thead>\n",
       "  <tbody>\n",
       "    <tr>\n",
       "      <th>0</th>\n",
       "      <td>U.S. Polo Assn.</td>\n",
       "    </tr>\n",
       "    <tr>\n",
       "      <th>1</th>\n",
       "      <td>Red Tape</td>\n",
       "    </tr>\n",
       "    <tr>\n",
       "      <th>2</th>\n",
       "      <td>Nike</td>\n",
       "    </tr>\n",
       "    <tr>\n",
       "      <th>3</th>\n",
       "      <td>Mast &amp; Harbour</td>\n",
       "    </tr>\n",
       "    <tr>\n",
       "      <th>4</th>\n",
       "      <td>Roadster</td>\n",
       "    </tr>\n",
       "    <tr>\n",
       "      <th>5</th>\n",
       "      <td>HIGHLANDER</td>\n",
       "    </tr>\n",
       "    <tr>\n",
       "      <th>6</th>\n",
       "      <td>Eego Italy</td>\n",
       "    </tr>\n",
       "    <tr>\n",
       "      <th>7</th>\n",
       "      <td>U.S. Polo Assn.</td>\n",
       "    </tr>\n",
       "    <tr>\n",
       "      <th>8</th>\n",
       "      <td>Red Tape</td>\n",
       "    </tr>\n",
       "    <tr>\n",
       "      <th>9</th>\n",
       "      <td>Puma</td>\n",
       "    </tr>\n",
       "    <tr>\n",
       "      <th>10</th>\n",
       "      <td>Red Tape</td>\n",
       "    </tr>\n",
       "    <tr>\n",
       "      <th>11</th>\n",
       "      <td>El Paso</td>\n",
       "    </tr>\n",
       "    <tr>\n",
       "      <th>12</th>\n",
       "      <td>Campus</td>\n",
       "    </tr>\n",
       "    <tr>\n",
       "      <th>13</th>\n",
       "      <td>El Paso</td>\n",
       "    </tr>\n",
       "    <tr>\n",
       "      <th>14</th>\n",
       "      <td>Liberty</td>\n",
       "    </tr>\n",
       "    <tr>\n",
       "      <th>15</th>\n",
       "      <td>Liberty</td>\n",
       "    </tr>\n",
       "    <tr>\n",
       "      <th>16</th>\n",
       "      <td>HRX by Hrithik Roshan</td>\n",
       "    </tr>\n",
       "    <tr>\n",
       "      <th>17</th>\n",
       "      <td>Roadster</td>\n",
       "    </tr>\n",
       "    <tr>\n",
       "      <th>18</th>\n",
       "      <td>El Paso</td>\n",
       "    </tr>\n",
       "    <tr>\n",
       "      <th>19</th>\n",
       "      <td>Skechers</td>\n",
       "    </tr>\n",
       "    <tr>\n",
       "      <th>20</th>\n",
       "      <td>HIGHLANDER</td>\n",
       "    </tr>\n",
       "    <tr>\n",
       "      <th>21</th>\n",
       "      <td>Provogue</td>\n",
       "    </tr>\n",
       "    <tr>\n",
       "      <th>22</th>\n",
       "      <td>U.S. Polo Assn.</td>\n",
       "    </tr>\n",
       "    <tr>\n",
       "      <th>23</th>\n",
       "      <td>Nike</td>\n",
       "    </tr>\n",
       "    <tr>\n",
       "      <th>24</th>\n",
       "      <td>H&amp;M</td>\n",
       "    </tr>\n",
       "    <tr>\n",
       "      <th>25</th>\n",
       "      <td>Red Tape</td>\n",
       "    </tr>\n",
       "    <tr>\n",
       "      <th>26</th>\n",
       "      <td>H&amp;M</td>\n",
       "    </tr>\n",
       "    <tr>\n",
       "      <th>27</th>\n",
       "      <td>Kook N Keech</td>\n",
       "    </tr>\n",
       "    <tr>\n",
       "      <th>28</th>\n",
       "      <td>Red Tape</td>\n",
       "    </tr>\n",
       "    <tr>\n",
       "      <th>29</th>\n",
       "      <td>Campus</td>\n",
       "    </tr>\n",
       "    <tr>\n",
       "      <th>30</th>\n",
       "      <td>Puma</td>\n",
       "    </tr>\n",
       "    <tr>\n",
       "      <th>31</th>\n",
       "      <td>Nike</td>\n",
       "    </tr>\n",
       "    <tr>\n",
       "      <th>32</th>\n",
       "      <td>Roadster</td>\n",
       "    </tr>\n",
       "    <tr>\n",
       "      <th>33</th>\n",
       "      <td>Mactree</td>\n",
       "    </tr>\n",
       "    <tr>\n",
       "      <th>34</th>\n",
       "      <td>Mast &amp; Harbour</td>\n",
       "    </tr>\n",
       "    <tr>\n",
       "      <th>35</th>\n",
       "      <td>Skechers</td>\n",
       "    </tr>\n",
       "    <tr>\n",
       "      <th>36</th>\n",
       "      <td>HIGHLANDER</td>\n",
       "    </tr>\n",
       "    <tr>\n",
       "      <th>37</th>\n",
       "      <td>Red Tape</td>\n",
       "    </tr>\n",
       "    <tr>\n",
       "      <th>38</th>\n",
       "      <td>Puma</td>\n",
       "    </tr>\n",
       "    <tr>\n",
       "      <th>39</th>\n",
       "      <td>Provogue</td>\n",
       "    </tr>\n",
       "    <tr>\n",
       "      <th>40</th>\n",
       "      <td>El Paso</td>\n",
       "    </tr>\n",
       "    <tr>\n",
       "      <th>41</th>\n",
       "      <td>Killer</td>\n",
       "    </tr>\n",
       "    <tr>\n",
       "      <th>42</th>\n",
       "      <td>Kook N Keech</td>\n",
       "    </tr>\n",
       "    <tr>\n",
       "      <th>43</th>\n",
       "      <td>Nike</td>\n",
       "    </tr>\n",
       "    <tr>\n",
       "      <th>44</th>\n",
       "      <td>Zyla</td>\n",
       "    </tr>\n",
       "    <tr>\n",
       "      <th>45</th>\n",
       "      <td>Roadster</td>\n",
       "    </tr>\n",
       "    <tr>\n",
       "      <th>46</th>\n",
       "      <td>Red Tape</td>\n",
       "    </tr>\n",
       "    <tr>\n",
       "      <th>47</th>\n",
       "      <td>HIGHLANDER</td>\n",
       "    </tr>\n",
       "    <tr>\n",
       "      <th>48</th>\n",
       "      <td>Red Tape</td>\n",
       "    </tr>\n",
       "    <tr>\n",
       "      <th>49</th>\n",
       "      <td>PUMA Motorsport</td>\n",
       "    </tr>\n",
       "  </tbody>\n",
       "</table>\n",
       "</div>"
      ],
      "text/plain": [
       "                    Brand\n",
       "0         U.S. Polo Assn.\n",
       "1                Red Tape\n",
       "2                    Nike\n",
       "3          Mast & Harbour\n",
       "4                Roadster\n",
       "5              HIGHLANDER\n",
       "6              Eego Italy\n",
       "7         U.S. Polo Assn.\n",
       "8                Red Tape\n",
       "9                    Puma\n",
       "10               Red Tape\n",
       "11                El Paso\n",
       "12                 Campus\n",
       "13                El Paso\n",
       "14                Liberty\n",
       "15                Liberty\n",
       "16  HRX by Hrithik Roshan\n",
       "17               Roadster\n",
       "18                El Paso\n",
       "19               Skechers\n",
       "20             HIGHLANDER\n",
       "21               Provogue\n",
       "22        U.S. Polo Assn.\n",
       "23                   Nike\n",
       "24                    H&M\n",
       "25               Red Tape\n",
       "26                    H&M\n",
       "27           Kook N Keech\n",
       "28               Red Tape\n",
       "29                 Campus\n",
       "30                   Puma\n",
       "31                   Nike\n",
       "32               Roadster\n",
       "33                Mactree\n",
       "34         Mast & Harbour\n",
       "35               Skechers\n",
       "36             HIGHLANDER\n",
       "37               Red Tape\n",
       "38                   Puma\n",
       "39               Provogue\n",
       "40                El Paso\n",
       "41                 Killer\n",
       "42           Kook N Keech\n",
       "43                   Nike\n",
       "44                   Zyla\n",
       "45               Roadster\n",
       "46               Red Tape\n",
       "47             HIGHLANDER\n",
       "48               Red Tape\n",
       "49        PUMA Motorsport"
      ]
     },
     "execution_count": 83,
     "metadata": {},
     "output_type": "execute_result"
    }
   ],
   "source": [
    "df_shoe"
   ]
  },
  {
   "cell_type": "markdown",
   "id": "23d08d8d",
   "metadata": {},
   "source": [
    "# scrape first 10 laptops data. You have to scrape 3 attributesfor each laptop:\n",
    "1. Title\n",
    "2. Ratings\n",
    "3. Price\n"
   ]
  },
  {
   "cell_type": "code",
   "execution_count": 84,
   "id": "0cc3a33b",
   "metadata": {},
   "outputs": [],
   "source": [
    "lap=webdriver.Chrome(r\"C:\\Users\\Ashu\\Desktop\\chromedriver_win32\\Chromedriver.exe\")"
   ]
  },
  {
   "cell_type": "code",
   "execution_count": 85,
   "id": "154308e5",
   "metadata": {},
   "outputs": [],
   "source": [
    "lap.get(\"https://www.amazon.in/\")"
   ]
  },
  {
   "cell_type": "code",
   "execution_count": 86,
   "id": "af62f298",
   "metadata": {},
   "outputs": [],
   "source": [
    "search=lap.find_element(By.XPATH,\"//input[@class='nav-input nav-progressive-attribute']\")\n",
    "search.send_keys(\"laptop\")"
   ]
  },
  {
   "cell_type": "code",
   "execution_count": 87,
   "id": "83da73ed",
   "metadata": {},
   "outputs": [],
   "source": [
    "find= lap.find_element(By.XPATH,\"//input[@id='nav-search-submit-button']\")\n",
    "find.click()"
   ]
  },
  {
   "cell_type": "code",
   "execution_count": 88,
   "id": "a48708bb",
   "metadata": {},
   "outputs": [
    {
     "ename": "NoSuchElementException",
     "evalue": "Message: no such element: Unable to locate element: {\"method\":\"xpath\",\"selector\":\"/html/body/div[1]/div[2]/div[1]/div[2]/div/div[3]/span/div[1]/div/div/div[6]/ul[4]/li[11]/span/a/div/label/i\"}\n  (Session info: chrome=107.0.5304.88)\nStacktrace:\nBacktrace:\n\tOrdinal0 [0x00A1ACD3+2075859]\n\tOrdinal0 [0x009AEE61+1633889]\n\tOrdinal0 [0x008AB7BD+571325]\n\tOrdinal0 [0x008DAC2F+764975]\n\tOrdinal0 [0x008DAE1B+765467]\n\tOrdinal0 [0x0090D0F2+970994]\n\tOrdinal0 [0x008F7364+881508]\n\tOrdinal0 [0x0090B56A+963946]\n\tOrdinal0 [0x008F7136+880950]\n\tOrdinal0 [0x008CFEFD+720637]\n\tOrdinal0 [0x008D0F3F+724799]\n\tGetHandleVerifier [0x00CCEED2+2769538]\n\tGetHandleVerifier [0x00CC0D95+2711877]\n\tGetHandleVerifier [0x00AAA03A+521194]\n\tGetHandleVerifier [0x00AA8DA0+516432]\n\tOrdinal0 [0x009B682C+1665068]\n\tOrdinal0 [0x009BB128+1683752]\n\tOrdinal0 [0x009BB215+1683989]\n\tOrdinal0 [0x009C6484+1729668]\n\tBaseThreadInitThunk [0x75C56739+25]\n\tRtlGetFullPathName_UEx [0x77768FD2+1218]\n\tRtlGetFullPathName_UEx [0x77768F9D+1165]\n",
     "output_type": "error",
     "traceback": [
      "\u001b[1;31m---------------------------------------------------------------------------\u001b[0m",
      "\u001b[1;31mNoSuchElementException\u001b[0m                    Traceback (most recent call last)",
      "Input \u001b[1;32mIn [88]\u001b[0m, in \u001b[0;36m<cell line: 1>\u001b[1;34m()\u001b[0m\n\u001b[1;32m----> 1\u001b[0m intel_filter\u001b[38;5;241m=\u001b[39m\u001b[43mlap\u001b[49m\u001b[38;5;241;43m.\u001b[39;49m\u001b[43mfind_element\u001b[49m\u001b[43m(\u001b[49m\u001b[43mBy\u001b[49m\u001b[38;5;241;43m.\u001b[39;49m\u001b[43mXPATH\u001b[49m\u001b[43m,\u001b[49m\u001b[38;5;124;43m\"\u001b[39;49m\u001b[38;5;124;43m/html/body/div[1]/div[2]/div[1]/div[2]/div/div[3]/span/div[1]/div/div/div[6]/ul[4]/li[11]/span/a/div/label/i\u001b[39;49m\u001b[38;5;124;43m\"\u001b[39;49m\u001b[43m)\u001b[49m\n\u001b[0;32m      2\u001b[0m intel_filter\u001b[38;5;241m.\u001b[39mclick()\n\u001b[0;32m      4\u001b[0m time\u001b[38;5;241m.\u001b[39msleep(\u001b[38;5;241m2\u001b[39m)\n",
      "File \u001b[1;32m~\\anaconda3\\lib\\site-packages\\selenium\\webdriver\\remote\\webdriver.py:857\u001b[0m, in \u001b[0;36mWebDriver.find_element\u001b[1;34m(self, by, value)\u001b[0m\n\u001b[0;32m    854\u001b[0m     by \u001b[38;5;241m=\u001b[39m By\u001b[38;5;241m.\u001b[39mCSS_SELECTOR\n\u001b[0;32m    855\u001b[0m     value \u001b[38;5;241m=\u001b[39m \u001b[38;5;124m'\u001b[39m\u001b[38;5;124m[name=\u001b[39m\u001b[38;5;124m\"\u001b[39m\u001b[38;5;132;01m%s\u001b[39;00m\u001b[38;5;124m\"\u001b[39m\u001b[38;5;124m]\u001b[39m\u001b[38;5;124m'\u001b[39m \u001b[38;5;241m%\u001b[39m value\n\u001b[1;32m--> 857\u001b[0m \u001b[38;5;28;01mreturn\u001b[39;00m \u001b[38;5;28;43mself\u001b[39;49m\u001b[38;5;241;43m.\u001b[39;49m\u001b[43mexecute\u001b[49m\u001b[43m(\u001b[49m\u001b[43mCommand\u001b[49m\u001b[38;5;241;43m.\u001b[39;49m\u001b[43mFIND_ELEMENT\u001b[49m\u001b[43m,\u001b[49m\u001b[43m \u001b[49m\u001b[43m{\u001b[49m\n\u001b[0;32m    858\u001b[0m \u001b[43m    \u001b[49m\u001b[38;5;124;43m'\u001b[39;49m\u001b[38;5;124;43musing\u001b[39;49m\u001b[38;5;124;43m'\u001b[39;49m\u001b[43m:\u001b[49m\u001b[43m \u001b[49m\u001b[43mby\u001b[49m\u001b[43m,\u001b[49m\n\u001b[0;32m    859\u001b[0m \u001b[43m    \u001b[49m\u001b[38;5;124;43m'\u001b[39;49m\u001b[38;5;124;43mvalue\u001b[39;49m\u001b[38;5;124;43m'\u001b[39;49m\u001b[43m:\u001b[49m\u001b[43m \u001b[49m\u001b[43mvalue\u001b[49m\u001b[43m}\u001b[49m\u001b[43m)\u001b[49m[\u001b[38;5;124m'\u001b[39m\u001b[38;5;124mvalue\u001b[39m\u001b[38;5;124m'\u001b[39m]\n",
      "File \u001b[1;32m~\\anaconda3\\lib\\site-packages\\selenium\\webdriver\\remote\\webdriver.py:435\u001b[0m, in \u001b[0;36mWebDriver.execute\u001b[1;34m(self, driver_command, params)\u001b[0m\n\u001b[0;32m    433\u001b[0m response \u001b[38;5;241m=\u001b[39m \u001b[38;5;28mself\u001b[39m\u001b[38;5;241m.\u001b[39mcommand_executor\u001b[38;5;241m.\u001b[39mexecute(driver_command, params)\n\u001b[0;32m    434\u001b[0m \u001b[38;5;28;01mif\u001b[39;00m response:\n\u001b[1;32m--> 435\u001b[0m     \u001b[38;5;28;43mself\u001b[39;49m\u001b[38;5;241;43m.\u001b[39;49m\u001b[43merror_handler\u001b[49m\u001b[38;5;241;43m.\u001b[39;49m\u001b[43mcheck_response\u001b[49m\u001b[43m(\u001b[49m\u001b[43mresponse\u001b[49m\u001b[43m)\u001b[49m\n\u001b[0;32m    436\u001b[0m     response[\u001b[38;5;124m'\u001b[39m\u001b[38;5;124mvalue\u001b[39m\u001b[38;5;124m'\u001b[39m] \u001b[38;5;241m=\u001b[39m \u001b[38;5;28mself\u001b[39m\u001b[38;5;241m.\u001b[39m_unwrap_value(\n\u001b[0;32m    437\u001b[0m         response\u001b[38;5;241m.\u001b[39mget(\u001b[38;5;124m'\u001b[39m\u001b[38;5;124mvalue\u001b[39m\u001b[38;5;124m'\u001b[39m, \u001b[38;5;28;01mNone\u001b[39;00m))\n\u001b[0;32m    438\u001b[0m     \u001b[38;5;28;01mreturn\u001b[39;00m response\n",
      "File \u001b[1;32m~\\anaconda3\\lib\\site-packages\\selenium\\webdriver\\remote\\errorhandler.py:247\u001b[0m, in \u001b[0;36mErrorHandler.check_response\u001b[1;34m(self, response)\u001b[0m\n\u001b[0;32m    245\u001b[0m         alert_text \u001b[38;5;241m=\u001b[39m value[\u001b[38;5;124m'\u001b[39m\u001b[38;5;124malert\u001b[39m\u001b[38;5;124m'\u001b[39m]\u001b[38;5;241m.\u001b[39mget(\u001b[38;5;124m'\u001b[39m\u001b[38;5;124mtext\u001b[39m\u001b[38;5;124m'\u001b[39m)\n\u001b[0;32m    246\u001b[0m     \u001b[38;5;28;01mraise\u001b[39;00m exception_class(message, screen, stacktrace, alert_text)  \u001b[38;5;66;03m# type: ignore[call-arg]  # mypy is not smart enough here\u001b[39;00m\n\u001b[1;32m--> 247\u001b[0m \u001b[38;5;28;01mraise\u001b[39;00m exception_class(message, screen, stacktrace)\n",
      "\u001b[1;31mNoSuchElementException\u001b[0m: Message: no such element: Unable to locate element: {\"method\":\"xpath\",\"selector\":\"/html/body/div[1]/div[2]/div[1]/div[2]/div/div[3]/span/div[1]/div/div/div[6]/ul[4]/li[11]/span/a/div/label/i\"}\n  (Session info: chrome=107.0.5304.88)\nStacktrace:\nBacktrace:\n\tOrdinal0 [0x00A1ACD3+2075859]\n\tOrdinal0 [0x009AEE61+1633889]\n\tOrdinal0 [0x008AB7BD+571325]\n\tOrdinal0 [0x008DAC2F+764975]\n\tOrdinal0 [0x008DAE1B+765467]\n\tOrdinal0 [0x0090D0F2+970994]\n\tOrdinal0 [0x008F7364+881508]\n\tOrdinal0 [0x0090B56A+963946]\n\tOrdinal0 [0x008F7136+880950]\n\tOrdinal0 [0x008CFEFD+720637]\n\tOrdinal0 [0x008D0F3F+724799]\n\tGetHandleVerifier [0x00CCEED2+2769538]\n\tGetHandleVerifier [0x00CC0D95+2711877]\n\tGetHandleVerifier [0x00AAA03A+521194]\n\tGetHandleVerifier [0x00AA8DA0+516432]\n\tOrdinal0 [0x009B682C+1665068]\n\tOrdinal0 [0x009BB128+1683752]\n\tOrdinal0 [0x009BB215+1683989]\n\tOrdinal0 [0x009C6484+1729668]\n\tBaseThreadInitThunk [0x75C56739+25]\n\tRtlGetFullPathName_UEx [0x77768FD2+1218]\n\tRtlGetFullPathName_UEx [0x77768F9D+1165]\n"
     ]
    }
   ],
   "source": [
    "intel_filter=lap.find_element(By.XPATH,\"/html/body/div[1]/div[2]/div[1]/div[2]/div/div[3]/span/div[1]/div/div/div[6]/ul[4]/li[11]/span/a/div/label/i\")\n",
    "intel_filter.click()\n",
    "\n",
    "time.sleep(2)    "
   ]
  },
  {
   "cell_type": "code",
   "execution_count": null,
   "id": "29685a1c",
   "metadata": {},
   "outputs": [],
   "source": [
    "Title=[]\n",
    "Rating=[]\n",
    "price=[]"
   ]
  },
  {
   "cell_type": "code",
   "execution_count": null,
   "id": "10e79b3d",
   "metadata": {},
   "outputs": [],
   "source": [
    "Titles=lap.find_elements(By.XPATH,\"//span[@class='a-size-medium a-color-base a-text-normal']\")\n",
    "for i in Titles:\n",
    "            ti=i.text\n",
    "            Title.append(ti)    \n",
    "        \n",
    "Rating_lap=lap.find_elements(By.XPATH,'//span[@class=\"a-icon-alt\"]')\n",
    "for i in Rating_lap:                         \n",
    "            rl=i.text\n",
    "            Rating.append(rl)\n",
    "    \n",
    "cost_lap=lap.find_elements(By.XPATH,'//span[@class=\"a-price-whole\"]')   \n",
    "for i in cost_lap:\n",
    "            cl=i.text\n",
    "            price.append(cl)\n",
    "        \n",
    "time.sleep(3)"
   ]
  },
  {
   "cell_type": "code",
   "execution_count": null,
   "id": "32854ea2",
   "metadata": {},
   "outputs": [],
   "source": [
    "print(len(Title),len(price))"
   ]
  },
  {
   "cell_type": "code",
   "execution_count": null,
   "id": "0d825a53",
   "metadata": {},
   "outputs": [],
   "source": [
    "dfl = pd.DataFrame({'Title':Title,'Price':price})\n",
    "dfl[0:10]"
   ]
  },
  {
   "cell_type": "markdown",
   "id": "7b23e091",
   "metadata": {},
   "source": [
    "# Write a python program to scrape data for first 10 job results for Data Scientist Designation in Noida"
   ]
  },
  {
   "cell_type": "code",
   "execution_count": 89,
   "id": "b0366ab9",
   "metadata": {},
   "outputs": [],
   "source": [
    "ambi=webdriver.Chrome(r\"C:\\Users\\Ashu\\Desktop\\chromedriver_win32\\Chromedriver.exe\")"
   ]
  },
  {
   "cell_type": "code",
   "execution_count": 90,
   "id": "c7b80913",
   "metadata": {},
   "outputs": [],
   "source": [
    "ambi.get(\"https://www.ambitionbox.com/\")\n"
   ]
  },
  {
   "cell_type": "code",
   "execution_count": 91,
   "id": "6d82a496",
   "metadata": {},
   "outputs": [
    {
     "ename": "NoSuchElementException",
     "evalue": "Message: no such element: Unable to locate element: {\"method\":\"xpath\",\"selector\":\"/html/body/div[1]/nav[2]/div/ul/li[5]/a\"}\n  (Session info: chrome=107.0.5304.88)\nStacktrace:\nBacktrace:\n\tOrdinal0 [0x00A1ACD3+2075859]\n\tOrdinal0 [0x009AEE61+1633889]\n\tOrdinal0 [0x008AB7BD+571325]\n\tOrdinal0 [0x008DAC2F+764975]\n\tOrdinal0 [0x008DAE1B+765467]\n\tOrdinal0 [0x0090D0F2+970994]\n\tOrdinal0 [0x008F7364+881508]\n\tOrdinal0 [0x0090B56A+963946]\n\tOrdinal0 [0x008F7136+880950]\n\tOrdinal0 [0x008CFEFD+720637]\n\tOrdinal0 [0x008D0F3F+724799]\n\tGetHandleVerifier [0x00CCEED2+2769538]\n\tGetHandleVerifier [0x00CC0D95+2711877]\n\tGetHandleVerifier [0x00AAA03A+521194]\n\tGetHandleVerifier [0x00AA8DA0+516432]\n\tOrdinal0 [0x009B682C+1665068]\n\tOrdinal0 [0x009BB128+1683752]\n\tOrdinal0 [0x009BB215+1683989]\n\tOrdinal0 [0x009C6484+1729668]\n\tBaseThreadInitThunk [0x75C56739+25]\n\tRtlGetFullPathName_UEx [0x77768FD2+1218]\n\tRtlGetFullPathName_UEx [0x77768F9D+1165]\n",
     "output_type": "error",
     "traceback": [
      "\u001b[1;31m---------------------------------------------------------------------------\u001b[0m",
      "\u001b[1;31mNoSuchElementException\u001b[0m                    Traceback (most recent call last)",
      "Input \u001b[1;32mIn [91]\u001b[0m, in \u001b[0;36m<cell line: 1>\u001b[1;34m()\u001b[0m\n\u001b[1;32m----> 1\u001b[0m jobs\u001b[38;5;241m=\u001b[39m\u001b[43mambi\u001b[49m\u001b[38;5;241;43m.\u001b[39;49m\u001b[43mfind_element\u001b[49m\u001b[43m(\u001b[49m\u001b[43mBy\u001b[49m\u001b[38;5;241;43m.\u001b[39;49m\u001b[43mXPATH\u001b[49m\u001b[43m,\u001b[49m\u001b[38;5;124;43m'\u001b[39;49m\u001b[38;5;124;43m/html/body/div[1]/nav[2]/div/ul/li[5]/a\u001b[39;49m\u001b[38;5;124;43m'\u001b[39;49m\u001b[43m)\u001b[49m\n\u001b[0;32m      2\u001b[0m jobs\u001b[38;5;241m.\u001b[39mclick()\n",
      "File \u001b[1;32m~\\anaconda3\\lib\\site-packages\\selenium\\webdriver\\remote\\webdriver.py:857\u001b[0m, in \u001b[0;36mWebDriver.find_element\u001b[1;34m(self, by, value)\u001b[0m\n\u001b[0;32m    854\u001b[0m     by \u001b[38;5;241m=\u001b[39m By\u001b[38;5;241m.\u001b[39mCSS_SELECTOR\n\u001b[0;32m    855\u001b[0m     value \u001b[38;5;241m=\u001b[39m \u001b[38;5;124m'\u001b[39m\u001b[38;5;124m[name=\u001b[39m\u001b[38;5;124m\"\u001b[39m\u001b[38;5;132;01m%s\u001b[39;00m\u001b[38;5;124m\"\u001b[39m\u001b[38;5;124m]\u001b[39m\u001b[38;5;124m'\u001b[39m \u001b[38;5;241m%\u001b[39m value\n\u001b[1;32m--> 857\u001b[0m \u001b[38;5;28;01mreturn\u001b[39;00m \u001b[38;5;28;43mself\u001b[39;49m\u001b[38;5;241;43m.\u001b[39;49m\u001b[43mexecute\u001b[49m\u001b[43m(\u001b[49m\u001b[43mCommand\u001b[49m\u001b[38;5;241;43m.\u001b[39;49m\u001b[43mFIND_ELEMENT\u001b[49m\u001b[43m,\u001b[49m\u001b[43m \u001b[49m\u001b[43m{\u001b[49m\n\u001b[0;32m    858\u001b[0m \u001b[43m    \u001b[49m\u001b[38;5;124;43m'\u001b[39;49m\u001b[38;5;124;43musing\u001b[39;49m\u001b[38;5;124;43m'\u001b[39;49m\u001b[43m:\u001b[49m\u001b[43m \u001b[49m\u001b[43mby\u001b[49m\u001b[43m,\u001b[49m\n\u001b[0;32m    859\u001b[0m \u001b[43m    \u001b[49m\u001b[38;5;124;43m'\u001b[39;49m\u001b[38;5;124;43mvalue\u001b[39;49m\u001b[38;5;124;43m'\u001b[39;49m\u001b[43m:\u001b[49m\u001b[43m \u001b[49m\u001b[43mvalue\u001b[49m\u001b[43m}\u001b[49m\u001b[43m)\u001b[49m[\u001b[38;5;124m'\u001b[39m\u001b[38;5;124mvalue\u001b[39m\u001b[38;5;124m'\u001b[39m]\n",
      "File \u001b[1;32m~\\anaconda3\\lib\\site-packages\\selenium\\webdriver\\remote\\webdriver.py:435\u001b[0m, in \u001b[0;36mWebDriver.execute\u001b[1;34m(self, driver_command, params)\u001b[0m\n\u001b[0;32m    433\u001b[0m response \u001b[38;5;241m=\u001b[39m \u001b[38;5;28mself\u001b[39m\u001b[38;5;241m.\u001b[39mcommand_executor\u001b[38;5;241m.\u001b[39mexecute(driver_command, params)\n\u001b[0;32m    434\u001b[0m \u001b[38;5;28;01mif\u001b[39;00m response:\n\u001b[1;32m--> 435\u001b[0m     \u001b[38;5;28;43mself\u001b[39;49m\u001b[38;5;241;43m.\u001b[39;49m\u001b[43merror_handler\u001b[49m\u001b[38;5;241;43m.\u001b[39;49m\u001b[43mcheck_response\u001b[49m\u001b[43m(\u001b[49m\u001b[43mresponse\u001b[49m\u001b[43m)\u001b[49m\n\u001b[0;32m    436\u001b[0m     response[\u001b[38;5;124m'\u001b[39m\u001b[38;5;124mvalue\u001b[39m\u001b[38;5;124m'\u001b[39m] \u001b[38;5;241m=\u001b[39m \u001b[38;5;28mself\u001b[39m\u001b[38;5;241m.\u001b[39m_unwrap_value(\n\u001b[0;32m    437\u001b[0m         response\u001b[38;5;241m.\u001b[39mget(\u001b[38;5;124m'\u001b[39m\u001b[38;5;124mvalue\u001b[39m\u001b[38;5;124m'\u001b[39m, \u001b[38;5;28;01mNone\u001b[39;00m))\n\u001b[0;32m    438\u001b[0m     \u001b[38;5;28;01mreturn\u001b[39;00m response\n",
      "File \u001b[1;32m~\\anaconda3\\lib\\site-packages\\selenium\\webdriver\\remote\\errorhandler.py:247\u001b[0m, in \u001b[0;36mErrorHandler.check_response\u001b[1;34m(self, response)\u001b[0m\n\u001b[0;32m    245\u001b[0m         alert_text \u001b[38;5;241m=\u001b[39m value[\u001b[38;5;124m'\u001b[39m\u001b[38;5;124malert\u001b[39m\u001b[38;5;124m'\u001b[39m]\u001b[38;5;241m.\u001b[39mget(\u001b[38;5;124m'\u001b[39m\u001b[38;5;124mtext\u001b[39m\u001b[38;5;124m'\u001b[39m)\n\u001b[0;32m    246\u001b[0m     \u001b[38;5;28;01mraise\u001b[39;00m exception_class(message, screen, stacktrace, alert_text)  \u001b[38;5;66;03m# type: ignore[call-arg]  # mypy is not smart enough here\u001b[39;00m\n\u001b[1;32m--> 247\u001b[0m \u001b[38;5;28;01mraise\u001b[39;00m exception_class(message, screen, stacktrace)\n",
      "\u001b[1;31mNoSuchElementException\u001b[0m: Message: no such element: Unable to locate element: {\"method\":\"xpath\",\"selector\":\"/html/body/div[1]/nav[2]/div/ul/li[5]/a\"}\n  (Session info: chrome=107.0.5304.88)\nStacktrace:\nBacktrace:\n\tOrdinal0 [0x00A1ACD3+2075859]\n\tOrdinal0 [0x009AEE61+1633889]\n\tOrdinal0 [0x008AB7BD+571325]\n\tOrdinal0 [0x008DAC2F+764975]\n\tOrdinal0 [0x008DAE1B+765467]\n\tOrdinal0 [0x0090D0F2+970994]\n\tOrdinal0 [0x008F7364+881508]\n\tOrdinal0 [0x0090B56A+963946]\n\tOrdinal0 [0x008F7136+880950]\n\tOrdinal0 [0x008CFEFD+720637]\n\tOrdinal0 [0x008D0F3F+724799]\n\tGetHandleVerifier [0x00CCEED2+2769538]\n\tGetHandleVerifier [0x00CC0D95+2711877]\n\tGetHandleVerifier [0x00AAA03A+521194]\n\tGetHandleVerifier [0x00AA8DA0+516432]\n\tOrdinal0 [0x009B682C+1665068]\n\tOrdinal0 [0x009BB128+1683752]\n\tOrdinal0 [0x009BB215+1683989]\n\tOrdinal0 [0x009C6484+1729668]\n\tBaseThreadInitThunk [0x75C56739+25]\n\tRtlGetFullPathName_UEx [0x77768FD2+1218]\n\tRtlGetFullPathName_UEx [0x77768F9D+1165]\n"
     ]
    }
   ],
   "source": [
    "jobs=ambi.find_element(By.XPATH,'/html/body/div[1]/nav[2]/div/ul/li[5]/a')\n",
    "jobs.click()"
   ]
  },
  {
   "cell_type": "code",
   "execution_count": 92,
   "id": "786daf38",
   "metadata": {},
   "outputs": [
    {
     "ename": "NoSuchElementException",
     "evalue": "Message: no such element: Unable to locate element: {\"method\":\"xpath\",\"selector\":\"/html/body/div/div/div/div[2]/div[1]/div[1]/div/div/div/div/span/input\"}\n  (Session info: chrome=107.0.5304.88)\nStacktrace:\nBacktrace:\n\tOrdinal0 [0x00A1ACD3+2075859]\n\tOrdinal0 [0x009AEE61+1633889]\n\tOrdinal0 [0x008AB7BD+571325]\n\tOrdinal0 [0x008DAC2F+764975]\n\tOrdinal0 [0x008DAE1B+765467]\n\tOrdinal0 [0x0090D0F2+970994]\n\tOrdinal0 [0x008F7364+881508]\n\tOrdinal0 [0x0090B56A+963946]\n\tOrdinal0 [0x008F7136+880950]\n\tOrdinal0 [0x008CFEFD+720637]\n\tOrdinal0 [0x008D0F3F+724799]\n\tGetHandleVerifier [0x00CCEED2+2769538]\n\tGetHandleVerifier [0x00CC0D95+2711877]\n\tGetHandleVerifier [0x00AAA03A+521194]\n\tGetHandleVerifier [0x00AA8DA0+516432]\n\tOrdinal0 [0x009B682C+1665068]\n\tOrdinal0 [0x009BB128+1683752]\n\tOrdinal0 [0x009BB215+1683989]\n\tOrdinal0 [0x009C6484+1729668]\n\tBaseThreadInitThunk [0x75C56739+25]\n\tRtlGetFullPathName_UEx [0x77768FD2+1218]\n\tRtlGetFullPathName_UEx [0x77768F9D+1165]\n",
     "output_type": "error",
     "traceback": [
      "\u001b[1;31m---------------------------------------------------------------------------\u001b[0m",
      "\u001b[1;31mNoSuchElementException\u001b[0m                    Traceback (most recent call last)",
      "Input \u001b[1;32mIn [92]\u001b[0m, in \u001b[0;36m<cell line: 1>\u001b[1;34m()\u001b[0m\n\u001b[1;32m----> 1\u001b[0m search\u001b[38;5;241m=\u001b[39m\u001b[43mambi\u001b[49m\u001b[38;5;241;43m.\u001b[39;49m\u001b[43mfind_element\u001b[49m\u001b[43m(\u001b[49m\u001b[43mBy\u001b[49m\u001b[38;5;241;43m.\u001b[39;49m\u001b[43mXPATH\u001b[49m\u001b[43m,\u001b[49m\u001b[38;5;124;43m\"\u001b[39;49m\u001b[38;5;124;43m/html/body/div/div/div/div[2]/div[1]/div[1]/div/div/div/div/span/input\u001b[39;49m\u001b[38;5;124;43m\"\u001b[39;49m\u001b[43m)\u001b[49m\n\u001b[0;32m      2\u001b[0m search\u001b[38;5;241m.\u001b[39msend_keys(\u001b[38;5;124m\"\u001b[39m\u001b[38;5;124mData scientist\u001b[39m\u001b[38;5;124m\"\u001b[39m)\n\u001b[0;32m      3\u001b[0m time\u001b[38;5;241m.\u001b[39msleep(\u001b[38;5;241m2\u001b[39m)\n",
      "File \u001b[1;32m~\\anaconda3\\lib\\site-packages\\selenium\\webdriver\\remote\\webdriver.py:857\u001b[0m, in \u001b[0;36mWebDriver.find_element\u001b[1;34m(self, by, value)\u001b[0m\n\u001b[0;32m    854\u001b[0m     by \u001b[38;5;241m=\u001b[39m By\u001b[38;5;241m.\u001b[39mCSS_SELECTOR\n\u001b[0;32m    855\u001b[0m     value \u001b[38;5;241m=\u001b[39m \u001b[38;5;124m'\u001b[39m\u001b[38;5;124m[name=\u001b[39m\u001b[38;5;124m\"\u001b[39m\u001b[38;5;132;01m%s\u001b[39;00m\u001b[38;5;124m\"\u001b[39m\u001b[38;5;124m]\u001b[39m\u001b[38;5;124m'\u001b[39m \u001b[38;5;241m%\u001b[39m value\n\u001b[1;32m--> 857\u001b[0m \u001b[38;5;28;01mreturn\u001b[39;00m \u001b[38;5;28;43mself\u001b[39;49m\u001b[38;5;241;43m.\u001b[39;49m\u001b[43mexecute\u001b[49m\u001b[43m(\u001b[49m\u001b[43mCommand\u001b[49m\u001b[38;5;241;43m.\u001b[39;49m\u001b[43mFIND_ELEMENT\u001b[49m\u001b[43m,\u001b[49m\u001b[43m \u001b[49m\u001b[43m{\u001b[49m\n\u001b[0;32m    858\u001b[0m \u001b[43m    \u001b[49m\u001b[38;5;124;43m'\u001b[39;49m\u001b[38;5;124;43musing\u001b[39;49m\u001b[38;5;124;43m'\u001b[39;49m\u001b[43m:\u001b[49m\u001b[43m \u001b[49m\u001b[43mby\u001b[49m\u001b[43m,\u001b[49m\n\u001b[0;32m    859\u001b[0m \u001b[43m    \u001b[49m\u001b[38;5;124;43m'\u001b[39;49m\u001b[38;5;124;43mvalue\u001b[39;49m\u001b[38;5;124;43m'\u001b[39;49m\u001b[43m:\u001b[49m\u001b[43m \u001b[49m\u001b[43mvalue\u001b[49m\u001b[43m}\u001b[49m\u001b[43m)\u001b[49m[\u001b[38;5;124m'\u001b[39m\u001b[38;5;124mvalue\u001b[39m\u001b[38;5;124m'\u001b[39m]\n",
      "File \u001b[1;32m~\\anaconda3\\lib\\site-packages\\selenium\\webdriver\\remote\\webdriver.py:435\u001b[0m, in \u001b[0;36mWebDriver.execute\u001b[1;34m(self, driver_command, params)\u001b[0m\n\u001b[0;32m    433\u001b[0m response \u001b[38;5;241m=\u001b[39m \u001b[38;5;28mself\u001b[39m\u001b[38;5;241m.\u001b[39mcommand_executor\u001b[38;5;241m.\u001b[39mexecute(driver_command, params)\n\u001b[0;32m    434\u001b[0m \u001b[38;5;28;01mif\u001b[39;00m response:\n\u001b[1;32m--> 435\u001b[0m     \u001b[38;5;28;43mself\u001b[39;49m\u001b[38;5;241;43m.\u001b[39;49m\u001b[43merror_handler\u001b[49m\u001b[38;5;241;43m.\u001b[39;49m\u001b[43mcheck_response\u001b[49m\u001b[43m(\u001b[49m\u001b[43mresponse\u001b[49m\u001b[43m)\u001b[49m\n\u001b[0;32m    436\u001b[0m     response[\u001b[38;5;124m'\u001b[39m\u001b[38;5;124mvalue\u001b[39m\u001b[38;5;124m'\u001b[39m] \u001b[38;5;241m=\u001b[39m \u001b[38;5;28mself\u001b[39m\u001b[38;5;241m.\u001b[39m_unwrap_value(\n\u001b[0;32m    437\u001b[0m         response\u001b[38;5;241m.\u001b[39mget(\u001b[38;5;124m'\u001b[39m\u001b[38;5;124mvalue\u001b[39m\u001b[38;5;124m'\u001b[39m, \u001b[38;5;28;01mNone\u001b[39;00m))\n\u001b[0;32m    438\u001b[0m     \u001b[38;5;28;01mreturn\u001b[39;00m response\n",
      "File \u001b[1;32m~\\anaconda3\\lib\\site-packages\\selenium\\webdriver\\remote\\errorhandler.py:247\u001b[0m, in \u001b[0;36mErrorHandler.check_response\u001b[1;34m(self, response)\u001b[0m\n\u001b[0;32m    245\u001b[0m         alert_text \u001b[38;5;241m=\u001b[39m value[\u001b[38;5;124m'\u001b[39m\u001b[38;5;124malert\u001b[39m\u001b[38;5;124m'\u001b[39m]\u001b[38;5;241m.\u001b[39mget(\u001b[38;5;124m'\u001b[39m\u001b[38;5;124mtext\u001b[39m\u001b[38;5;124m'\u001b[39m)\n\u001b[0;32m    246\u001b[0m     \u001b[38;5;28;01mraise\u001b[39;00m exception_class(message, screen, stacktrace, alert_text)  \u001b[38;5;66;03m# type: ignore[call-arg]  # mypy is not smart enough here\u001b[39;00m\n\u001b[1;32m--> 247\u001b[0m \u001b[38;5;28;01mraise\u001b[39;00m exception_class(message, screen, stacktrace)\n",
      "\u001b[1;31mNoSuchElementException\u001b[0m: Message: no such element: Unable to locate element: {\"method\":\"xpath\",\"selector\":\"/html/body/div/div/div/div[2]/div[1]/div[1]/div/div/div/div/span/input\"}\n  (Session info: chrome=107.0.5304.88)\nStacktrace:\nBacktrace:\n\tOrdinal0 [0x00A1ACD3+2075859]\n\tOrdinal0 [0x009AEE61+1633889]\n\tOrdinal0 [0x008AB7BD+571325]\n\tOrdinal0 [0x008DAC2F+764975]\n\tOrdinal0 [0x008DAE1B+765467]\n\tOrdinal0 [0x0090D0F2+970994]\n\tOrdinal0 [0x008F7364+881508]\n\tOrdinal0 [0x0090B56A+963946]\n\tOrdinal0 [0x008F7136+880950]\n\tOrdinal0 [0x008CFEFD+720637]\n\tOrdinal0 [0x008D0F3F+724799]\n\tGetHandleVerifier [0x00CCEED2+2769538]\n\tGetHandleVerifier [0x00CC0D95+2711877]\n\tGetHandleVerifier [0x00AAA03A+521194]\n\tGetHandleVerifier [0x00AA8DA0+516432]\n\tOrdinal0 [0x009B682C+1665068]\n\tOrdinal0 [0x009BB128+1683752]\n\tOrdinal0 [0x009BB215+1683989]\n\tOrdinal0 [0x009C6484+1729668]\n\tBaseThreadInitThunk [0x75C56739+25]\n\tRtlGetFullPathName_UEx [0x77768FD2+1218]\n\tRtlGetFullPathName_UEx [0x77768F9D+1165]\n"
     ]
    }
   ],
   "source": [
    "search=ambi.find_element(By.XPATH,\"/html/body/div/div/div/div[2]/div[1]/div[1]/div/div/div/div/span/input\")\n",
    "search.send_keys(\"Data scientist\")\n",
    "time.sleep(2)"
   ]
  },
  {
   "cell_type": "code",
   "execution_count": 93,
   "id": "5b23bd98",
   "metadata": {},
   "outputs": [
    {
     "ename": "NoSuchElementException",
     "evalue": "Message: no such element: Unable to locate element: {\"method\":\"xpath\",\"selector\":\"/html/body/div/div/div/div[2]/div[1]/div[1]/div/div/div/button/span\"}\n  (Session info: chrome=107.0.5304.88)\nStacktrace:\nBacktrace:\n\tOrdinal0 [0x00A1ACD3+2075859]\n\tOrdinal0 [0x009AEE61+1633889]\n\tOrdinal0 [0x008AB7BD+571325]\n\tOrdinal0 [0x008DAC2F+764975]\n\tOrdinal0 [0x008DAE1B+765467]\n\tOrdinal0 [0x0090D0F2+970994]\n\tOrdinal0 [0x008F7364+881508]\n\tOrdinal0 [0x0090B56A+963946]\n\tOrdinal0 [0x008F7136+880950]\n\tOrdinal0 [0x008CFEFD+720637]\n\tOrdinal0 [0x008D0F3F+724799]\n\tGetHandleVerifier [0x00CCEED2+2769538]\n\tGetHandleVerifier [0x00CC0D95+2711877]\n\tGetHandleVerifier [0x00AAA03A+521194]\n\tGetHandleVerifier [0x00AA8DA0+516432]\n\tOrdinal0 [0x009B682C+1665068]\n\tOrdinal0 [0x009BB128+1683752]\n\tOrdinal0 [0x009BB215+1683989]\n\tOrdinal0 [0x009C6484+1729668]\n\tBaseThreadInitThunk [0x75C56739+25]\n\tRtlGetFullPathName_UEx [0x77768FD2+1218]\n\tRtlGetFullPathName_UEx [0x77768F9D+1165]\n",
     "output_type": "error",
     "traceback": [
      "\u001b[1;31m---------------------------------------------------------------------------\u001b[0m",
      "\u001b[1;31mNoSuchElementException\u001b[0m                    Traceback (most recent call last)",
      "Input \u001b[1;32mIn [93]\u001b[0m, in \u001b[0;36m<cell line: 1>\u001b[1;34m()\u001b[0m\n\u001b[1;32m----> 1\u001b[0m search_button\u001b[38;5;241m=\u001b[39m \u001b[43mambi\u001b[49m\u001b[38;5;241;43m.\u001b[39;49m\u001b[43mfind_element\u001b[49m\u001b[43m(\u001b[49m\u001b[43mBy\u001b[49m\u001b[38;5;241;43m.\u001b[39;49m\u001b[43mXPATH\u001b[49m\u001b[43m,\u001b[49m\u001b[38;5;124;43m\"\u001b[39;49m\u001b[38;5;124;43m/html/body/div/div/div/div[2]/div[1]/div[1]/div/div/div/button/span\u001b[39;49m\u001b[38;5;124;43m\"\u001b[39;49m\u001b[43m)\u001b[49m\n\u001b[0;32m      2\u001b[0m search_button\u001b[38;5;241m.\u001b[39mclick()\n",
      "File \u001b[1;32m~\\anaconda3\\lib\\site-packages\\selenium\\webdriver\\remote\\webdriver.py:857\u001b[0m, in \u001b[0;36mWebDriver.find_element\u001b[1;34m(self, by, value)\u001b[0m\n\u001b[0;32m    854\u001b[0m     by \u001b[38;5;241m=\u001b[39m By\u001b[38;5;241m.\u001b[39mCSS_SELECTOR\n\u001b[0;32m    855\u001b[0m     value \u001b[38;5;241m=\u001b[39m \u001b[38;5;124m'\u001b[39m\u001b[38;5;124m[name=\u001b[39m\u001b[38;5;124m\"\u001b[39m\u001b[38;5;132;01m%s\u001b[39;00m\u001b[38;5;124m\"\u001b[39m\u001b[38;5;124m]\u001b[39m\u001b[38;5;124m'\u001b[39m \u001b[38;5;241m%\u001b[39m value\n\u001b[1;32m--> 857\u001b[0m \u001b[38;5;28;01mreturn\u001b[39;00m \u001b[38;5;28;43mself\u001b[39;49m\u001b[38;5;241;43m.\u001b[39;49m\u001b[43mexecute\u001b[49m\u001b[43m(\u001b[49m\u001b[43mCommand\u001b[49m\u001b[38;5;241;43m.\u001b[39;49m\u001b[43mFIND_ELEMENT\u001b[49m\u001b[43m,\u001b[49m\u001b[43m \u001b[49m\u001b[43m{\u001b[49m\n\u001b[0;32m    858\u001b[0m \u001b[43m    \u001b[49m\u001b[38;5;124;43m'\u001b[39;49m\u001b[38;5;124;43musing\u001b[39;49m\u001b[38;5;124;43m'\u001b[39;49m\u001b[43m:\u001b[49m\u001b[43m \u001b[49m\u001b[43mby\u001b[49m\u001b[43m,\u001b[49m\n\u001b[0;32m    859\u001b[0m \u001b[43m    \u001b[49m\u001b[38;5;124;43m'\u001b[39;49m\u001b[38;5;124;43mvalue\u001b[39;49m\u001b[38;5;124;43m'\u001b[39;49m\u001b[43m:\u001b[49m\u001b[43m \u001b[49m\u001b[43mvalue\u001b[49m\u001b[43m}\u001b[49m\u001b[43m)\u001b[49m[\u001b[38;5;124m'\u001b[39m\u001b[38;5;124mvalue\u001b[39m\u001b[38;5;124m'\u001b[39m]\n",
      "File \u001b[1;32m~\\anaconda3\\lib\\site-packages\\selenium\\webdriver\\remote\\webdriver.py:435\u001b[0m, in \u001b[0;36mWebDriver.execute\u001b[1;34m(self, driver_command, params)\u001b[0m\n\u001b[0;32m    433\u001b[0m response \u001b[38;5;241m=\u001b[39m \u001b[38;5;28mself\u001b[39m\u001b[38;5;241m.\u001b[39mcommand_executor\u001b[38;5;241m.\u001b[39mexecute(driver_command, params)\n\u001b[0;32m    434\u001b[0m \u001b[38;5;28;01mif\u001b[39;00m response:\n\u001b[1;32m--> 435\u001b[0m     \u001b[38;5;28;43mself\u001b[39;49m\u001b[38;5;241;43m.\u001b[39;49m\u001b[43merror_handler\u001b[49m\u001b[38;5;241;43m.\u001b[39;49m\u001b[43mcheck_response\u001b[49m\u001b[43m(\u001b[49m\u001b[43mresponse\u001b[49m\u001b[43m)\u001b[49m\n\u001b[0;32m    436\u001b[0m     response[\u001b[38;5;124m'\u001b[39m\u001b[38;5;124mvalue\u001b[39m\u001b[38;5;124m'\u001b[39m] \u001b[38;5;241m=\u001b[39m \u001b[38;5;28mself\u001b[39m\u001b[38;5;241m.\u001b[39m_unwrap_value(\n\u001b[0;32m    437\u001b[0m         response\u001b[38;5;241m.\u001b[39mget(\u001b[38;5;124m'\u001b[39m\u001b[38;5;124mvalue\u001b[39m\u001b[38;5;124m'\u001b[39m, \u001b[38;5;28;01mNone\u001b[39;00m))\n\u001b[0;32m    438\u001b[0m     \u001b[38;5;28;01mreturn\u001b[39;00m response\n",
      "File \u001b[1;32m~\\anaconda3\\lib\\site-packages\\selenium\\webdriver\\remote\\errorhandler.py:247\u001b[0m, in \u001b[0;36mErrorHandler.check_response\u001b[1;34m(self, response)\u001b[0m\n\u001b[0;32m    245\u001b[0m         alert_text \u001b[38;5;241m=\u001b[39m value[\u001b[38;5;124m'\u001b[39m\u001b[38;5;124malert\u001b[39m\u001b[38;5;124m'\u001b[39m]\u001b[38;5;241m.\u001b[39mget(\u001b[38;5;124m'\u001b[39m\u001b[38;5;124mtext\u001b[39m\u001b[38;5;124m'\u001b[39m)\n\u001b[0;32m    246\u001b[0m     \u001b[38;5;28;01mraise\u001b[39;00m exception_class(message, screen, stacktrace, alert_text)  \u001b[38;5;66;03m# type: ignore[call-arg]  # mypy is not smart enough here\u001b[39;00m\n\u001b[1;32m--> 247\u001b[0m \u001b[38;5;28;01mraise\u001b[39;00m exception_class(message, screen, stacktrace)\n",
      "\u001b[1;31mNoSuchElementException\u001b[0m: Message: no such element: Unable to locate element: {\"method\":\"xpath\",\"selector\":\"/html/body/div/div/div/div[2]/div[1]/div[1]/div/div/div/button/span\"}\n  (Session info: chrome=107.0.5304.88)\nStacktrace:\nBacktrace:\n\tOrdinal0 [0x00A1ACD3+2075859]\n\tOrdinal0 [0x009AEE61+1633889]\n\tOrdinal0 [0x008AB7BD+571325]\n\tOrdinal0 [0x008DAC2F+764975]\n\tOrdinal0 [0x008DAE1B+765467]\n\tOrdinal0 [0x0090D0F2+970994]\n\tOrdinal0 [0x008F7364+881508]\n\tOrdinal0 [0x0090B56A+963946]\n\tOrdinal0 [0x008F7136+880950]\n\tOrdinal0 [0x008CFEFD+720637]\n\tOrdinal0 [0x008D0F3F+724799]\n\tGetHandleVerifier [0x00CCEED2+2769538]\n\tGetHandleVerifier [0x00CC0D95+2711877]\n\tGetHandleVerifier [0x00AAA03A+521194]\n\tGetHandleVerifier [0x00AA8DA0+516432]\n\tOrdinal0 [0x009B682C+1665068]\n\tOrdinal0 [0x009BB128+1683752]\n\tOrdinal0 [0x009BB215+1683989]\n\tOrdinal0 [0x009C6484+1729668]\n\tBaseThreadInitThunk [0x75C56739+25]\n\tRtlGetFullPathName_UEx [0x77768FD2+1218]\n\tRtlGetFullPathName_UEx [0x77768F9D+1165]\n"
     ]
    }
   ],
   "source": [
    "search_button= ambi.find_element(By.XPATH,\"/html/body/div/div/div/div[2]/div[1]/div[1]/div/div/div/button/span\")\n",
    "search_button.click()"
   ]
  },
  {
   "cell_type": "code",
   "execution_count": 94,
   "id": "9edb3b7b",
   "metadata": {},
   "outputs": [
    {
     "ename": "NoSuchElementException",
     "evalue": "Message: no such element: Unable to locate element: {\"method\":\"xpath\",\"selector\":\"/html/body/div/div/div/div[2]/div[1]/div[2]/div[1]/div/div/div/div[2]/div[1]/i\"}\n  (Session info: chrome=107.0.5304.88)\nStacktrace:\nBacktrace:\n\tOrdinal0 [0x00A1ACD3+2075859]\n\tOrdinal0 [0x009AEE61+1633889]\n\tOrdinal0 [0x008AB7BD+571325]\n\tOrdinal0 [0x008DAC2F+764975]\n\tOrdinal0 [0x008DAE1B+765467]\n\tOrdinal0 [0x0090D0F2+970994]\n\tOrdinal0 [0x008F7364+881508]\n\tOrdinal0 [0x0090B56A+963946]\n\tOrdinal0 [0x008F7136+880950]\n\tOrdinal0 [0x008CFEFD+720637]\n\tOrdinal0 [0x008D0F3F+724799]\n\tGetHandleVerifier [0x00CCEED2+2769538]\n\tGetHandleVerifier [0x00CC0D95+2711877]\n\tGetHandleVerifier [0x00AAA03A+521194]\n\tGetHandleVerifier [0x00AA8DA0+516432]\n\tOrdinal0 [0x009B682C+1665068]\n\tOrdinal0 [0x009BB128+1683752]\n\tOrdinal0 [0x009BB215+1683989]\n\tOrdinal0 [0x009C6484+1729668]\n\tBaseThreadInitThunk [0x75C56739+25]\n\tRtlGetFullPathName_UEx [0x77768FD2+1218]\n\tRtlGetFullPathName_UEx [0x77768F9D+1165]\n",
     "output_type": "error",
     "traceback": [
      "\u001b[1;31m---------------------------------------------------------------------------\u001b[0m",
      "\u001b[1;31mNoSuchElementException\u001b[0m                    Traceback (most recent call last)",
      "Input \u001b[1;32mIn [94]\u001b[0m, in \u001b[0;36m<cell line: 1>\u001b[1;34m()\u001b[0m\n\u001b[1;32m----> 1\u001b[0m location\u001b[38;5;241m=\u001b[39m\u001b[43mambi\u001b[49m\u001b[38;5;241;43m.\u001b[39;49m\u001b[43mfind_element\u001b[49m\u001b[43m(\u001b[49m\u001b[43mBy\u001b[49m\u001b[38;5;241;43m.\u001b[39;49m\u001b[43mXPATH\u001b[49m\u001b[43m,\u001b[49m\u001b[38;5;124;43m'\u001b[39;49m\u001b[38;5;124;43m/html/body/div/div/div/div[2]/div[1]/div[2]/div[1]/div/div/div/div[2]/div[1]/i\u001b[39;49m\u001b[38;5;124;43m'\u001b[39;49m\u001b[43m)\u001b[49m\n\u001b[0;32m      2\u001b[0m location\u001b[38;5;241m.\u001b[39mclick()\n",
      "File \u001b[1;32m~\\anaconda3\\lib\\site-packages\\selenium\\webdriver\\remote\\webdriver.py:857\u001b[0m, in \u001b[0;36mWebDriver.find_element\u001b[1;34m(self, by, value)\u001b[0m\n\u001b[0;32m    854\u001b[0m     by \u001b[38;5;241m=\u001b[39m By\u001b[38;5;241m.\u001b[39mCSS_SELECTOR\n\u001b[0;32m    855\u001b[0m     value \u001b[38;5;241m=\u001b[39m \u001b[38;5;124m'\u001b[39m\u001b[38;5;124m[name=\u001b[39m\u001b[38;5;124m\"\u001b[39m\u001b[38;5;132;01m%s\u001b[39;00m\u001b[38;5;124m\"\u001b[39m\u001b[38;5;124m]\u001b[39m\u001b[38;5;124m'\u001b[39m \u001b[38;5;241m%\u001b[39m value\n\u001b[1;32m--> 857\u001b[0m \u001b[38;5;28;01mreturn\u001b[39;00m \u001b[38;5;28;43mself\u001b[39;49m\u001b[38;5;241;43m.\u001b[39;49m\u001b[43mexecute\u001b[49m\u001b[43m(\u001b[49m\u001b[43mCommand\u001b[49m\u001b[38;5;241;43m.\u001b[39;49m\u001b[43mFIND_ELEMENT\u001b[49m\u001b[43m,\u001b[49m\u001b[43m \u001b[49m\u001b[43m{\u001b[49m\n\u001b[0;32m    858\u001b[0m \u001b[43m    \u001b[49m\u001b[38;5;124;43m'\u001b[39;49m\u001b[38;5;124;43musing\u001b[39;49m\u001b[38;5;124;43m'\u001b[39;49m\u001b[43m:\u001b[49m\u001b[43m \u001b[49m\u001b[43mby\u001b[49m\u001b[43m,\u001b[49m\n\u001b[0;32m    859\u001b[0m \u001b[43m    \u001b[49m\u001b[38;5;124;43m'\u001b[39;49m\u001b[38;5;124;43mvalue\u001b[39;49m\u001b[38;5;124;43m'\u001b[39;49m\u001b[43m:\u001b[49m\u001b[43m \u001b[49m\u001b[43mvalue\u001b[49m\u001b[43m}\u001b[49m\u001b[43m)\u001b[49m[\u001b[38;5;124m'\u001b[39m\u001b[38;5;124mvalue\u001b[39m\u001b[38;5;124m'\u001b[39m]\n",
      "File \u001b[1;32m~\\anaconda3\\lib\\site-packages\\selenium\\webdriver\\remote\\webdriver.py:435\u001b[0m, in \u001b[0;36mWebDriver.execute\u001b[1;34m(self, driver_command, params)\u001b[0m\n\u001b[0;32m    433\u001b[0m response \u001b[38;5;241m=\u001b[39m \u001b[38;5;28mself\u001b[39m\u001b[38;5;241m.\u001b[39mcommand_executor\u001b[38;5;241m.\u001b[39mexecute(driver_command, params)\n\u001b[0;32m    434\u001b[0m \u001b[38;5;28;01mif\u001b[39;00m response:\n\u001b[1;32m--> 435\u001b[0m     \u001b[38;5;28;43mself\u001b[39;49m\u001b[38;5;241;43m.\u001b[39;49m\u001b[43merror_handler\u001b[49m\u001b[38;5;241;43m.\u001b[39;49m\u001b[43mcheck_response\u001b[49m\u001b[43m(\u001b[49m\u001b[43mresponse\u001b[49m\u001b[43m)\u001b[49m\n\u001b[0;32m    436\u001b[0m     response[\u001b[38;5;124m'\u001b[39m\u001b[38;5;124mvalue\u001b[39m\u001b[38;5;124m'\u001b[39m] \u001b[38;5;241m=\u001b[39m \u001b[38;5;28mself\u001b[39m\u001b[38;5;241m.\u001b[39m_unwrap_value(\n\u001b[0;32m    437\u001b[0m         response\u001b[38;5;241m.\u001b[39mget(\u001b[38;5;124m'\u001b[39m\u001b[38;5;124mvalue\u001b[39m\u001b[38;5;124m'\u001b[39m, \u001b[38;5;28;01mNone\u001b[39;00m))\n\u001b[0;32m    438\u001b[0m     \u001b[38;5;28;01mreturn\u001b[39;00m response\n",
      "File \u001b[1;32m~\\anaconda3\\lib\\site-packages\\selenium\\webdriver\\remote\\errorhandler.py:247\u001b[0m, in \u001b[0;36mErrorHandler.check_response\u001b[1;34m(self, response)\u001b[0m\n\u001b[0;32m    245\u001b[0m         alert_text \u001b[38;5;241m=\u001b[39m value[\u001b[38;5;124m'\u001b[39m\u001b[38;5;124malert\u001b[39m\u001b[38;5;124m'\u001b[39m]\u001b[38;5;241m.\u001b[39mget(\u001b[38;5;124m'\u001b[39m\u001b[38;5;124mtext\u001b[39m\u001b[38;5;124m'\u001b[39m)\n\u001b[0;32m    246\u001b[0m     \u001b[38;5;28;01mraise\u001b[39;00m exception_class(message, screen, stacktrace, alert_text)  \u001b[38;5;66;03m# type: ignore[call-arg]  # mypy is not smart enough here\u001b[39;00m\n\u001b[1;32m--> 247\u001b[0m \u001b[38;5;28;01mraise\u001b[39;00m exception_class(message, screen, stacktrace)\n",
      "\u001b[1;31mNoSuchElementException\u001b[0m: Message: no such element: Unable to locate element: {\"method\":\"xpath\",\"selector\":\"/html/body/div/div/div/div[2]/div[1]/div[2]/div[1]/div/div/div/div[2]/div[1]/i\"}\n  (Session info: chrome=107.0.5304.88)\nStacktrace:\nBacktrace:\n\tOrdinal0 [0x00A1ACD3+2075859]\n\tOrdinal0 [0x009AEE61+1633889]\n\tOrdinal0 [0x008AB7BD+571325]\n\tOrdinal0 [0x008DAC2F+764975]\n\tOrdinal0 [0x008DAE1B+765467]\n\tOrdinal0 [0x0090D0F2+970994]\n\tOrdinal0 [0x008F7364+881508]\n\tOrdinal0 [0x0090B56A+963946]\n\tOrdinal0 [0x008F7136+880950]\n\tOrdinal0 [0x008CFEFD+720637]\n\tOrdinal0 [0x008D0F3F+724799]\n\tGetHandleVerifier [0x00CCEED2+2769538]\n\tGetHandleVerifier [0x00CC0D95+2711877]\n\tGetHandleVerifier [0x00AAA03A+521194]\n\tGetHandleVerifier [0x00AA8DA0+516432]\n\tOrdinal0 [0x009B682C+1665068]\n\tOrdinal0 [0x009BB128+1683752]\n\tOrdinal0 [0x009BB215+1683989]\n\tOrdinal0 [0x009C6484+1729668]\n\tBaseThreadInitThunk [0x75C56739+25]\n\tRtlGetFullPathName_UEx [0x77768FD2+1218]\n\tRtlGetFullPathName_UEx [0x77768F9D+1165]\n"
     ]
    }
   ],
   "source": [
    "location=ambi.find_element(By.XPATH,'/html/body/div/div/div/div[2]/div[1]/div[2]/div[1]/div/div/div/div[2]/div[1]/i')\n",
    "location.click()"
   ]
  },
  {
   "cell_type": "code",
   "execution_count": 95,
   "id": "cbea8978",
   "metadata": {},
   "outputs": [
    {
     "ename": "NoSuchElementException",
     "evalue": "Message: no such element: Unable to locate element: {\"method\":\"xpath\",\"selector\":\"/html/body/div/div/div/div[2]/div[1]/div[2]/div[1]/div/div/div/div[2]/div[2]/div/div[2]/input\"}\n  (Session info: chrome=107.0.5304.88)\nStacktrace:\nBacktrace:\n\tOrdinal0 [0x00A1ACD3+2075859]\n\tOrdinal0 [0x009AEE61+1633889]\n\tOrdinal0 [0x008AB7BD+571325]\n\tOrdinal0 [0x008DAC2F+764975]\n\tOrdinal0 [0x008DAE1B+765467]\n\tOrdinal0 [0x0090D0F2+970994]\n\tOrdinal0 [0x008F7364+881508]\n\tOrdinal0 [0x0090B56A+963946]\n\tOrdinal0 [0x008F7136+880950]\n\tOrdinal0 [0x008CFEFD+720637]\n\tOrdinal0 [0x008D0F3F+724799]\n\tGetHandleVerifier [0x00CCEED2+2769538]\n\tGetHandleVerifier [0x00CC0D95+2711877]\n\tGetHandleVerifier [0x00AAA03A+521194]\n\tGetHandleVerifier [0x00AA8DA0+516432]\n\tOrdinal0 [0x009B682C+1665068]\n\tOrdinal0 [0x009BB128+1683752]\n\tOrdinal0 [0x009BB215+1683989]\n\tOrdinal0 [0x009C6484+1729668]\n\tBaseThreadInitThunk [0x75C56739+25]\n\tRtlGetFullPathName_UEx [0x77768FD2+1218]\n\tRtlGetFullPathName_UEx [0x77768F9D+1165]\n",
     "output_type": "error",
     "traceback": [
      "\u001b[1;31m---------------------------------------------------------------------------\u001b[0m",
      "\u001b[1;31mNoSuchElementException\u001b[0m                    Traceback (most recent call last)",
      "Input \u001b[1;32mIn [95]\u001b[0m, in \u001b[0;36m<cell line: 1>\u001b[1;34m()\u001b[0m\n\u001b[1;32m----> 1\u001b[0m search_loc\u001b[38;5;241m=\u001b[39m\u001b[43mambi\u001b[49m\u001b[38;5;241;43m.\u001b[39;49m\u001b[43mfind_element\u001b[49m\u001b[43m(\u001b[49m\u001b[43mBy\u001b[49m\u001b[38;5;241;43m.\u001b[39;49m\u001b[43mXPATH\u001b[49m\u001b[43m,\u001b[49m\u001b[38;5;124;43m\"\u001b[39;49m\u001b[38;5;124;43m/html/body/div/div/div/div[2]/div[1]/div[2]/div[1]/div/div/div/div[2]/div[2]/div/div[2]/input\u001b[39;49m\u001b[38;5;124;43m\"\u001b[39;49m\u001b[43m)\u001b[49m\n\u001b[0;32m      2\u001b[0m search_loc\u001b[38;5;241m.\u001b[39msend_keys(\u001b[38;5;124m\"\u001b[39m\u001b[38;5;124mNoida\u001b[39m\u001b[38;5;124m\"\u001b[39m)\n",
      "File \u001b[1;32m~\\anaconda3\\lib\\site-packages\\selenium\\webdriver\\remote\\webdriver.py:857\u001b[0m, in \u001b[0;36mWebDriver.find_element\u001b[1;34m(self, by, value)\u001b[0m\n\u001b[0;32m    854\u001b[0m     by \u001b[38;5;241m=\u001b[39m By\u001b[38;5;241m.\u001b[39mCSS_SELECTOR\n\u001b[0;32m    855\u001b[0m     value \u001b[38;5;241m=\u001b[39m \u001b[38;5;124m'\u001b[39m\u001b[38;5;124m[name=\u001b[39m\u001b[38;5;124m\"\u001b[39m\u001b[38;5;132;01m%s\u001b[39;00m\u001b[38;5;124m\"\u001b[39m\u001b[38;5;124m]\u001b[39m\u001b[38;5;124m'\u001b[39m \u001b[38;5;241m%\u001b[39m value\n\u001b[1;32m--> 857\u001b[0m \u001b[38;5;28;01mreturn\u001b[39;00m \u001b[38;5;28;43mself\u001b[39;49m\u001b[38;5;241;43m.\u001b[39;49m\u001b[43mexecute\u001b[49m\u001b[43m(\u001b[49m\u001b[43mCommand\u001b[49m\u001b[38;5;241;43m.\u001b[39;49m\u001b[43mFIND_ELEMENT\u001b[49m\u001b[43m,\u001b[49m\u001b[43m \u001b[49m\u001b[43m{\u001b[49m\n\u001b[0;32m    858\u001b[0m \u001b[43m    \u001b[49m\u001b[38;5;124;43m'\u001b[39;49m\u001b[38;5;124;43musing\u001b[39;49m\u001b[38;5;124;43m'\u001b[39;49m\u001b[43m:\u001b[49m\u001b[43m \u001b[49m\u001b[43mby\u001b[49m\u001b[43m,\u001b[49m\n\u001b[0;32m    859\u001b[0m \u001b[43m    \u001b[49m\u001b[38;5;124;43m'\u001b[39;49m\u001b[38;5;124;43mvalue\u001b[39;49m\u001b[38;5;124;43m'\u001b[39;49m\u001b[43m:\u001b[49m\u001b[43m \u001b[49m\u001b[43mvalue\u001b[49m\u001b[43m}\u001b[49m\u001b[43m)\u001b[49m[\u001b[38;5;124m'\u001b[39m\u001b[38;5;124mvalue\u001b[39m\u001b[38;5;124m'\u001b[39m]\n",
      "File \u001b[1;32m~\\anaconda3\\lib\\site-packages\\selenium\\webdriver\\remote\\webdriver.py:435\u001b[0m, in \u001b[0;36mWebDriver.execute\u001b[1;34m(self, driver_command, params)\u001b[0m\n\u001b[0;32m    433\u001b[0m response \u001b[38;5;241m=\u001b[39m \u001b[38;5;28mself\u001b[39m\u001b[38;5;241m.\u001b[39mcommand_executor\u001b[38;5;241m.\u001b[39mexecute(driver_command, params)\n\u001b[0;32m    434\u001b[0m \u001b[38;5;28;01mif\u001b[39;00m response:\n\u001b[1;32m--> 435\u001b[0m     \u001b[38;5;28;43mself\u001b[39;49m\u001b[38;5;241;43m.\u001b[39;49m\u001b[43merror_handler\u001b[49m\u001b[38;5;241;43m.\u001b[39;49m\u001b[43mcheck_response\u001b[49m\u001b[43m(\u001b[49m\u001b[43mresponse\u001b[49m\u001b[43m)\u001b[49m\n\u001b[0;32m    436\u001b[0m     response[\u001b[38;5;124m'\u001b[39m\u001b[38;5;124mvalue\u001b[39m\u001b[38;5;124m'\u001b[39m] \u001b[38;5;241m=\u001b[39m \u001b[38;5;28mself\u001b[39m\u001b[38;5;241m.\u001b[39m_unwrap_value(\n\u001b[0;32m    437\u001b[0m         response\u001b[38;5;241m.\u001b[39mget(\u001b[38;5;124m'\u001b[39m\u001b[38;5;124mvalue\u001b[39m\u001b[38;5;124m'\u001b[39m, \u001b[38;5;28;01mNone\u001b[39;00m))\n\u001b[0;32m    438\u001b[0m     \u001b[38;5;28;01mreturn\u001b[39;00m response\n",
      "File \u001b[1;32m~\\anaconda3\\lib\\site-packages\\selenium\\webdriver\\remote\\errorhandler.py:247\u001b[0m, in \u001b[0;36mErrorHandler.check_response\u001b[1;34m(self, response)\u001b[0m\n\u001b[0;32m    245\u001b[0m         alert_text \u001b[38;5;241m=\u001b[39m value[\u001b[38;5;124m'\u001b[39m\u001b[38;5;124malert\u001b[39m\u001b[38;5;124m'\u001b[39m]\u001b[38;5;241m.\u001b[39mget(\u001b[38;5;124m'\u001b[39m\u001b[38;5;124mtext\u001b[39m\u001b[38;5;124m'\u001b[39m)\n\u001b[0;32m    246\u001b[0m     \u001b[38;5;28;01mraise\u001b[39;00m exception_class(message, screen, stacktrace, alert_text)  \u001b[38;5;66;03m# type: ignore[call-arg]  # mypy is not smart enough here\u001b[39;00m\n\u001b[1;32m--> 247\u001b[0m \u001b[38;5;28;01mraise\u001b[39;00m exception_class(message, screen, stacktrace)\n",
      "\u001b[1;31mNoSuchElementException\u001b[0m: Message: no such element: Unable to locate element: {\"method\":\"xpath\",\"selector\":\"/html/body/div/div/div/div[2]/div[1]/div[2]/div[1]/div/div/div/div[2]/div[2]/div/div[2]/input\"}\n  (Session info: chrome=107.0.5304.88)\nStacktrace:\nBacktrace:\n\tOrdinal0 [0x00A1ACD3+2075859]\n\tOrdinal0 [0x009AEE61+1633889]\n\tOrdinal0 [0x008AB7BD+571325]\n\tOrdinal0 [0x008DAC2F+764975]\n\tOrdinal0 [0x008DAE1B+765467]\n\tOrdinal0 [0x0090D0F2+970994]\n\tOrdinal0 [0x008F7364+881508]\n\tOrdinal0 [0x0090B56A+963946]\n\tOrdinal0 [0x008F7136+880950]\n\tOrdinal0 [0x008CFEFD+720637]\n\tOrdinal0 [0x008D0F3F+724799]\n\tGetHandleVerifier [0x00CCEED2+2769538]\n\tGetHandleVerifier [0x00CC0D95+2711877]\n\tGetHandleVerifier [0x00AAA03A+521194]\n\tGetHandleVerifier [0x00AA8DA0+516432]\n\tOrdinal0 [0x009B682C+1665068]\n\tOrdinal0 [0x009BB128+1683752]\n\tOrdinal0 [0x009BB215+1683989]\n\tOrdinal0 [0x009C6484+1729668]\n\tBaseThreadInitThunk [0x75C56739+25]\n\tRtlGetFullPathName_UEx [0x77768FD2+1218]\n\tRtlGetFullPathName_UEx [0x77768F9D+1165]\n"
     ]
    }
   ],
   "source": [
    "search_loc=ambi.find_element(By.XPATH,\"/html/body/div/div/div/div[2]/div[1]/div[2]/div[1]/div/div/div/div[2]/div[2]/div/div[2]/input\")\n",
    "search_loc.send_keys(\"Noida\")"
   ]
  },
  {
   "cell_type": "code",
   "execution_count": 96,
   "id": "066904fa",
   "metadata": {},
   "outputs": [
    {
     "ename": "NoSuchElementException",
     "evalue": "Message: no such element: Unable to locate element: {\"method\":\"xpath\",\"selector\":\"/html/body/div/div/div/div[2]/div[1]/div[2]/div[1]/div/div/div/div[2]/div[2]/div/div[3]/div[1]/div[1]/div/label\"}\n  (Session info: chrome=107.0.5304.88)\nStacktrace:\nBacktrace:\n\tOrdinal0 [0x00A1ACD3+2075859]\n\tOrdinal0 [0x009AEE61+1633889]\n\tOrdinal0 [0x008AB7BD+571325]\n\tOrdinal0 [0x008DAC2F+764975]\n\tOrdinal0 [0x008DAE1B+765467]\n\tOrdinal0 [0x0090D0F2+970994]\n\tOrdinal0 [0x008F7364+881508]\n\tOrdinal0 [0x0090B56A+963946]\n\tOrdinal0 [0x008F7136+880950]\n\tOrdinal0 [0x008CFEFD+720637]\n\tOrdinal0 [0x008D0F3F+724799]\n\tGetHandleVerifier [0x00CCEED2+2769538]\n\tGetHandleVerifier [0x00CC0D95+2711877]\n\tGetHandleVerifier [0x00AAA03A+521194]\n\tGetHandleVerifier [0x00AA8DA0+516432]\n\tOrdinal0 [0x009B682C+1665068]\n\tOrdinal0 [0x009BB128+1683752]\n\tOrdinal0 [0x009BB215+1683989]\n\tOrdinal0 [0x009C6484+1729668]\n\tBaseThreadInitThunk [0x75C56739+25]\n\tRtlGetFullPathName_UEx [0x77768FD2+1218]\n\tRtlGetFullPathName_UEx [0x77768F9D+1165]\n",
     "output_type": "error",
     "traceback": [
      "\u001b[1;31m---------------------------------------------------------------------------\u001b[0m",
      "\u001b[1;31mNoSuchElementException\u001b[0m                    Traceback (most recent call last)",
      "Input \u001b[1;32mIn [96]\u001b[0m, in \u001b[0;36m<cell line: 1>\u001b[1;34m()\u001b[0m\n\u001b[1;32m----> 1\u001b[0m location_click\u001b[38;5;241m=\u001b[39m\u001b[43mambi\u001b[49m\u001b[38;5;241;43m.\u001b[39;49m\u001b[43mfind_element\u001b[49m\u001b[43m(\u001b[49m\u001b[43mBy\u001b[49m\u001b[38;5;241;43m.\u001b[39;49m\u001b[43mXPATH\u001b[49m\u001b[43m,\u001b[49m\u001b[38;5;124;43m'\u001b[39;49m\u001b[38;5;124;43m/html/body/div/div/div/div[2]/div[1]/div[2]/div[1]/div/div/div/div[2]/div[2]/div/div[3]/div[1]/div[1]/div/label\u001b[39;49m\u001b[38;5;124;43m'\u001b[39;49m\u001b[43m)\u001b[49m\n\u001b[0;32m      2\u001b[0m location_click\u001b[38;5;241m.\u001b[39mclick()\n",
      "File \u001b[1;32m~\\anaconda3\\lib\\site-packages\\selenium\\webdriver\\remote\\webdriver.py:857\u001b[0m, in \u001b[0;36mWebDriver.find_element\u001b[1;34m(self, by, value)\u001b[0m\n\u001b[0;32m    854\u001b[0m     by \u001b[38;5;241m=\u001b[39m By\u001b[38;5;241m.\u001b[39mCSS_SELECTOR\n\u001b[0;32m    855\u001b[0m     value \u001b[38;5;241m=\u001b[39m \u001b[38;5;124m'\u001b[39m\u001b[38;5;124m[name=\u001b[39m\u001b[38;5;124m\"\u001b[39m\u001b[38;5;132;01m%s\u001b[39;00m\u001b[38;5;124m\"\u001b[39m\u001b[38;5;124m]\u001b[39m\u001b[38;5;124m'\u001b[39m \u001b[38;5;241m%\u001b[39m value\n\u001b[1;32m--> 857\u001b[0m \u001b[38;5;28;01mreturn\u001b[39;00m \u001b[38;5;28;43mself\u001b[39;49m\u001b[38;5;241;43m.\u001b[39;49m\u001b[43mexecute\u001b[49m\u001b[43m(\u001b[49m\u001b[43mCommand\u001b[49m\u001b[38;5;241;43m.\u001b[39;49m\u001b[43mFIND_ELEMENT\u001b[49m\u001b[43m,\u001b[49m\u001b[43m \u001b[49m\u001b[43m{\u001b[49m\n\u001b[0;32m    858\u001b[0m \u001b[43m    \u001b[49m\u001b[38;5;124;43m'\u001b[39;49m\u001b[38;5;124;43musing\u001b[39;49m\u001b[38;5;124;43m'\u001b[39;49m\u001b[43m:\u001b[49m\u001b[43m \u001b[49m\u001b[43mby\u001b[49m\u001b[43m,\u001b[49m\n\u001b[0;32m    859\u001b[0m \u001b[43m    \u001b[49m\u001b[38;5;124;43m'\u001b[39;49m\u001b[38;5;124;43mvalue\u001b[39;49m\u001b[38;5;124;43m'\u001b[39;49m\u001b[43m:\u001b[49m\u001b[43m \u001b[49m\u001b[43mvalue\u001b[49m\u001b[43m}\u001b[49m\u001b[43m)\u001b[49m[\u001b[38;5;124m'\u001b[39m\u001b[38;5;124mvalue\u001b[39m\u001b[38;5;124m'\u001b[39m]\n",
      "File \u001b[1;32m~\\anaconda3\\lib\\site-packages\\selenium\\webdriver\\remote\\webdriver.py:435\u001b[0m, in \u001b[0;36mWebDriver.execute\u001b[1;34m(self, driver_command, params)\u001b[0m\n\u001b[0;32m    433\u001b[0m response \u001b[38;5;241m=\u001b[39m \u001b[38;5;28mself\u001b[39m\u001b[38;5;241m.\u001b[39mcommand_executor\u001b[38;5;241m.\u001b[39mexecute(driver_command, params)\n\u001b[0;32m    434\u001b[0m \u001b[38;5;28;01mif\u001b[39;00m response:\n\u001b[1;32m--> 435\u001b[0m     \u001b[38;5;28;43mself\u001b[39;49m\u001b[38;5;241;43m.\u001b[39;49m\u001b[43merror_handler\u001b[49m\u001b[38;5;241;43m.\u001b[39;49m\u001b[43mcheck_response\u001b[49m\u001b[43m(\u001b[49m\u001b[43mresponse\u001b[49m\u001b[43m)\u001b[49m\n\u001b[0;32m    436\u001b[0m     response[\u001b[38;5;124m'\u001b[39m\u001b[38;5;124mvalue\u001b[39m\u001b[38;5;124m'\u001b[39m] \u001b[38;5;241m=\u001b[39m \u001b[38;5;28mself\u001b[39m\u001b[38;5;241m.\u001b[39m_unwrap_value(\n\u001b[0;32m    437\u001b[0m         response\u001b[38;5;241m.\u001b[39mget(\u001b[38;5;124m'\u001b[39m\u001b[38;5;124mvalue\u001b[39m\u001b[38;5;124m'\u001b[39m, \u001b[38;5;28;01mNone\u001b[39;00m))\n\u001b[0;32m    438\u001b[0m     \u001b[38;5;28;01mreturn\u001b[39;00m response\n",
      "File \u001b[1;32m~\\anaconda3\\lib\\site-packages\\selenium\\webdriver\\remote\\errorhandler.py:247\u001b[0m, in \u001b[0;36mErrorHandler.check_response\u001b[1;34m(self, response)\u001b[0m\n\u001b[0;32m    245\u001b[0m         alert_text \u001b[38;5;241m=\u001b[39m value[\u001b[38;5;124m'\u001b[39m\u001b[38;5;124malert\u001b[39m\u001b[38;5;124m'\u001b[39m]\u001b[38;5;241m.\u001b[39mget(\u001b[38;5;124m'\u001b[39m\u001b[38;5;124mtext\u001b[39m\u001b[38;5;124m'\u001b[39m)\n\u001b[0;32m    246\u001b[0m     \u001b[38;5;28;01mraise\u001b[39;00m exception_class(message, screen, stacktrace, alert_text)  \u001b[38;5;66;03m# type: ignore[call-arg]  # mypy is not smart enough here\u001b[39;00m\n\u001b[1;32m--> 247\u001b[0m \u001b[38;5;28;01mraise\u001b[39;00m exception_class(message, screen, stacktrace)\n",
      "\u001b[1;31mNoSuchElementException\u001b[0m: Message: no such element: Unable to locate element: {\"method\":\"xpath\",\"selector\":\"/html/body/div/div/div/div[2]/div[1]/div[2]/div[1]/div/div/div/div[2]/div[2]/div/div[3]/div[1]/div[1]/div/label\"}\n  (Session info: chrome=107.0.5304.88)\nStacktrace:\nBacktrace:\n\tOrdinal0 [0x00A1ACD3+2075859]\n\tOrdinal0 [0x009AEE61+1633889]\n\tOrdinal0 [0x008AB7BD+571325]\n\tOrdinal0 [0x008DAC2F+764975]\n\tOrdinal0 [0x008DAE1B+765467]\n\tOrdinal0 [0x0090D0F2+970994]\n\tOrdinal0 [0x008F7364+881508]\n\tOrdinal0 [0x0090B56A+963946]\n\tOrdinal0 [0x008F7136+880950]\n\tOrdinal0 [0x008CFEFD+720637]\n\tOrdinal0 [0x008D0F3F+724799]\n\tGetHandleVerifier [0x00CCEED2+2769538]\n\tGetHandleVerifier [0x00CC0D95+2711877]\n\tGetHandleVerifier [0x00AAA03A+521194]\n\tGetHandleVerifier [0x00AA8DA0+516432]\n\tOrdinal0 [0x009B682C+1665068]\n\tOrdinal0 [0x009BB128+1683752]\n\tOrdinal0 [0x009BB215+1683989]\n\tOrdinal0 [0x009C6484+1729668]\n\tBaseThreadInitThunk [0x75C56739+25]\n\tRtlGetFullPathName_UEx [0x77768FD2+1218]\n\tRtlGetFullPathName_UEx [0x77768F9D+1165]\n"
     ]
    }
   ],
   "source": [
    "location_click=ambi.find_element(By.XPATH,'/html/body/div/div/div/div[2]/div[1]/div[2]/div[1]/div/div/div/div[2]/div[2]/div/div[3]/div[1]/div[1]/div/label')\n",
    "location_click.click()"
   ]
  },
  {
   "cell_type": "code",
   "execution_count": 97,
   "id": "351a51b0",
   "metadata": {},
   "outputs": [],
   "source": [
    "firm_name = []\n",
    "rating = []\n",
    "No_days_job_posted = []"
   ]
  },
  {
   "cell_type": "code",
   "execution_count": 98,
   "id": "599b7d5e",
   "metadata": {},
   "outputs": [],
   "source": [
    "firm = ambi.find_elements(By.XPATH,'//p[@class=\"company body-medium\"]')\n",
    "for i in firm[0:10] : \n",
    "        firm_name.append(i.text)\n",
    "    \n",
    "ratings = ambi.find_elements(By.XPATH,\"//span[@class='body-small']\")\n",
    "for i in ratings [0:10]:\n",
    "        rating.append(i.text)\n",
    "\n",
    "posted = ambi.find_elements(By.XPATH,\"//span[@class='body-small-l']\")\n",
    "for i in posted[0:10] :\n",
    "        No_days_job_posted.append(i.text)  \n",
    "    "
   ]
  },
  {
   "cell_type": "code",
   "execution_count": 99,
   "id": "be1cf161",
   "metadata": {},
   "outputs": [
    {
     "name": "stdout",
     "output_type": "stream",
     "text": [
      "0 0 0\n"
     ]
    }
   ],
   "source": [
    "print(len(firm_name),len(rating),len(No_days_job_posted))"
   ]
  },
  {
   "cell_type": "code",
   "execution_count": 100,
   "id": "62de347f",
   "metadata": {},
   "outputs": [
    {
     "data": {
      "text/html": [
       "<div>\n",
       "<style scoped>\n",
       "    .dataframe tbody tr th:only-of-type {\n",
       "        vertical-align: middle;\n",
       "    }\n",
       "\n",
       "    .dataframe tbody tr th {\n",
       "        vertical-align: top;\n",
       "    }\n",
       "\n",
       "    .dataframe thead th {\n",
       "        text-align: right;\n",
       "    }\n",
       "</style>\n",
       "<table border=\"1\" class=\"dataframe\">\n",
       "  <thead>\n",
       "    <tr style=\"text-align: right;\">\n",
       "      <th></th>\n",
       "      <th>Company_name</th>\n",
       "      <th>Company_rating</th>\n",
       "      <th>Days_of_job_posted</th>\n",
       "    </tr>\n",
       "  </thead>\n",
       "  <tbody>\n",
       "  </tbody>\n",
       "</table>\n",
       "</div>"
      ],
      "text/plain": [
       "Empty DataFrame\n",
       "Columns: [Company_name, Company_rating, Days_of_job_posted]\n",
       "Index: []"
      ]
     },
     "execution_count": 100,
     "metadata": {},
     "output_type": "execute_result"
    }
   ],
   "source": [
    "data_ambi = pd.DataFrame({'Company_name':firm_name,'Company_rating':rating,'Days_of_job_posted':No_days_job_posted})\n",
    "\n",
    "data_ambi"
   ]
  },
  {
   "cell_type": "markdown",
   "id": "9ae3ea34",
   "metadata": {},
   "source": [
    "# Write a python program to scrape the salary data for Data Scientist designation.\n",
    "You have to scrape Company name, Number of salaries, Average salary, Minsalary, Max Salary. "
   ]
  },
  {
   "cell_type": "code",
   "execution_count": 101,
   "id": "555a93d3",
   "metadata": {},
   "outputs": [
    {
     "ename": "SessionNotCreatedException",
     "evalue": "Message: session not created: This version of ChromeDriver only supports Chrome version 104\nCurrent browser version is 107.0.5304.88 with binary path C:\\Program Files\\Google\\Chrome\\Application\\chrome.exe\nStacktrace:\nBacktrace:\n\tOrdinal0 [0x00E078B3+2193587]\n\tOrdinal0 [0x00DA0681+1771137]\n\tOrdinal0 [0x00CB41A8+803240]\n\tOrdinal0 [0x00CD5CC3+941251]\n\tOrdinal0 [0x00CD13EF+922607]\n\tOrdinal0 [0x00CCEBC1+912321]\n\tOrdinal0 [0x00D023B0+1123248]\n\tOrdinal0 [0x00D0200A+1122314]\n\tOrdinal0 [0x00CFD5C6+1103302]\n\tOrdinal0 [0x00CD77E0+948192]\n\tOrdinal0 [0x00CD86E6+952038]\n\tGetHandleVerifier [0x010B0CB2+2738370]\n\tGetHandleVerifier [0x010A21B8+2678216]\n\tGetHandleVerifier [0x00E917AA+512954]\n\tGetHandleVerifier [0x00E90856+509030]\n\tOrdinal0 [0x00DA743B+1799227]\n\tOrdinal0 [0x00DABB68+1817448]\n\tOrdinal0 [0x00DABC55+1817685]\n\tOrdinal0 [0x00DB5230+1856048]\n\tBaseThreadInitThunk [0x75C56739+25]\n\tRtlGetFullPathName_UEx [0x77768FD2+1218]\n\tRtlGetFullPathName_UEx [0x77768F9D+1165]\n",
     "output_type": "error",
     "traceback": [
      "\u001b[1;31m---------------------------------------------------------------------------\u001b[0m",
      "\u001b[1;31mSessionNotCreatedException\u001b[0m                Traceback (most recent call last)",
      "Input \u001b[1;32mIn [101]\u001b[0m, in \u001b[0;36m<cell line: 1>\u001b[1;34m()\u001b[0m\n\u001b[1;32m----> 1\u001b[0m ambi_sal\u001b[38;5;241m=\u001b[39m\u001b[43mwebdriver\u001b[49m\u001b[38;5;241;43m.\u001b[39;49m\u001b[43mChrome\u001b[49m\u001b[43m(\u001b[49m\u001b[38;5;124;43mr\u001b[39;49m\u001b[38;5;124;43m\"\u001b[39;49m\u001b[38;5;124;43mC:\u001b[39;49m\u001b[38;5;124;43m\\\u001b[39;49m\u001b[38;5;124;43mUsers\u001b[39;49m\u001b[38;5;124;43m\\\u001b[39;49m\u001b[38;5;124;43mAshu\u001b[39;49m\u001b[38;5;124;43m\\\u001b[39;49m\u001b[38;5;124;43mDownloads\u001b[39;49m\u001b[38;5;124;43m\\\u001b[39;49m\u001b[38;5;124;43mchromedriver_win32\u001b[39;49m\u001b[38;5;124;43m\\\u001b[39;49m\u001b[38;5;124;43mChromedriver.exe\u001b[39;49m\u001b[38;5;124;43m\"\u001b[39;49m\u001b[43m)\u001b[49m\n",
      "File \u001b[1;32m~\\anaconda3\\lib\\site-packages\\selenium\\webdriver\\chrome\\webdriver.py:69\u001b[0m, in \u001b[0;36mWebDriver.__init__\u001b[1;34m(self, executable_path, port, options, service_args, desired_capabilities, service_log_path, chrome_options, service, keep_alive)\u001b[0m\n\u001b[0;32m     66\u001b[0m \u001b[38;5;28;01mif\u001b[39;00m \u001b[38;5;129;01mnot\u001b[39;00m service:\n\u001b[0;32m     67\u001b[0m     service \u001b[38;5;241m=\u001b[39m Service(executable_path, port, service_args, service_log_path)\n\u001b[1;32m---> 69\u001b[0m \u001b[38;5;28;43msuper\u001b[39;49m\u001b[43m(\u001b[49m\u001b[43m)\u001b[49m\u001b[38;5;241;43m.\u001b[39;49m\u001b[38;5;21;43m__init__\u001b[39;49m\u001b[43m(\u001b[49m\u001b[43mDesiredCapabilities\u001b[49m\u001b[38;5;241;43m.\u001b[39;49m\u001b[43mCHROME\u001b[49m\u001b[43m[\u001b[49m\u001b[38;5;124;43m'\u001b[39;49m\u001b[38;5;124;43mbrowserName\u001b[39;49m\u001b[38;5;124;43m'\u001b[39;49m\u001b[43m]\u001b[49m\u001b[43m,\u001b[49m\u001b[43m \u001b[49m\u001b[38;5;124;43m\"\u001b[39;49m\u001b[38;5;124;43mgoog\u001b[39;49m\u001b[38;5;124;43m\"\u001b[39;49m\u001b[43m,\u001b[49m\n\u001b[0;32m     70\u001b[0m \u001b[43m                 \u001b[49m\u001b[43mport\u001b[49m\u001b[43m,\u001b[49m\u001b[43m \u001b[49m\u001b[43moptions\u001b[49m\u001b[43m,\u001b[49m\n\u001b[0;32m     71\u001b[0m \u001b[43m                 \u001b[49m\u001b[43mservice_args\u001b[49m\u001b[43m,\u001b[49m\u001b[43m \u001b[49m\u001b[43mdesired_capabilities\u001b[49m\u001b[43m,\u001b[49m\n\u001b[0;32m     72\u001b[0m \u001b[43m                 \u001b[49m\u001b[43mservice_log_path\u001b[49m\u001b[43m,\u001b[49m\u001b[43m \u001b[49m\u001b[43mservice\u001b[49m\u001b[43m,\u001b[49m\u001b[43m \u001b[49m\u001b[43mkeep_alive\u001b[49m\u001b[43m)\u001b[49m\n",
      "File \u001b[1;32m~\\anaconda3\\lib\\site-packages\\selenium\\webdriver\\chromium\\webdriver.py:92\u001b[0m, in \u001b[0;36mChromiumDriver.__init__\u001b[1;34m(self, browser_name, vendor_prefix, port, options, service_args, desired_capabilities, service_log_path, service, keep_alive)\u001b[0m\n\u001b[0;32m     89\u001b[0m \u001b[38;5;28mself\u001b[39m\u001b[38;5;241m.\u001b[39mservice\u001b[38;5;241m.\u001b[39mstart()\n\u001b[0;32m     91\u001b[0m \u001b[38;5;28;01mtry\u001b[39;00m:\n\u001b[1;32m---> 92\u001b[0m     \u001b[38;5;28;43msuper\u001b[39;49m\u001b[43m(\u001b[49m\u001b[43m)\u001b[49m\u001b[38;5;241;43m.\u001b[39;49m\u001b[38;5;21;43m__init__\u001b[39;49m\u001b[43m(\u001b[49m\n\u001b[0;32m     93\u001b[0m \u001b[43m        \u001b[49m\u001b[43mcommand_executor\u001b[49m\u001b[38;5;241;43m=\u001b[39;49m\u001b[43mChromiumRemoteConnection\u001b[49m\u001b[43m(\u001b[49m\n\u001b[0;32m     94\u001b[0m \u001b[43m            \u001b[49m\u001b[43mremote_server_addr\u001b[49m\u001b[38;5;241;43m=\u001b[39;49m\u001b[38;5;28;43mself\u001b[39;49m\u001b[38;5;241;43m.\u001b[39;49m\u001b[43mservice\u001b[49m\u001b[38;5;241;43m.\u001b[39;49m\u001b[43mservice_url\u001b[49m\u001b[43m,\u001b[49m\n\u001b[0;32m     95\u001b[0m \u001b[43m            \u001b[49m\u001b[43mbrowser_name\u001b[49m\u001b[38;5;241;43m=\u001b[39;49m\u001b[43mbrowser_name\u001b[49m\u001b[43m,\u001b[49m\u001b[43m \u001b[49m\u001b[43mvendor_prefix\u001b[49m\u001b[38;5;241;43m=\u001b[39;49m\u001b[43mvendor_prefix\u001b[49m\u001b[43m,\u001b[49m\n\u001b[0;32m     96\u001b[0m \u001b[43m            \u001b[49m\u001b[43mkeep_alive\u001b[49m\u001b[38;5;241;43m=\u001b[39;49m\u001b[43mkeep_alive\u001b[49m\u001b[43m,\u001b[49m\u001b[43m \u001b[49m\u001b[43mignore_proxy\u001b[49m\u001b[38;5;241;43m=\u001b[39;49m\u001b[43m_ignore_proxy\u001b[49m\u001b[43m)\u001b[49m\u001b[43m,\u001b[49m\n\u001b[0;32m     97\u001b[0m \u001b[43m        \u001b[49m\u001b[43moptions\u001b[49m\u001b[38;5;241;43m=\u001b[39;49m\u001b[43moptions\u001b[49m\u001b[43m)\u001b[49m\n\u001b[0;32m     98\u001b[0m \u001b[38;5;28;01mexcept\u001b[39;00m \u001b[38;5;167;01mException\u001b[39;00m:\n\u001b[0;32m     99\u001b[0m     \u001b[38;5;28mself\u001b[39m\u001b[38;5;241m.\u001b[39mquit()\n",
      "File \u001b[1;32m~\\anaconda3\\lib\\site-packages\\selenium\\webdriver\\remote\\webdriver.py:277\u001b[0m, in \u001b[0;36mWebDriver.__init__\u001b[1;34m(self, command_executor, desired_capabilities, browser_profile, proxy, keep_alive, file_detector, options)\u001b[0m\n\u001b[0;32m    275\u001b[0m \u001b[38;5;28mself\u001b[39m\u001b[38;5;241m.\u001b[39m_authenticator_id \u001b[38;5;241m=\u001b[39m \u001b[38;5;28;01mNone\u001b[39;00m\n\u001b[0;32m    276\u001b[0m \u001b[38;5;28mself\u001b[39m\u001b[38;5;241m.\u001b[39mstart_client()\n\u001b[1;32m--> 277\u001b[0m \u001b[38;5;28;43mself\u001b[39;49m\u001b[38;5;241;43m.\u001b[39;49m\u001b[43mstart_session\u001b[49m\u001b[43m(\u001b[49m\u001b[43mcapabilities\u001b[49m\u001b[43m,\u001b[49m\u001b[43m \u001b[49m\u001b[43mbrowser_profile\u001b[49m\u001b[43m)\u001b[49m\n",
      "File \u001b[1;32m~\\anaconda3\\lib\\site-packages\\selenium\\webdriver\\remote\\webdriver.py:370\u001b[0m, in \u001b[0;36mWebDriver.start_session\u001b[1;34m(self, capabilities, browser_profile)\u001b[0m\n\u001b[0;32m    368\u001b[0m w3c_caps \u001b[38;5;241m=\u001b[39m _make_w3c_caps(capabilities)\n\u001b[0;32m    369\u001b[0m parameters \u001b[38;5;241m=\u001b[39m {\u001b[38;5;124m\"\u001b[39m\u001b[38;5;124mcapabilities\u001b[39m\u001b[38;5;124m\"\u001b[39m: w3c_caps}\n\u001b[1;32m--> 370\u001b[0m response \u001b[38;5;241m=\u001b[39m \u001b[38;5;28;43mself\u001b[39;49m\u001b[38;5;241;43m.\u001b[39;49m\u001b[43mexecute\u001b[49m\u001b[43m(\u001b[49m\u001b[43mCommand\u001b[49m\u001b[38;5;241;43m.\u001b[39;49m\u001b[43mNEW_SESSION\u001b[49m\u001b[43m,\u001b[49m\u001b[43m \u001b[49m\u001b[43mparameters\u001b[49m\u001b[43m)\u001b[49m\n\u001b[0;32m    371\u001b[0m \u001b[38;5;28;01mif\u001b[39;00m \u001b[38;5;124m'\u001b[39m\u001b[38;5;124msessionId\u001b[39m\u001b[38;5;124m'\u001b[39m \u001b[38;5;129;01mnot\u001b[39;00m \u001b[38;5;129;01min\u001b[39;00m response:\n\u001b[0;32m    372\u001b[0m     response \u001b[38;5;241m=\u001b[39m response[\u001b[38;5;124m'\u001b[39m\u001b[38;5;124mvalue\u001b[39m\u001b[38;5;124m'\u001b[39m]\n",
      "File \u001b[1;32m~\\anaconda3\\lib\\site-packages\\selenium\\webdriver\\remote\\webdriver.py:435\u001b[0m, in \u001b[0;36mWebDriver.execute\u001b[1;34m(self, driver_command, params)\u001b[0m\n\u001b[0;32m    433\u001b[0m response \u001b[38;5;241m=\u001b[39m \u001b[38;5;28mself\u001b[39m\u001b[38;5;241m.\u001b[39mcommand_executor\u001b[38;5;241m.\u001b[39mexecute(driver_command, params)\n\u001b[0;32m    434\u001b[0m \u001b[38;5;28;01mif\u001b[39;00m response:\n\u001b[1;32m--> 435\u001b[0m     \u001b[38;5;28;43mself\u001b[39;49m\u001b[38;5;241;43m.\u001b[39;49m\u001b[43merror_handler\u001b[49m\u001b[38;5;241;43m.\u001b[39;49m\u001b[43mcheck_response\u001b[49m\u001b[43m(\u001b[49m\u001b[43mresponse\u001b[49m\u001b[43m)\u001b[49m\n\u001b[0;32m    436\u001b[0m     response[\u001b[38;5;124m'\u001b[39m\u001b[38;5;124mvalue\u001b[39m\u001b[38;5;124m'\u001b[39m] \u001b[38;5;241m=\u001b[39m \u001b[38;5;28mself\u001b[39m\u001b[38;5;241m.\u001b[39m_unwrap_value(\n\u001b[0;32m    437\u001b[0m         response\u001b[38;5;241m.\u001b[39mget(\u001b[38;5;124m'\u001b[39m\u001b[38;5;124mvalue\u001b[39m\u001b[38;5;124m'\u001b[39m, \u001b[38;5;28;01mNone\u001b[39;00m))\n\u001b[0;32m    438\u001b[0m     \u001b[38;5;28;01mreturn\u001b[39;00m response\n",
      "File \u001b[1;32m~\\anaconda3\\lib\\site-packages\\selenium\\webdriver\\remote\\errorhandler.py:247\u001b[0m, in \u001b[0;36mErrorHandler.check_response\u001b[1;34m(self, response)\u001b[0m\n\u001b[0;32m    245\u001b[0m         alert_text \u001b[38;5;241m=\u001b[39m value[\u001b[38;5;124m'\u001b[39m\u001b[38;5;124malert\u001b[39m\u001b[38;5;124m'\u001b[39m]\u001b[38;5;241m.\u001b[39mget(\u001b[38;5;124m'\u001b[39m\u001b[38;5;124mtext\u001b[39m\u001b[38;5;124m'\u001b[39m)\n\u001b[0;32m    246\u001b[0m     \u001b[38;5;28;01mraise\u001b[39;00m exception_class(message, screen, stacktrace, alert_text)  \u001b[38;5;66;03m# type: ignore[call-arg]  # mypy is not smart enough here\u001b[39;00m\n\u001b[1;32m--> 247\u001b[0m \u001b[38;5;28;01mraise\u001b[39;00m exception_class(message, screen, stacktrace)\n",
      "\u001b[1;31mSessionNotCreatedException\u001b[0m: Message: session not created: This version of ChromeDriver only supports Chrome version 104\nCurrent browser version is 107.0.5304.88 with binary path C:\\Program Files\\Google\\Chrome\\Application\\chrome.exe\nStacktrace:\nBacktrace:\n\tOrdinal0 [0x00E078B3+2193587]\n\tOrdinal0 [0x00DA0681+1771137]\n\tOrdinal0 [0x00CB41A8+803240]\n\tOrdinal0 [0x00CD5CC3+941251]\n\tOrdinal0 [0x00CD13EF+922607]\n\tOrdinal0 [0x00CCEBC1+912321]\n\tOrdinal0 [0x00D023B0+1123248]\n\tOrdinal0 [0x00D0200A+1122314]\n\tOrdinal0 [0x00CFD5C6+1103302]\n\tOrdinal0 [0x00CD77E0+948192]\n\tOrdinal0 [0x00CD86E6+952038]\n\tGetHandleVerifier [0x010B0CB2+2738370]\n\tGetHandleVerifier [0x010A21B8+2678216]\n\tGetHandleVerifier [0x00E917AA+512954]\n\tGetHandleVerifier [0x00E90856+509030]\n\tOrdinal0 [0x00DA743B+1799227]\n\tOrdinal0 [0x00DABB68+1817448]\n\tOrdinal0 [0x00DABC55+1817685]\n\tOrdinal0 [0x00DB5230+1856048]\n\tBaseThreadInitThunk [0x75C56739+25]\n\tRtlGetFullPathName_UEx [0x77768FD2+1218]\n\tRtlGetFullPathName_UEx [0x77768F9D+1165]\n"
     ]
    }
   ],
   "source": [
    "ambi_sal=webdriver.Chrome(r\"C:\\Users\\Ashu\\Downloads\\chromedriver_win32\\Chromedriver.exe\")"
   ]
  },
  {
   "cell_type": "code",
   "execution_count": null,
   "id": "12c63eaf",
   "metadata": {},
   "outputs": [],
   "source": [
    "ambi_sal.get(\"https://www.ambitionbox.com/\")\n"
   ]
  },
  {
   "cell_type": "code",
   "execution_count": null,
   "id": "42a5fa3d",
   "metadata": {},
   "outputs": [],
   "source": [
    "click_salary = ambi_sal.find_element(By.XPATH,\"/html/body/div[1]/nav[2]/div/ul/li[3]/i\")\n",
    "click_salary.click()\n",
    "time.sleep(2)"
   ]
  },
  {
   "cell_type": "code",
   "execution_count": null,
   "id": "581d6ce9",
   "metadata": {},
   "outputs": [],
   "source": [
    "browse_sal=ambi_sal.find_element(By.XPATH,'/html/body/div[1]/nav[2]/div/ul/li[3]/div/ul/li[1]/div/div[2]/a')\n",
    "browse_sal.click()"
   ]
  },
  {
   "cell_type": "code",
   "execution_count": null,
   "id": "fdbaa3a8",
   "metadata": {},
   "outputs": [],
   "source": [
    "search_sal = ambi_sal.find_element(By.XPATH,\"//input[@class='tt-input']\")\n",
    "search_sal.send_keys(\"Data Scientist\")\n"
   ]
  },
  {
   "cell_type": "code",
   "execution_count": null,
   "id": "0bacc31a",
   "metadata": {},
   "outputs": [],
   "source": [
    "click_search = ambi_sal.find_element(By.XPATH,\"/html/body/div/div/div/div[2]/div/div/div/button/span\")\n",
    "click_search.click()\n",
    "time.sleep(2)"
   ]
  },
  {
   "cell_type": "code",
   "execution_count": null,
   "id": "4b8b8d00",
   "metadata": {},
   "outputs": [],
   "source": [
    "C_name = []\n",
    "No_Salaries = []\n",
    "Average_Salary = []\n",
    "Minimum_Salary = []\n",
    "Maximum_Salary = []"
   ]
  },
  {
   "cell_type": "code",
   "execution_count": 102,
   "id": "b1fb88e9",
   "metadata": {},
   "outputs": [
    {
     "ename": "NameError",
     "evalue": "name 'ambi_sal' is not defined",
     "output_type": "error",
     "traceback": [
      "\u001b[1;31m---------------------------------------------------------------------------\u001b[0m",
      "\u001b[1;31mNameError\u001b[0m                                 Traceback (most recent call last)",
      "Input \u001b[1;32mIn [102]\u001b[0m, in \u001b[0;36m<cell line: 1>\u001b[1;34m()\u001b[0m\n\u001b[1;32m----> 1\u001b[0m C_names \u001b[38;5;241m=\u001b[39m \u001b[43mambi_sal\u001b[49m\u001b[38;5;241m.\u001b[39mfind_elements(By\u001b[38;5;241m.\u001b[39mXPATH,\u001b[38;5;124m'\u001b[39m\u001b[38;5;124m//div[@class=\u001b[39m\u001b[38;5;124m\"\u001b[39m\u001b[38;5;124mcompany-info\u001b[39m\u001b[38;5;124m\"\u001b[39m\u001b[38;5;124m]//a\u001b[39m\u001b[38;5;124m'\u001b[39m)\n\u001b[0;32m      2\u001b[0m \u001b[38;5;28;01mfor\u001b[39;00m i \u001b[38;5;129;01min\u001b[39;00m C_names :\n\u001b[0;32m      3\u001b[0m     C_name\u001b[38;5;241m.\u001b[39mappend(i\u001b[38;5;241m.\u001b[39mtext)\n",
      "\u001b[1;31mNameError\u001b[0m: name 'ambi_sal' is not defined"
     ]
    }
   ],
   "source": [
    "\n",
    "C_names = ambi_sal.find_elements(By.XPATH,'//div[@class=\"company-info\"]//a')\n",
    "for i in C_names :\n",
    "    C_name.append(i.text)\n",
    "    \n",
    "salary_total = ambi_sal.find_elements(By.XPATH,'//span[@class=\"datapoints\"]')\n",
    "for i in salary_total:\n",
    "    No_Salaries.append(i.text)\n",
    "    \n",
    "avrg_salary = ambi_sal.find_elements(By.XPATH,\"//p[@class='averageCtc']\")\n",
    "for i in avrg_salary :\n",
    "    Average_Salary.append(i.text)\n",
    "    \n",
    "min_salary = ambi_sal.find_elements(By.XPATH,\"//div[@class='salary-values']\")\n",
    "for i in min_salary : Minimum_Salary.append(i.text.split(\"\\n\")[0]) \n",
    "    \n",
    "max_salary = ambi_sal.find_elements(By.XPATH,\"//div[@class='salary-values']\")\n",
    "for i in max_salary : \n",
    "    Maximum_Salary.append(i.text.split(\"\\n\")[1])   \n",
    "\n",
    "\n",
    "\n",
    "   \n",
    " "
   ]
  },
  {
   "cell_type": "code",
   "execution_count": 103,
   "id": "6d738fac",
   "metadata": {},
   "outputs": [
    {
     "ename": "NameError",
     "evalue": "name 'C_name' is not defined",
     "output_type": "error",
     "traceback": [
      "\u001b[1;31m---------------------------------------------------------------------------\u001b[0m",
      "\u001b[1;31mNameError\u001b[0m                                 Traceback (most recent call last)",
      "Input \u001b[1;32mIn [103]\u001b[0m, in \u001b[0;36m<cell line: 1>\u001b[1;34m()\u001b[0m\n\u001b[1;32m----> 1\u001b[0m \u001b[38;5;28mprint\u001b[39m(\u001b[38;5;28mlen\u001b[39m(\u001b[43mC_name\u001b[49m),\u001b[38;5;28mlen\u001b[39m(No_Salaries),\u001b[38;5;28mlen\u001b[39m(Average_Salary),\u001b[38;5;28mlen\u001b[39m(Minimum_Salary),\u001b[38;5;28mlen\u001b[39m(Maximum_Salary))\n",
      "\u001b[1;31mNameError\u001b[0m: name 'C_name' is not defined"
     ]
    }
   ],
   "source": [
    "print(len(C_name),len(No_Salaries),len(Average_Salary),len(Minimum_Salary),len(Maximum_Salary))"
   ]
  },
  {
   "cell_type": "code",
   "execution_count": 104,
   "id": "6f04f1e8",
   "metadata": {},
   "outputs": [
    {
     "ename": "NameError",
     "evalue": "name 'C_name' is not defined",
     "output_type": "error",
     "traceback": [
      "\u001b[1;31m---------------------------------------------------------------------------\u001b[0m",
      "\u001b[1;31mNameError\u001b[0m                                 Traceback (most recent call last)",
      "Input \u001b[1;32mIn [104]\u001b[0m, in \u001b[0;36m<cell line: 1>\u001b[1;34m()\u001b[0m\n\u001b[1;32m----> 1\u001b[0m Ambi_Salary \u001b[38;5;241m=\u001b[39m pd\u001b[38;5;241m.\u001b[39mDataFrame({\u001b[38;5;124m'\u001b[39m\u001b[38;5;124mCompany_name\u001b[39m\u001b[38;5;124m'\u001b[39m:\u001b[43mC_name\u001b[49m,\u001b[38;5;124m'\u001b[39m\u001b[38;5;124mTotal_Salary_Records\u001b[39m\u001b[38;5;124m'\u001b[39m:No_Salaries,\u001b[38;5;124m'\u001b[39m\u001b[38;5;124mAverage_Salary\u001b[39m\u001b[38;5;124m'\u001b[39m:Average_Salary,\u001b[38;5;124m'\u001b[39m\u001b[38;5;124mMinimum_Salary\u001b[39m\u001b[38;5;124m'\u001b[39m:Minimum_Salary,\u001b[38;5;124m'\u001b[39m\u001b[38;5;124mMaximum_Salary\u001b[39m\u001b[38;5;124m'\u001b[39m:Maximum_Salary})[\u001b[38;5;241m0\u001b[39m:\u001b[38;5;241m10\u001b[39m]\n\u001b[0;32m      2\u001b[0m Ambi_Salary\n",
      "\u001b[1;31mNameError\u001b[0m: name 'C_name' is not defined"
     ]
    }
   ],
   "source": [
    "Ambi_Salary = pd.DataFrame({'Company_name':C_name,'Total_Salary_Records':No_Salaries,'Average_Salary':Average_Salary,'Minimum_Salary':Minimum_Salary,'Maximum_Salary':Maximum_Salary})[0:10]\n",
    "Ambi_Salary"
   ]
  },
  {
   "cell_type": "code",
   "execution_count": null,
   "id": "d6f5f131",
   "metadata": {},
   "outputs": [],
   "source": []
  },
  {
   "cell_type": "code",
   "execution_count": null,
   "id": "2c3d5785",
   "metadata": {},
   "outputs": [],
   "source": []
  }
 ],
 "metadata": {
  "kernelspec": {
   "display_name": "Python 3 (ipykernel)",
   "language": "python",
   "name": "python3"
  },
  "language_info": {
   "codemirror_mode": {
    "name": "ipython",
    "version": 3
   },
   "file_extension": ".py",
   "mimetype": "text/x-python",
   "name": "python",
   "nbconvert_exporter": "python",
   "pygments_lexer": "ipython3",
   "version": "3.9.12"
  }
 },
 "nbformat": 4,
 "nbformat_minor": 5
}
